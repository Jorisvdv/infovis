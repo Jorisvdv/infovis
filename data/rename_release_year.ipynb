{
 "nbformat": 4,
 "nbformat_minor": 2,
 "metadata": {
  "language_info": {
   "name": "python",
   "codemirror_mode": {
    "name": "ipython",
    "version": 3
   },
   "version": "3.8.2-final"
  },
  "orig_nbformat": 2,
  "file_extension": ".py",
  "mimetype": "text/x-python",
  "name": "python",
  "npconvert_exporter": "python",
  "pygments_lexer": "ipython3",
  "version": 3,
  "kernelspec": {
   "name": "python37664bitinfovisconda0ba2b6af458d40c291dca02ff5eedb2f",
   "display_name": "Python 3.7.6 64-bit ('infovis': conda)"
  }
 },
 "cells": [
  {
   "cell_type": "code",
   "execution_count": 2,
   "metadata": {},
   "outputs": [],
   "source": [
    "import pandas as pd\n",
    "import pickle"
   ]
  },
  {
   "cell_type": "code",
   "execution_count": 4,
   "metadata": {},
   "outputs": [],
   "source": [
    "reduced_genre_df = pickle.load(open('song_data_20200304.pickle',\"rb\"))"
   ]
  },
  {
   "cell_type": "code",
   "execution_count": 7,
   "metadata": {},
   "outputs": [
    {
     "data": {
      "text/html": "<div>\n<style scoped>\n    .dataframe tbody tr th:only-of-type {\n        vertical-align: middle;\n    }\n\n    .dataframe tbody tr th {\n        vertical-align: top;\n    }\n\n    .dataframe thead th {\n        text-align: right;\n    }\n</style>\n<table border=\"1\" class=\"dataframe\">\n  <thead>\n    <tr style=\"text-align: right;\">\n      <th></th>\n      <th>title</th>\n      <th>artist</th>\n      <th>year</th>\n      <th>track_id</th>\n      <th>1999</th>\n      <th>2000</th>\n      <th>2001</th>\n      <th>2002</th>\n      <th>2003</th>\n      <th>2004</th>\n      <th>...</th>\n      <th>acousticness</th>\n      <th>danceability</th>\n      <th>energy</th>\n      <th>instrumentalness</th>\n      <th>liveness</th>\n      <th>loudness</th>\n      <th>speechiness</th>\n      <th>tempo</th>\n      <th>valence</th>\n      <th>genre</th>\n    </tr>\n  </thead>\n  <tbody>\n    <tr>\n      <th>0</th>\n      <td>Bohemian Rhapsody</td>\n      <td>Queen</td>\n      <td>1975</td>\n      <td>7tFiyTwD0nx5a1eklYtX2J</td>\n      <td>1</td>\n      <td>1</td>\n      <td>1</td>\n      <td>1</td>\n      <td>1</td>\n      <td>1</td>\n      <td>...</td>\n      <td>0.28800</td>\n      <td>0.392</td>\n      <td>0.402</td>\n      <td>0.000000</td>\n      <td>0.2430</td>\n      <td>-9.961</td>\n      <td>0.0536</td>\n      <td>143.883</td>\n      <td>0.228</td>\n      <td>Rock</td>\n    </tr>\n    <tr>\n      <th>1</th>\n      <td>Hotel California</td>\n      <td>Eagles</td>\n      <td>1977</td>\n      <td>40riOy7x9W7GXjyGp4pjAv</td>\n      <td>2</td>\n      <td>4</td>\n      <td>3</td>\n      <td>3</td>\n      <td>2</td>\n      <td>2</td>\n      <td>...</td>\n      <td>0.00574</td>\n      <td>0.579</td>\n      <td>0.508</td>\n      <td>0.000494</td>\n      <td>0.0575</td>\n      <td>-9.484</td>\n      <td>0.0270</td>\n      <td>147.125</td>\n      <td>0.609</td>\n      <td>Classic rock</td>\n    </tr>\n    <tr>\n      <th>2</th>\n      <td>Child In Time</td>\n      <td>Deep Purple</td>\n      <td>1972</td>\n      <td>5TrfusgKC1BYic5LaWCoKm</td>\n      <td>3</td>\n      <td>2</td>\n      <td>2</td>\n      <td>2</td>\n      <td>3</td>\n      <td>3</td>\n      <td>...</td>\n      <td>0.17000</td>\n      <td>0.338</td>\n      <td>0.461</td>\n      <td>0.564000</td>\n      <td>0.0927</td>\n      <td>-10.740</td>\n      <td>0.0396</td>\n      <td>126.698</td>\n      <td>0.351</td>\n      <td>Classic rock</td>\n    </tr>\n    <tr>\n      <th>3</th>\n      <td>Stairway To Heaven</td>\n      <td>Led Zeppelin</td>\n      <td>1971</td>\n      <td>5CQ30WqJwcep0pYcV4AMNc</td>\n      <td>4</td>\n      <td>3</td>\n      <td>4</td>\n      <td>4</td>\n      <td>4</td>\n      <td>4</td>\n      <td>...</td>\n      <td>0.58000</td>\n      <td>0.338</td>\n      <td>0.340</td>\n      <td>0.003200</td>\n      <td>0.1160</td>\n      <td>-12.049</td>\n      <td>0.0339</td>\n      <td>82.433</td>\n      <td>0.197</td>\n      <td>Classic rock</td>\n    </tr>\n    <tr>\n      <th>4</th>\n      <td>Paradise By The Dashboard Light</td>\n      <td>Meat Loaf</td>\n      <td>1978</td>\n      <td>2g7gviEeJr6pyxO7G35EWQ</td>\n      <td>5</td>\n      <td>5</td>\n      <td>5</td>\n      <td>5</td>\n      <td>5</td>\n      <td>6</td>\n      <td>...</td>\n      <td>0.21400</td>\n      <td>0.326</td>\n      <td>0.872</td>\n      <td>0.000000</td>\n      <td>0.4610</td>\n      <td>-7.602</td>\n      <td>0.1220</td>\n      <td>173.381</td>\n      <td>0.492</td>\n      <td>Soft rock</td>\n    </tr>\n  </tbody>\n</table>\n<p>5 rows × 42 columns</p>\n</div>",
      "text/plain": "                             title        artist  year  \\\n0                Bohemian Rhapsody         Queen  1975   \n1                 Hotel California        Eagles  1977   \n2                    Child In Time   Deep Purple  1972   \n3               Stairway To Heaven  Led Zeppelin  1971   \n4  Paradise By The Dashboard Light     Meat Loaf  1978   \n\n                 track_id  1999  2000  2001  2002  2003  2004  ...  \\\n0  7tFiyTwD0nx5a1eklYtX2J     1     1     1     1     1     1  ...   \n1  40riOy7x9W7GXjyGp4pjAv     2     4     3     3     2     2  ...   \n2  5TrfusgKC1BYic5LaWCoKm     3     2     2     2     3     3  ...   \n3  5CQ30WqJwcep0pYcV4AMNc     4     3     4     4     4     4  ...   \n4  2g7gviEeJr6pyxO7G35EWQ     5     5     5     5     5     6  ...   \n\n   acousticness  danceability  energy  instrumentalness  liveness  loudness  \\\n0       0.28800         0.392   0.402          0.000000    0.2430    -9.961   \n1       0.00574         0.579   0.508          0.000494    0.0575    -9.484   \n2       0.17000         0.338   0.461          0.564000    0.0927   -10.740   \n3       0.58000         0.338   0.340          0.003200    0.1160   -12.049   \n4       0.21400         0.326   0.872          0.000000    0.4610    -7.602   \n\n   speechiness    tempo  valence         genre  \n0       0.0536  143.883    0.228          Rock  \n1       0.0270  147.125    0.609  Classic rock  \n2       0.0396  126.698    0.351  Classic rock  \n3       0.0339   82.433    0.197  Classic rock  \n4       0.1220  173.381    0.492     Soft rock  \n\n[5 rows x 42 columns]"
     },
     "metadata": {},
     "output_type": "display_data"
    },
    {
     "name": "stdout",
     "output_type": "stream",
     "text": "Index(['title', 'artist', 'year', 'track_id', '1999', '2000', '2001', '2002',\n       '2003', '2004', '2005', '2006', '2007', '2008', '2009', '2010', '2011',\n       '2012', '2013', '2014', '2015', '2016', '2017', '2018', '2019',\n       'artist_id', 'album_id', 'image_640', 'image_64', 'popularity',\n       'duration', 'preview_url', 'acousticness', 'danceability', 'energy',\n       'instrumentalness', 'liveness', 'loudness', 'speechiness', 'tempo',\n       'valence', 'genre'],\n      dtype='object')\n"
    }
   ],
   "source": [
    "display(reduced_genre_df.head())\n",
    "print(reduced_genre_df.columns)"
   ]
  },
  {
   "cell_type": "code",
   "execution_count": 8,
   "metadata": {},
   "outputs": [],
   "source": [
    "reduced_genre_df = reduced_genre_df.rename(columns={\"year\":\"release_year\"})"
   ]
  },
  {
   "cell_type": "code",
   "execution_count": 9,
   "metadata": {},
   "outputs": [
    {
     "data": {
      "text/html": "<div>\n<style scoped>\n    .dataframe tbody tr th:only-of-type {\n        vertical-align: middle;\n    }\n\n    .dataframe tbody tr th {\n        vertical-align: top;\n    }\n\n    .dataframe thead th {\n        text-align: right;\n    }\n</style>\n<table border=\"1\" class=\"dataframe\">\n  <thead>\n    <tr style=\"text-align: right;\">\n      <th></th>\n      <th>title</th>\n      <th>artist</th>\n      <th>release_year</th>\n      <th>track_id</th>\n      <th>1999</th>\n      <th>2000</th>\n      <th>2001</th>\n      <th>2002</th>\n      <th>2003</th>\n      <th>2004</th>\n      <th>...</th>\n      <th>acousticness</th>\n      <th>danceability</th>\n      <th>energy</th>\n      <th>instrumentalness</th>\n      <th>liveness</th>\n      <th>loudness</th>\n      <th>speechiness</th>\n      <th>tempo</th>\n      <th>valence</th>\n      <th>genre</th>\n    </tr>\n  </thead>\n  <tbody>\n    <tr>\n      <th>0</th>\n      <td>Bohemian Rhapsody</td>\n      <td>Queen</td>\n      <td>1975</td>\n      <td>7tFiyTwD0nx5a1eklYtX2J</td>\n      <td>1</td>\n      <td>1</td>\n      <td>1</td>\n      <td>1</td>\n      <td>1</td>\n      <td>1</td>\n      <td>...</td>\n      <td>0.28800</td>\n      <td>0.392</td>\n      <td>0.402</td>\n      <td>0.000000</td>\n      <td>0.2430</td>\n      <td>-9.961</td>\n      <td>0.0536</td>\n      <td>143.883</td>\n      <td>0.228</td>\n      <td>Rock</td>\n    </tr>\n    <tr>\n      <th>1</th>\n      <td>Hotel California</td>\n      <td>Eagles</td>\n      <td>1977</td>\n      <td>40riOy7x9W7GXjyGp4pjAv</td>\n      <td>2</td>\n      <td>4</td>\n      <td>3</td>\n      <td>3</td>\n      <td>2</td>\n      <td>2</td>\n      <td>...</td>\n      <td>0.00574</td>\n      <td>0.579</td>\n      <td>0.508</td>\n      <td>0.000494</td>\n      <td>0.0575</td>\n      <td>-9.484</td>\n      <td>0.0270</td>\n      <td>147.125</td>\n      <td>0.609</td>\n      <td>Classic rock</td>\n    </tr>\n    <tr>\n      <th>2</th>\n      <td>Child In Time</td>\n      <td>Deep Purple</td>\n      <td>1972</td>\n      <td>5TrfusgKC1BYic5LaWCoKm</td>\n      <td>3</td>\n      <td>2</td>\n      <td>2</td>\n      <td>2</td>\n      <td>3</td>\n      <td>3</td>\n      <td>...</td>\n      <td>0.17000</td>\n      <td>0.338</td>\n      <td>0.461</td>\n      <td>0.564000</td>\n      <td>0.0927</td>\n      <td>-10.740</td>\n      <td>0.0396</td>\n      <td>126.698</td>\n      <td>0.351</td>\n      <td>Classic rock</td>\n    </tr>\n    <tr>\n      <th>3</th>\n      <td>Stairway To Heaven</td>\n      <td>Led Zeppelin</td>\n      <td>1971</td>\n      <td>5CQ30WqJwcep0pYcV4AMNc</td>\n      <td>4</td>\n      <td>3</td>\n      <td>4</td>\n      <td>4</td>\n      <td>4</td>\n      <td>4</td>\n      <td>...</td>\n      <td>0.58000</td>\n      <td>0.338</td>\n      <td>0.340</td>\n      <td>0.003200</td>\n      <td>0.1160</td>\n      <td>-12.049</td>\n      <td>0.0339</td>\n      <td>82.433</td>\n      <td>0.197</td>\n      <td>Classic rock</td>\n    </tr>\n    <tr>\n      <th>4</th>\n      <td>Paradise By The Dashboard Light</td>\n      <td>Meat Loaf</td>\n      <td>1978</td>\n      <td>2g7gviEeJr6pyxO7G35EWQ</td>\n      <td>5</td>\n      <td>5</td>\n      <td>5</td>\n      <td>5</td>\n      <td>5</td>\n      <td>6</td>\n      <td>...</td>\n      <td>0.21400</td>\n      <td>0.326</td>\n      <td>0.872</td>\n      <td>0.000000</td>\n      <td>0.4610</td>\n      <td>-7.602</td>\n      <td>0.1220</td>\n      <td>173.381</td>\n      <td>0.492</td>\n      <td>Soft rock</td>\n    </tr>\n  </tbody>\n</table>\n<p>5 rows × 42 columns</p>\n</div>",
      "text/plain": "                             title        artist  release_year  \\\n0                Bohemian Rhapsody         Queen          1975   \n1                 Hotel California        Eagles          1977   \n2                    Child In Time   Deep Purple          1972   \n3               Stairway To Heaven  Led Zeppelin          1971   \n4  Paradise By The Dashboard Light     Meat Loaf          1978   \n\n                 track_id  1999  2000  2001  2002  2003  2004  ...  \\\n0  7tFiyTwD0nx5a1eklYtX2J     1     1     1     1     1     1  ...   \n1  40riOy7x9W7GXjyGp4pjAv     2     4     3     3     2     2  ...   \n2  5TrfusgKC1BYic5LaWCoKm     3     2     2     2     3     3  ...   \n3  5CQ30WqJwcep0pYcV4AMNc     4     3     4     4     4     4  ...   \n4  2g7gviEeJr6pyxO7G35EWQ     5     5     5     5     5     6  ...   \n\n   acousticness  danceability  energy  instrumentalness  liveness  loudness  \\\n0       0.28800         0.392   0.402          0.000000    0.2430    -9.961   \n1       0.00574         0.579   0.508          0.000494    0.0575    -9.484   \n2       0.17000         0.338   0.461          0.564000    0.0927   -10.740   \n3       0.58000         0.338   0.340          0.003200    0.1160   -12.049   \n4       0.21400         0.326   0.872          0.000000    0.4610    -7.602   \n\n   speechiness    tempo  valence         genre  \n0       0.0536  143.883    0.228          Rock  \n1       0.0270  147.125    0.609  Classic rock  \n2       0.0396  126.698    0.351  Classic rock  \n3       0.0339   82.433    0.197  Classic rock  \n4       0.1220  173.381    0.492     Soft rock  \n\n[5 rows x 42 columns]"
     },
     "metadata": {},
     "output_type": "display_data"
    },
    {
     "name": "stdout",
     "output_type": "stream",
     "text": "Index(['title', 'artist', 'release_year', 'track_id', '1999', '2000', '2001',\n       '2002', '2003', '2004', '2005', '2006', '2007', '2008', '2009', '2010',\n       '2011', '2012', '2013', '2014', '2015', '2016', '2017', '2018', '2019',\n       'artist_id', 'album_id', 'image_640', 'image_64', 'popularity',\n       'duration', 'preview_url', 'acousticness', 'danceability', 'energy',\n       'instrumentalness', 'liveness', 'loudness', 'speechiness', 'tempo',\n       'valence', 'genre'],\n      dtype='object')\n"
    }
   ],
   "source": [
    "display(reduced_genre_df.head())\n",
    "print(reduced_genre_df.columns)"
   ]
  },
  {
   "cell_type": "code",
   "execution_count": 10,
   "metadata": {},
   "outputs": [],
   "source": [
    "# Save files\n",
    "reduced_genre_df.to_json('song_data_20200304.json', orient='records', indent=4)\n",
    "reduced_genre_df.to_csv('song_data_20200304.csv', index = False)\n",
    "reduced_genre_df.to_pickle('song_data_20200304.pickle')"
   ]
  },
  {
   "cell_type": "code",
   "execution_count": null,
   "metadata": {},
   "outputs": [],
   "source": []
  }
 ]
}