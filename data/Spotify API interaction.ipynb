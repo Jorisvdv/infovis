{
 "cells": [
  {
   "cell_type": "markdown",
   "metadata": {},
   "source": [
    "Interaction spotify API"
   ]
  },
  {
   "cell_type": "code",
   "execution_count": null,
   "metadata": {},
   "outputs": [],
   "source": [
    "# Depencencies\n",
    "\n",
    "import json\n",
    "import requests\n",
    "from requests_oauthlib import OAuth2Session\n",
    "from oauthlib.oauth2 import BackendApplicationClient\n",
    "import os.path"
   ]
  },
  {
   "cell_type": "code",
   "execution_count": null,
   "metadata": {},
   "outputs": [],
   "source": [
    "# Load credentials\n",
    "# client_id = os.getenv(\"spotify_client_id\")\n",
    "# client_secret = os.getenv(\"spotify_client_secret\")\n",
    "# ids ={\n",
    "#     \"client_id\":client_id, \"client_secret\":client_secret\n",
    "# }\n",
    "\n",
    "with open(os.path.join(os.path.dirname(__file__), 'login_token.json')) as id_file:\n",
    "    ids = json.load(id_file)\n",
    "\n",
    "# Get authentication token\n",
    "token_url = \"https://accounts.spotify.com/api/token\"\n",
    "client = BackendApplicationClient(client_id=ids[\"client_id\"])\n",
    "oauth = OAuth2Session(client=client)\n",
    "token = oauth.fetch_token(token_url=token_url, client_id=ids[\"client_id\"], client_secret=ids[\"client_secret\"])"
   ]
  },
  {
   "cell_type": "code",
   "execution_count": null,
   "metadata": {},
   "outputs": [],
   "source": [
    "url_search = \"https://api.spotify.com/v1/search\"\n",
    "url_track = \"https://api.spotify.com/v1/tracks\"\n",
    "# ids\tRequired. A comma-separated list of the Spotify IDs for the tracks.\n",
    "# Maximum: 50 IDs.\n",
    "url_features = \"https://api.spotify.com/v1/audio-features\" \n",
    "# ids\tRequired. A comma-separated list of the Spotify IDs for the tracks.\n",
    "# Maximum: 100 IDs.\n",
    "url_audioAnalysis = \"https://api.spotify.com/v1/audio-analysis/{id}\"\n",
    "# Max 1 ID\n",
    "\n",
    "# Set header for spotify api\n",
    "headers = {\n",
    "    \"Content-Type\": \"application/json\"\n",
    "}\n",
    "\n",
    "\n",
    "def search_query(title, artist, year=None, use_year=True, quotation_marks=True, formatting = False):\n",
    "    if use_year & quotation_marks:\n",
    "        return r'https://api.spotify.com/v1/search?query=track:\"{}\"+artist:\"{}\"+year:{}&type=track&offset=0&limit=1'.format(\n",
    "            title.replace(\" \",\"%20\"),\n",
    "            artist.replace(\" \",\"%20\"),\n",
    "            year)\n",
    "    elif use_year:\n",
    "        return r'https://api.spotify.com/v1/search?query=track:\"{}\"+artist:\"{}\"&type=track&offset=0&limit=1'.format(\n",
    "            title.replace(\" \",\"%20\"),\n",
    "            artist.replace(\" \",\"%20\"))\n",
    "    elif formatting:\n",
    "        return r'https://api.spotify.com/v1/search?query=track:{}+artist:{}&type=track&offset=0&limit=1'.format(\n",
    "            title.replace(\" \",\"%20\"),\n",
    "            artist.replace(\" \",\"%20\"))\n",
    "    else:\n",
    "        return r'https://api.spotify.com/v1/search?query={}%20{}&type=track&offset=0&limit=1'.format(\n",
    "            title.replace(\" \",\"%20\"),\n",
    "            artist.replace(\" \",\"%20\"))\n",
    "\n",
    "def info_track(ids, type=\"tracks\"):\n",
    "    if type == \"tracks\":\n",
    "        # Test if max length not exceeded\n",
    "        if len(ids) > 50:\n",
    "            assert BaseException(\"More than 50 ids given\")\n",
    "        # Return track id query\n",
    "        return f\"{url_track}\"+\",\".join(ids)\n",
    "    \n",
    "    if type == \"features\":\n",
    "        # Test if max length not exceeded\n",
    "        if len(ids) > 100:\n",
    "            assert BaseException(\"More than 100 ids given\")\n",
    "        # Return track id query\n",
    "        return f\"{url_features}\"+\",\".join(ids)\n",
    "    \n",
    "    if type == \"analysis\":\n",
    "        # Test if max length not exceeded\n",
    "        if len(ids) > 1:\n",
    "            assert BaseException(\"More than 1 id given\")\n",
    "        # Return track id query\n",
    "        return f\"{url_analysis}/{ids[0]}\"\n"
   ]
  },
  {
   "cell_type": "code",
   "execution_count": null,
   "metadata": {},
   "outputs": [],
   "source": [
    "def spotify_api(query):\n",
    "    response = oauth.get(\n",
    "        query,\n",
    "        headers=headers)\n",
    "    return response"
   ]
  },
  {
   "cell_type": "code",
   "execution_count": null,
   "metadata": {},
   "outputs": [],
   "source": [
    "def jprint(obj):\n",
    "    # create a formatted string of the Python JSON object\n",
    "    text = json.dumps(obj, sort_keys=True, indent=4)\n",
    "    print(text)"
   ]
  }
 ],
 "metadata": {
  "kernelspec": {
   "display_name": "Python 3",
   "language": "python",
   "name": "python3"
  },
  "language_info": {
   "codemirror_mode": {
    "name": "ipython",
    "version": 3
   },
   "file_extension": ".py",
   "mimetype": "text/x-python",
   "name": "python",
   "nbconvert_exporter": "python",
   "pygments_lexer": "ipython3",
   "version": "3.7.1"
  }
 },
 "nbformat": 4,
 "nbformat_minor": 2
}
