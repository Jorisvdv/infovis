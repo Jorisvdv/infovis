{
 "cells": [
  {
   "cell_type": "code",
   "execution_count": 8,
   "metadata": {},
   "outputs": [],
   "source": [
    "import pandas as pd\n",
    "import numpy as np\n",
    "import os\n",
    "# import matplotlib.pyplot as plt\n",
    "import re\n",
    "import glob\n",
    "import json\n",
    "import requests\n",
    "import time\n",
    "from search_spotify import spotify_api, search_query, jprint"
   ]
  },
  {
   "cell_type": "code",
   "execution_count": 9,
   "metadata": {},
   "outputs": [
    {
     "name": "stdout",
     "output_type": "stream",
     "text": "TOP-2000-1999.xlsx TOP-2000-2000.xlsx TOP-2000-2001.xlsx TOP-2000-2002.xlsx TOP-2000-2003.xlsx TOP-2000-2004.xlsx TOP-2000-2005.xlsx TOP-2000-2006.xlsx TOP-2000-2007.xlsx TOP-2000-2008.xlsx TOP-2000-2009.xlsx TOP-2000-2010.xlsx TOP-2000-2011.xlsx TOP-2000-2012.xlsx TOP-2000-2013.xlsx TOP-2000-2014.xlsx TOP-2000-2015.xlsx TOP-2000-2016.xlsx TOP-2000-2017.xlsx TOP-2000-2018.xlsx TOP-2000-2019.xlsx\n"
    }
   ],
   "source": [
    "path = os.getcwd()\n",
    "# find files\n",
    "files = sorted(os.listdir(os.path.join(path,\"excel\")))\n",
    "print(*files)"
   ]
  },
  {
   "cell_type": "code",
   "execution_count": 10,
   "metadata": {},
   "outputs": [
    {
     "data": {
      "text/html": "<div>\n<style scoped>\n    .dataframe tbody tr th:only-of-type {\n        vertical-align: middle;\n    }\n\n    .dataframe tbody tr th {\n        vertical-align: top;\n    }\n\n    .dataframe thead th {\n        text-align: right;\n    }\n</style>\n<table border=\"1\" class=\"dataframe\">\n  <thead>\n    <tr style=\"text-align: right;\">\n      <th></th>\n      <th>titel</th>\n      <th>artiest</th>\n      <th>jaar</th>\n      <th>1999</th>\n    </tr>\n  </thead>\n  <tbody>\n    <tr>\n      <th>0</th>\n      <td>Bohemian Rhapsody</td>\n      <td>Queen</td>\n      <td>1975</td>\n      <td>1</td>\n    </tr>\n    <tr>\n      <th>1</th>\n      <td>Hotel California</td>\n      <td>Eagles</td>\n      <td>1977</td>\n      <td>2</td>\n    </tr>\n    <tr>\n      <th>2</th>\n      <td>Child In Time</td>\n      <td>Deep Purple</td>\n      <td>1972</td>\n      <td>3</td>\n    </tr>\n    <tr>\n      <th>3</th>\n      <td>Stairway To Heaven</td>\n      <td>Led Zeppelin</td>\n      <td>1971</td>\n      <td>4</td>\n    </tr>\n    <tr>\n      <th>4</th>\n      <td>Paradise By The Dashboard Light</td>\n      <td>Meat Loaf</td>\n      <td>1978</td>\n      <td>5</td>\n    </tr>\n  </tbody>\n</table>\n</div>",
      "text/plain": "                             titel       artiest  jaar  1999\n0                Bohemian Rhapsody         Queen  1975     1\n1                 Hotel California        Eagles  1977     2\n2                    Child In Time   Deep Purple  1972     3\n3               Stairway To Heaven  Led Zeppelin  1971     4\n4  Paradise By The Dashboard Light     Meat Loaf  1978     5"
     },
     "execution_count": 10,
     "metadata": {},
     "output_type": "execute_result"
    }
   ],
   "source": [
    "top_2000 = pd.read_excel(os.path.join(path,\"excel\",files[0]))\n",
    "\n",
    "# Move ranking to last column\n",
    "top_2000 = top_2000[['titel','artiest','jaar',1999]]\n",
    "\n",
    "top_2000.head()"
   ]
  },
  {
   "cell_type": "code",
   "execution_count": 11,
   "metadata": {},
   "outputs": [
    {
     "name": "stdout",
     "output_type": "stream",
     "text": "Filename: TOP-2000-2000.xlsx\nFilename: TOP-2000-2001.xlsx\nFilename: TOP-2000-2002.xlsx\nFilename: TOP-2000-2003.xlsx\nFilename: TOP-2000-2004.xlsx\nFilename: TOP-2000-2005.xlsx\nFilename: TOP-2000-2006.xlsx\nFilename: TOP-2000-2007.xlsx\nFilename: TOP-2000-2008.xlsx\nFilename: TOP-2000-2009.xlsx\nFilename: TOP-2000-2010.xlsx\nFilename: TOP-2000-2011.xlsx\nFilename: TOP-2000-2012.xlsx\nFilename: TOP-2000-2013.xlsx\nFilename: TOP-2000-2014.xlsx\nFilename: TOP-2000-2015.xlsx\nFilename: TOP-2000-2016.xlsx\nFilename: TOP-2000-2017.xlsx\nFilename: TOP-2000-2018.xlsx\n"
    }
   ],
   "source": [
    "for file in files[1:-1]:\n",
    "    print(f\"Filename: {file}\")\n",
    "    year = pd.read_excel(os.path.join(path,\"Excel\",file))\n",
    "\n",
    "    top_2000 = pd.merge(top_2000,year, on=['titel','artiest','jaar'], how='outer')\n",
    "    \n"
   ]
  },
  {
   "cell_type": "code",
   "execution_count": 12,
   "metadata": {},
   "outputs": [
    {
     "data": {
      "text/html": "<div>\n<style scoped>\n    .dataframe tbody tr th:only-of-type {\n        vertical-align: middle;\n    }\n\n    .dataframe tbody tr th {\n        vertical-align: top;\n    }\n\n    .dataframe thead th {\n        text-align: right;\n    }\n</style>\n<table border=\"1\" class=\"dataframe\">\n  <thead>\n    <tr style=\"text-align: right;\">\n      <th></th>\n      <th>titel</th>\n      <th>artiest</th>\n      <th>jaar</th>\n      <th>1999</th>\n      <th>2000</th>\n      <th>2001</th>\n      <th>2002</th>\n      <th>2003</th>\n      <th>2004</th>\n      <th>2005</th>\n      <th>...</th>\n      <th>2009</th>\n      <th>2010</th>\n      <th>2011</th>\n      <th>2012</th>\n      <th>2013</th>\n      <th>2014</th>\n      <th>2015</th>\n      <th>2016</th>\n      <th>2017</th>\n      <th>2018</th>\n    </tr>\n  </thead>\n  <tbody>\n    <tr>\n      <th>0</th>\n      <td>Bohemian Rhapsody</td>\n      <td>Queen</td>\n      <td>1975</td>\n      <td>1.0</td>\n      <td>1.0</td>\n      <td>1.0</td>\n      <td>1.0</td>\n      <td>1.0</td>\n      <td>1.0</td>\n      <td>2.0</td>\n      <td>...</td>\n      <td>1.0</td>\n      <td>2.0</td>\n      <td>1.0</td>\n      <td>1.0</td>\n      <td>1.0</td>\n      <td>2.0</td>\n      <td>2.0</td>\n      <td>1.0</td>\n      <td>1.0</td>\n      <td>1.0</td>\n    </tr>\n    <tr>\n      <th>1</th>\n      <td>Hotel California</td>\n      <td>Eagles</td>\n      <td>1977</td>\n      <td>2.0</td>\n      <td>4.0</td>\n      <td>3.0</td>\n      <td>3.0</td>\n      <td>2.0</td>\n      <td>2.0</td>\n      <td>3.0</td>\n      <td>...</td>\n      <td>2.0</td>\n      <td>1.0</td>\n      <td>2.0</td>\n      <td>2.0</td>\n      <td>2.0</td>\n      <td>1.0</td>\n      <td>3.0</td>\n      <td>2.0</td>\n      <td>2.0</td>\n      <td>2.0</td>\n    </tr>\n    <tr>\n      <th>2</th>\n      <td>Child In Time</td>\n      <td>Deep Purple</td>\n      <td>1972</td>\n      <td>3.0</td>\n      <td>2.0</td>\n      <td>2.0</td>\n      <td>2.0</td>\n      <td>3.0</td>\n      <td>3.0</td>\n      <td>4.0</td>\n      <td>...</td>\n      <td>5.0</td>\n      <td>4.0</td>\n      <td>3.0</td>\n      <td>4.0</td>\n      <td>4.0</td>\n      <td>4.0</td>\n      <td>8.0</td>\n      <td>5.0</td>\n      <td>5.0</td>\n      <td>6.0</td>\n    </tr>\n    <tr>\n      <th>3</th>\n      <td>Stairway To Heaven</td>\n      <td>Led Zeppelin</td>\n      <td>1971</td>\n      <td>4.0</td>\n      <td>3.0</td>\n      <td>4.0</td>\n      <td>4.0</td>\n      <td>4.0</td>\n      <td>4.0</td>\n      <td>5.0</td>\n      <td>...</td>\n      <td>4.0</td>\n      <td>5.0</td>\n      <td>5.0</td>\n      <td>3.0</td>\n      <td>3.0</td>\n      <td>3.0</td>\n      <td>5.0</td>\n      <td>3.0</td>\n      <td>3.0</td>\n      <td>4.0</td>\n    </tr>\n    <tr>\n      <th>4</th>\n      <td>Paradise By The Dashboard Light</td>\n      <td>Meat Loaf</td>\n      <td>1978</td>\n      <td>5.0</td>\n      <td>5.0</td>\n      <td>5.0</td>\n      <td>5.0</td>\n      <td>5.0</td>\n      <td>6.0</td>\n      <td>6.0</td>\n      <td>...</td>\n      <td>12.0</td>\n      <td>9.0</td>\n      <td>11.0</td>\n      <td>19.0</td>\n      <td>22.0</td>\n      <td>17.0</td>\n      <td>30.0</td>\n      <td>27.0</td>\n      <td>27.0</td>\n      <td>29.0</td>\n    </tr>\n    <tr>\n      <th>5</th>\n      <td>Yesterday</td>\n      <td>Beatles</td>\n      <td>1965</td>\n      <td>6.0</td>\n      <td>8.0</td>\n      <td>24.0</td>\n      <td>30.0</td>\n      <td>34.0</td>\n      <td>37.0</td>\n      <td>46.0</td>\n      <td>...</td>\n      <td>44.0</td>\n      <td>33.0</td>\n      <td>50.0</td>\n      <td>85.0</td>\n      <td>76.0</td>\n      <td>89.0</td>\n      <td>96.0</td>\n      <td>97.0</td>\n      <td>87.0</td>\n      <td>122.0</td>\n    </tr>\n    <tr>\n      <th>6</th>\n      <td>Imagine</td>\n      <td>John Lennon</td>\n      <td>1971</td>\n      <td>7.0</td>\n      <td>7.0</td>\n      <td>11.0</td>\n      <td>11.0</td>\n      <td>13.0</td>\n      <td>9.0</td>\n      <td>15.0</td>\n      <td>...</td>\n      <td>41.0</td>\n      <td>26.0</td>\n      <td>28.0</td>\n      <td>22.0</td>\n      <td>23.0</td>\n      <td>38.0</td>\n      <td>1.0</td>\n      <td>12.0</td>\n      <td>16.0</td>\n      <td>16.0</td>\n    </tr>\n    <tr>\n      <th>7</th>\n      <td>Angie</td>\n      <td>Rolling Stones</td>\n      <td>1973</td>\n      <td>8.0</td>\n      <td>9.0</td>\n      <td>22.0</td>\n      <td>12.0</td>\n      <td>10.0</td>\n      <td>13.0</td>\n      <td>18.0</td>\n      <td>...</td>\n      <td>36.0</td>\n      <td>35.0</td>\n      <td>41.0</td>\n      <td>26.0</td>\n      <td>46.0</td>\n      <td>54.0</td>\n      <td>77.0</td>\n      <td>78.0</td>\n      <td>70.0</td>\n      <td>79.0</td>\n    </tr>\n    <tr>\n      <th>8</th>\n      <td>Bridge Over Troubled Water</td>\n      <td>Simon &amp; Garfunkel</td>\n      <td>1970</td>\n      <td>9.0</td>\n      <td>27.0</td>\n      <td>17.0</td>\n      <td>32.0</td>\n      <td>32.0</td>\n      <td>45.0</td>\n      <td>42.0</td>\n      <td>...</td>\n      <td>39.0</td>\n      <td>32.0</td>\n      <td>33.0</td>\n      <td>38.0</td>\n      <td>38.0</td>\n      <td>48.0</td>\n      <td>59.0</td>\n      <td>52.0</td>\n      <td>58.0</td>\n      <td>61.0</td>\n    </tr>\n    <tr>\n      <th>9</th>\n      <td>A Whiter Shade Of Pale</td>\n      <td>Procol Harum</td>\n      <td>1967</td>\n      <td>10.0</td>\n      <td>18.0</td>\n      <td>23.0</td>\n      <td>20.0</td>\n      <td>22.0</td>\n      <td>28.0</td>\n      <td>22.0</td>\n      <td>...</td>\n      <td>50.0</td>\n      <td>42.0</td>\n      <td>65.0</td>\n      <td>61.0</td>\n      <td>83.0</td>\n      <td>98.0</td>\n      <td>105.0</td>\n      <td>119.0</td>\n      <td>117.0</td>\n      <td>153.0</td>\n    </tr>\n  </tbody>\n</table>\n<p>10 rows × 23 columns</p>\n</div>",
      "text/plain": "                             titel            artiest  jaar  1999  2000  2001  \\\n0                Bohemian Rhapsody              Queen  1975   1.0   1.0   1.0   \n1                 Hotel California             Eagles  1977   2.0   4.0   3.0   \n2                    Child In Time        Deep Purple  1972   3.0   2.0   2.0   \n3               Stairway To Heaven       Led Zeppelin  1971   4.0   3.0   4.0   \n4  Paradise By The Dashboard Light          Meat Loaf  1978   5.0   5.0   5.0   \n5                        Yesterday            Beatles  1965   6.0   8.0  24.0   \n6                          Imagine        John Lennon  1971   7.0   7.0  11.0   \n7                            Angie     Rolling Stones  1973   8.0   9.0  22.0   \n8       Bridge Over Troubled Water  Simon & Garfunkel  1970   9.0  27.0  17.0   \n9           A Whiter Shade Of Pale       Procol Harum  1967  10.0  18.0  23.0   \n\n   2002  2003  2004  2005  ...  2009  2010  2011  2012  2013  2014   2015  \\\n0   1.0   1.0   1.0   2.0  ...   1.0   2.0   1.0   1.0   1.0   2.0    2.0   \n1   3.0   2.0   2.0   3.0  ...   2.0   1.0   2.0   2.0   2.0   1.0    3.0   \n2   2.0   3.0   3.0   4.0  ...   5.0   4.0   3.0   4.0   4.0   4.0    8.0   \n3   4.0   4.0   4.0   5.0  ...   4.0   5.0   5.0   3.0   3.0   3.0    5.0   \n4   5.0   5.0   6.0   6.0  ...  12.0   9.0  11.0  19.0  22.0  17.0   30.0   \n5  30.0  34.0  37.0  46.0  ...  44.0  33.0  50.0  85.0  76.0  89.0   96.0   \n6  11.0  13.0   9.0  15.0  ...  41.0  26.0  28.0  22.0  23.0  38.0    1.0   \n7  12.0  10.0  13.0  18.0  ...  36.0  35.0  41.0  26.0  46.0  54.0   77.0   \n8  32.0  32.0  45.0  42.0  ...  39.0  32.0  33.0  38.0  38.0  48.0   59.0   \n9  20.0  22.0  28.0  22.0  ...  50.0  42.0  65.0  61.0  83.0  98.0  105.0   \n\n    2016   2017   2018  \n0    1.0    1.0    1.0  \n1    2.0    2.0    2.0  \n2    5.0    5.0    6.0  \n3    3.0    3.0    4.0  \n4   27.0   27.0   29.0  \n5   97.0   87.0  122.0  \n6   12.0   16.0   16.0  \n7   78.0   70.0   79.0  \n8   52.0   58.0   61.0  \n9  119.0  117.0  153.0  \n\n[10 rows x 23 columns]"
     },
     "metadata": {},
     "output_type": "display_data"
    }
   ],
   "source": [
    "## Save and view data until 2019\n",
    "display(top_2000.head(10))\n",
    "# # Save files\n",
    "# top_2000.to_json('top_2000_1999-2018.json', orient='records')\n",
    "# top_2000.to_csv('top_2000_1999-2018.csv', index = False)\n",
    "# top_2000.to_pickle('top_2000_1999-2018.pickle')"
   ]
  },
  {
   "cell_type": "code",
   "execution_count": 13,
   "metadata": {},
   "outputs": [
    {
     "name": "stdout",
     "output_type": "stream",
     "text": "{\n    \"tracks\": {\n        \"href\": \"https://api.spotify.com/v1/search?query=track%3A%22Bohemian+Rhapsody%22+artist%3A%22Queen%22+year%3A1975&type=track&offset=0&limit=1\",\n        \"items\": [\n            {\n                \"album\": {\n                    \"album_type\": \"album\",\n                    \"artists\": [\n                        {\n                            \"external_urls\": {\n                                \"spotify\": \"https://open.spotify.com/artist/1dfeR4HaWDbWqFHLkxsg1d\"\n                            },\n                            \"href\": \"https://api.spotify.com/v1/artists/1dfeR4HaWDbWqFHLkxsg1d\",\n                            \"id\": \"1dfeR4HaWDbWqFHLkxsg1d\",\n                            \"name\": \"Queen\",\n                            \"type\": \"artist\",\n                            \"uri\": \"spotify:artist:1dfeR4HaWDbWqFHLkxsg1d\"\n                        }\n                    ],\n                    \"available_markets\": [\n                        \"CA\",\n                        \"US\"\n                    ],\n                    \"external_urls\": {\n                        \"spotify\": \"https://open.spotify.com/album/6X9k3hSsvQck2OfKYdBbXr\"\n                    },\n                    \"href\": \"https://api.spotify.com/v1/albums/6X9k3hSsvQck2OfKYdBbXr\",\n                    \"id\": \"6X9k3hSsvQck2OfKYdBbXr\",\n                    \"images\": [\n                        {\n                            \"height\": 640,\n                            \"url\": \"https://i.scdn.co/image/c25ee4a2416bc6e351abce1db817fc35805ac8a6\",\n                            \"width\": 640\n                        },\n                        {\n                            \"height\": 300,\n                            \"url\": \"https://i.scdn.co/image/129a088ea15cb6777e77b08e3dad6f105fa74e1c\",\n                            \"width\": 300\n                        },\n                        {\n                            \"height\": 64,\n                            \"url\": \"https://i.scdn.co/image/e2fb26176d381198b5ed65ef395f1485d0bc47dd\",\n                            \"width\": 64\n                        }\n                    ],\n                    \"name\": \"A Night At The Opera (Deluxe Remastered Version)\",\n                    \"release_date\": \"1975-11-21\",\n                    \"release_date_precision\": \"day\",\n                    \"total_tracks\": 18,\n                    \"type\": \"album\",\n                    \"uri\": \"spotify:album:6X9k3hSsvQck2OfKYdBbXr\"\n                },\n                \"artists\": [\n                    {\n                        \"external_urls\": {\n                            \"spotify\": \"https://open.spotify.com/artist/1dfeR4HaWDbWqFHLkxsg1d\"\n                        },\n                        \"href\": \"https://api.spotify.com/v1/artists/1dfeR4HaWDbWqFHLkxsg1d\",\n                        \"id\": \"1dfeR4HaWDbWqFHLkxsg1d\",\n                        \"name\": \"Queen\",\n                        \"type\": \"artist\",\n                        \"uri\": \"spotify:artist:1dfeR4HaWDbWqFHLkxsg1d\"\n                    }\n                ],\n                \"available_markets\": [\n                    \"CA\",\n                    \"US\"\n                ],\n                \"disc_number\": 1,\n                \"duration_ms\": 354320,\n                \"explicit\": false,\n                \"external_ids\": {\n                    \"isrc\": \"GBUM71029604\"\n                },\n                \"external_urls\": {\n                    \"spotify\": \"https://open.spotify.com/track/7tFiyTwD0nx5a1eklYtX2J\"\n                },\n                \"href\": \"https://api.spotify.com/v1/tracks/7tFiyTwD0nx5a1eklYtX2J\",\n                \"id\": \"7tFiyTwD0nx5a1eklYtX2J\",\n                \"is_local\": false,\n                \"name\": \"Bohemian Rhapsody - 2011 Mix\",\n                \"popularity\": 74,\n                \"preview_url\": null,\n                \"track_number\": 11,\n                \"type\": \"track\",\n                \"uri\": \"spotify:track:7tFiyTwD0nx5a1eklYtX2J\"\n            }\n        ],\n        \"limit\": 1,\n        \"next\": \"https://api.spotify.com/v1/search?query=track%3A%22Bohemian+Rhapsody%22+artist%3A%22Queen%22+year%3A1975&type=track&offset=1&limit=1\",\n        \"offset\": 0,\n        \"previous\": null,\n        \"total\": 4\n    }\n}\nResult Found, ID: 7tFiyTwD0nx5a1eklYtX2J\n"
    }
   ],
   "source": [
    "# Test\n",
    "title = 'Bohemian Rhapsody'\n",
    "artist = \"Queen\"\n",
    "year = 1975\n",
    "\n",
    "response= spotify_api(search_query(title, artist, year)).json()\n",
    "\n",
    "jprint(response)\n",
    "\n",
    "if len(response['tracks']['items'])>0:\n",
    "    print(f\"Result Found, ID: {response['tracks']['items'][0]['id']}\")\n",
    "else:\n",
    "    print(f\"No result found, output: \\n {response}\")"
   ]
  },
  {
   "cell_type": "code",
   "execution_count": 14,
   "metadata": {},
   "outputs": [],
   "source": [
    "def searchid(df_row, verbose = False, show_missing=False):\n",
    "\n",
    "    def search_spotify(df_row, start_time, use_year=False,  quotation_marks=False, verbose = False,                                         formatting=False):\n",
    "        # Create search query\n",
    "        query = search_query(df_row.titel, df_row.artiest, df_row.jaar, use_year=use_year,\n",
    "                            quotation_marks=quotation_marks, formatting=formatting)\n",
    "        # Search spotify\n",
    "        result = spotify_api(query)\n",
    "\n",
    "        # Check is rate limit is exceeded\n",
    "        if result.status_code== 429:\n",
    "\n",
    "            sleep_time = result.headers.get(\"Retry-After\", 10)\n",
    "            time.sleep(sleep_time)\n",
    "            if verbose:\n",
    "                print(f\"Rate limit exeeded, trying again after {sleep_time} seconds\")\n",
    "\n",
    "            # Retry\n",
    "            result = spotify_api(query)\n",
    "        # Sleep for rate limiting\n",
    "        time.sleep(max(1./10 - (time.time() - start_time), 0))\n",
    "        return result\n",
    "\n",
    "\n",
    "    def evaluate(result, verbose, show_missing):\n",
    "        try:\n",
    "            result = result.json()\n",
    "            if len(result['tracks']['items'])>0:\n",
    "                id = result['tracks']['items'][0]['id']\n",
    "                if verbose:\n",
    "                    print(f\"{df_row.name}: Result Found, ID: {id}\")\n",
    "                # Return id\n",
    "                return id\n",
    "\n",
    "            else:\n",
    "                if verbose or show_missing:\n",
    "                    print(f\"{df_row.name}:No result found, output: \\n {result}\")\n",
    "                # Return None if no id found\n",
    "                return None\n",
    "        \n",
    "        except:\n",
    "            print(f\"Error, reponse:{result}\")\n",
    "            return None\n",
    "\n",
    "    result = search_spotify(df_row, start_time=time.time(), use_year=True, verbose = verbose)\n",
    "    id = evaluate(result, verbose=verbose, show_missing=False)\n",
    "    \n",
    "    if id is None:\n",
    "        # Try without year\n",
    "        if verbose:\n",
    "            print(f\"{df_row.name}:No result found, Try without year\")\n",
    "        result = search_spotify(df_row, start_time=time.time(), use_year=False)\n",
    "        id = evaluate(result, verbose=verbose, show_missing=False)\n",
    "\n",
    "        if id is None:\n",
    "            # Try without quotation marks\n",
    "            if verbose:\n",
    "                print(f\"{df_row.name}:No result found, Try without quotation marks\")\n",
    "            result = search_spotify(df_row, start_time=time.time(), use_year=False, quotation_marks=False)\n",
    "            id = evaluate(result, verbose=verbose, show_missing=False)\n",
    "\n",
    "            if id is None:\n",
    "                # Try Try without formatting\n",
    "                if verbose:\n",
    "                    print(f\"{df_row.name}:No result found, Try without formatting\")\n",
    "                result = search_spotify(df_row, start_time=time.time(), use_year=False, \n",
    "                                        quotation_marks=False, formatting=False)\n",
    "                id = evaluate(result, verbose=verbose, show_missing=show_missing)\n",
    "\n",
    "    return id\n",
    "    \n",
    "      "
   ]
  },
  {
   "cell_type": "code",
   "execution_count": 15,
   "metadata": {},
   "outputs": [
    {
     "name": "stdout",
     "output_type": "stream",
     "text": "0: Result Found, ID: 7tFiyTwD0nx5a1eklYtX2J\n1: Result Found, ID: 40riOy7x9W7GXjyGp4pjAv\n2: Result Found, ID: 5TrfusgKC1BYic5LaWCoKm\n3: Result Found, ID: 5CQ30WqJwcep0pYcV4AMNc\n4: Result Found, ID: 2g7gviEeJr6pyxO7G35EWQ\n5: Result Found, ID: 3BQHpFgAp4l80e1XslIjNI\n6: Result Found, ID: 7pKfPomDEeI4TPT6EOYjn9\n7: Result Found, ID: 1GcVa4jFySlun4jLSuMhiq\n8:No result found, output: \n {'tracks': {'href': 'https://api.spotify.com/v1/search?query=track%3A%22Bridge+Over+Troubled+Water%22+artist%3A%22Simon+&type=track&offset=0&limit=1', 'items': [], 'limit': 1, 'next': None, 'offset': 0, 'previous': None, 'total': 0}}\n8:No result found, Try without year\n8: Result Found, ID: 6QhXQOpyYvbpdbyjgAqKdY\n9: Result Found, ID: 78ZqE2tjAxbqEGGlvGnQfT\n10: Result Found, ID: 0aym2LBJBk9DAYuHHutrIl\n11: Result Found, ID: 14XWXWv5FoCbFzLksawpEe\n12: Result Found, ID: 7BY005dacJkbO6EPiOh2wb\n13: Result Found, ID: 5bIwtIednTXz7BHnnoQN06\n14: Result Found, ID: 6L5BZEcZmD6RBJnimzlyKr\n15: Result Found, ID: 4NtUY5IGzHCaqfZemmAu56\n16: Result Found, ID: 4gMgiXfqyzZLMhsksGmbQV\n17: Result Found, ID: 6C4LXC9UFH1IKiHYOp0BiJ\n18: Result Found, ID: 711BHJ4nErw7nPt3O5cP0z\n19: Result Found, ID: 6cr6UDpkjEaMQ80OjWqEBQ\n20: Result Found, ID: 612VcBshQcy4mpB2utGc3H\n21:No result found, output: \n {'tracks': {'href': 'https://api.spotify.com/v1/search?query=track%3A%22%28I+Can%27t+Get+No%29+Satisfaction%22+artist%3A%22Rolling+Stones%22&type=track&offset=0&limit=1', 'items': [], 'limit': 1, 'next': None, 'offset': 0, 'previous': None, 'total': 0}}\n21:No result found, Try without year\n21: Result Found, ID: 2PzU4IB8Dr6mxV3lHuaG34\n22: Result Found, ID: 4Zau4QvgyxWiWQ5KQrwL43\n23: Result Found, ID: 5Jt2AQv1c3RUF5ENtAYF1i\n24: Result Found, ID: 31AOj9sFz2gM0O3hMARRBx\n25: Result Found, ID: 6fnachl7fIn5dqIjakfJ57\n26: Result Found, ID: 7iN1s7xHE4ifF5povM6A48\n27: Result Found, ID: 26tWBbtjvgi0tipRL2VQ2X\n28: Result Found, ID: 1Ud6moTC0KyXMq1Oxfien0\n29: Result Found, ID: 00QAndVDVfNqNWYdWAhEan\n30: Result Found, ID: 6PypGyiu0Y2lCDBN1XZEnP\n31:No result found, output: \n {'tracks': {'href': 'https://api.spotify.com/v1/search?query=track%3A%22Over+De+Muur%22+artist%3A%22Klein+Orkest%22&type=track&offset=0&limit=1', 'items': [], 'limit': 1, 'next': None, 'offset': 0, 'previous': None, 'total': 0}}\n31:No result found, Try without year\n31: Result Found, ID: 2jV28FCpmVQNbgcC5a5D7A\n32: Result Found, ID: 63T7DJ1AFDD6Bn8VzG6JE8\n33: Result Found, ID: 2374M0fQpWi3dLnB54qaLX\n34: Result Found, ID: 2HeTmGTjl870ucJ8mF7zl5\n35: Result Found, ID: 4HWOyz21zZDbHe3mMukrFJ\n36:No result found, output: \n {'tracks': {'href': 'https://api.spotify.com/v1/search?query=track%3A%22Candle+In+The+Wind+%2797%22+artist%3A%22Elton+John%22&type=track&offset=0&limit=1', 'items': [], 'limit': 1, 'next': None, 'offset': 0, 'previous': None, 'total': 0}}\n36:No result found, Try without year\n36: Result Found, ID: 0P5vVASbVxf54XSUY1WCMq\n37: Result Found, ID: 1Dsd1Nu06UbNmelEhPxKgB\n38:No result found, output: \n {'tracks': {'href': 'https://api.spotify.com/v1/search?query=track%3A%22No+Woman+No+Cry+%28Live%29%22+artist%3A%22Bob+Marley+&type=track&offset=0&limit=1', 'items': [], 'limit': 1, 'next': None, 'offset': 0, 'previous': None, 'total': 0}}\n38:No result found, Try without year\n38: Result Found, ID: 423hwXFgoN8RYmqLoLuVvY\n39: Result Found, ID: 6J1orzdlXIAZOlZl21SWY6\n40: Result Found, ID: 33LC84JgLvK2KuW43MfaNq\n41:No result found, output: \n {'tracks': {'href': 'https://api.spotify.com/v1/search?query=track%3A%22I%27m+Not+In+Love%22+artist%3A%2210cc%22&type=track&offset=0&limit=1', 'items': [], 'limit': 1, 'next': None, 'offset': 0, 'previous': None, 'total': 0}}\n41:No result found, Try without year\n41: Result Found, ID: 5HQEmiV2lKnSO6qa2fsR7x\n42: Result Found, ID: 6RGmi17H0xpHb7hpMxFwip\n43:No result found, output: \n {'tracks': {'href': 'https://api.spotify.com/v1/search?query=track%3A%22Niet+Of+Nooit+Geweest%22+artist%3A%22Acda+&type=track&offset=0&limit=1', 'items': [], 'limit': 1, 'next': None, 'offset': 0, 'previous': None, 'total': 0}}\n43:No result found, Try without year\n43: Result Found, ID: 4439gDsZasiXC4mGpw6yJc\n44: Result Found, ID: 0GONea6G2XdnHWjNZd6zt3\n45: Result Found, ID: 3Jy0dWV5AnnfyTvHK6UWof\n46: Result Found, ID: 562JrM9b7jiu8LgzV62x3o\n47: Result Found, ID: 7HrzErXq3TsKOY1gmdIShB\n48:No result found, output: \n {'tracks': {'href': 'https://api.spotify.com/v1/search?query=track%3A%22The+Sound+Of+Silence%22+artist%3A%22Simon+&type=track&offset=0&limit=1', 'items': [], 'limit': 1, 'next': None, 'offset': 0, 'previous': None, 'total': 0}}\n48:No result found, Try without year\n48: Result Found, ID: 5y788ya4NvwhBznoDIcXwK\n49: Result Found, ID: 1HNWHQqLxjI2LXnlIY9DTR\n"
    },
    {
     "data": {
      "text/plain": "0.0"
     },
     "execution_count": 15,
     "metadata": {},
     "output_type": "execute_result"
    }
   ],
   "source": [
    "print(np.mean(top_2000.head(50).apply(searchid, axis = 1, show_missing = True, verbose=True).isna()))"
   ]
  },
  {
   "cell_type": "code",
   "execution_count": 16,
   "metadata": {},
   "outputs": [
    {
     "name": "stdout",
     "output_type": "stream",
     "text": "ffset': 0, 'previous': None, 'total': 0}}\n2356:No result found, output: \n {'tracks': {'href': 'https://api.spotify.com/v1/search?query=Real+Cool+World+Greatest+Show+on+Earth&type=track&offset=0&limit=1', 'items': [], 'limit': 1, 'next': None, 'offset': 0, 'previous': None, 'total': 0}}\n2370:No result found, output: \n {'tracks': {'href': 'https://api.spotify.com/v1/search?query=Iedereen+Doet+%27t+Robert+Long&type=track&offset=0&limit=1', 'items': [], 'limit': 1, 'next': None, 'offset': 0, 'previous': None, 'total': 0}}\n2376:No result found, output: \n {'tracks': {'href': 'https://api.spotify.com/v1/search?query=Man+Of+Action++Les+Reed+Orchestra&type=track&offset=0&limit=1', 'items': [], 'limit': 1, 'next': None, 'offset': 0, 'previous': None, 'total': 0}}\n2386:No result found, output: \n {'tracks': {'href': 'https://api.spotify.com/v1/search?query=Waterfall+Triumvirat&type=track&offset=0&limit=1', 'items': [], 'limit': 1, 'next': None, 'offset': 0, 'previous': None, 'total': 0}}\n2446:No result found, output: \n {'tracks': {'href': 'https://api.spotify.com/v1/search?query=Kom+Uit+De+Bedstee+M%27n+Liefste+Egbert+Douwe&type=track&offset=0&limit=1', 'items': [], 'limit': 1, 'next': None, 'offset': 0, 'previous': None, 'total': 0}}\n2466:No result found, output: \n {'tracks': {'href': 'https://api.spotify.com/v1/search?query=Miracles+Anita+Garbo&type=track&offset=0&limit=1', 'items': [], 'limit': 1, 'next': None, 'offset': 0, 'previous': None, 'total': 0}}\n2480:No result found, output: \n {'tracks': {'href': 'https://api.spotify.com/v1/search?query=002.345.709+%28That%27s+My+Number%29+Trinity&type=track&offset=0&limit=1', 'items': [], 'limit': 1, 'next': None, 'offset': 0, 'previous': None, 'total': 0}}\n2482:No result found, output: \n {'tracks': {'href': 'https://api.spotify.com/v1/search?query=Do+It+Anyway+You+Wanna+People%27s+Choice&type=track&offset=0&limit=1', 'items': [], 'limit': 1, 'next': None, 'offset': 0, 'previous': None, 'total': 0}}\n2523:No result found, output: \n {'tracks': {'href': 'https://api.spotify.com/v1/search?query=Je+Bent+Niet+Hip+Patricia+Paay&type=track&offset=0&limit=1', 'items': [], 'limit': 1, 'next': None, 'offset': 0, 'previous': None, 'total': 0}}\n2539:No result found, output: \n {'tracks': {'href': 'https://api.spotify.com/v1/search?query=Take+To+The+Mountains+Richard+Barnes&type=track&offset=0&limit=1', 'items': [], 'limit': 1, 'next': None, 'offset': 0, 'previous': None, 'total': 0}}\n2540:No result found, output: \n {'tracks': {'href': 'https://api.spotify.com/v1/search?query=Tap+Turns+On+Yhe+Water+CCS+%28Collective+Conciousness+Society%29&type=track&offset=0&limit=1', 'items': [], 'limit': 1, 'next': None, 'offset': 0, 'previous': None, 'total': 0}}\n2546:No result found, output: \n {'tracks': {'href': 'https://api.spotify.com/v1/search?query=What+Kind+Of+Dance+Is+This+Veronica+Unlimited&type=track&offset=0&limit=1', 'items': [], 'limit': 1, 'next': None, 'offset': 0, 'previous': None, 'total': 0}}\n2547:No result found, output: \n {'tracks': {'href': 'https://api.spotify.com/v1/search?query=You%27re+The+Reason+Why+The+Rubettes&type=track&offset=0&limit=1', 'items': [], 'limit': 1, 'next': None, 'offset': 0, 'previous': None, 'total': 0}}\n2553:No result found, output: \n {'tracks': {'href': 'https://api.spotify.com/v1/search?query=Hold+On+To+What+You%27ve+Got+Bill+&type=track&offset=0&limit=1', 'items': [], 'limit': 1, 'next': None, 'offset': 0, 'previous': None, 'total': 0}}\n2555:No result found, output: \n {'tracks': {'href': 'https://api.spotify.com/v1/search?query=Makin%27+Up+Again+Goldie&type=track&offset=0&limit=1', 'items': [], 'limit': 1, 'next': None, 'offset': 0, 'previous': None, 'total': 0}}\n2600:No result found, output: \n {'tracks': {'href': 'https://api.spotify.com/v1/search?query=ThoseLlazy+Hazy+Crazy+Days+Of+Summer+Nat+%27King%27+Cole&type=track&offset=0&limit=1', 'items': [], 'limit': 1, 'next': None, 'offset': 0, 'previous': None, 'total': 0}}\n2605:No result found, output: \n {'tracks': {'href': 'https://api.spotify.com/v1/search?query=Can%27t+Stop+Runnin%27+Space+Monkey&type=track&offset=0&limit=1', 'items': [], 'limit': 1, 'next': None, 'offset': 0, 'previous': None, 'total': 0}}\n2609:No result found, output: \n {'tracks': {'href': 'https://api.spotify.com/v1/search?query=When+You+Walk+In+The+Room+Jacky+DelShannon&type=track&offset=0&limit=1', 'items': [], 'limit': 1, 'next': None, 'offset': 0, 'previous': None, 'total': 0}}\n2614:No result found, output: \n {'tracks': {'href': 'https://api.spotify.com/v1/search?query=Harder+Dan+Ik+Hebben+Kan+Bl%C3%B8f&type=track&offset=0&limit=1', 'items': [], 'limit': 1, 'next': None, 'offset': 0, 'previous': None, 'total': 0}}\n2634:No result found, output: \n {'tracks': {'href': 'https://api.spotify.com/v1/search?query=Prisencolinen+Sinainciusol+Adriano+Celentano&type=track&offset=0&limit=1', 'items': [], 'limit': 1, 'next': None, 'offset': 0, 'previous': None, 'total': 0}}\n2651:No result found, output: \n {'tracks': {'href': 'https://api.spotify.com/v1/search?query=Gaia+Valensia&type=track&offset=0&limit=1', 'items': [], 'limit': 1, 'next': None, 'offset': 0, 'previous': None, 'total': 0}}\n2671:No result found, output: \n {'tracks': {'href': 'https://api.spotify.com/v1/search?query=Not+Just+A+Flower+In+Your+Hair+After+tea&type=track&offset=0&limit=1', 'items': [], 'limit': 1, 'next': None, 'offset': 0, 'previous': None, 'total': 0}}\n2702:No result found, output: \n {'tracks': {'href': 'https://api.spotify.com/v1/search?query=M%27n+Opa+Leen+Jongewaard+&type=track&offset=0&limit=1', 'items': [], 'limit': 1, 'next': None, 'offset': 0, 'previous': None, 'total': 0}}\n2723:No result found, output: \n {'tracks': {'href': 'https://api.spotify.com/v1/search?query=It+Will+Come+In+Time+Billy+Preston+&type=track&offset=0&limit=1', 'items': [], 'limit': 1, 'next': None, 'offset': 0, 'previous': None, 'total': 0}}\n2743:No result found, output: \n {'tracks': {'href': 'https://api.spotify.com/v1/search?query=Cottonfields+Beach+Boys&type=track&offset=0&limit=1', 'items': [], 'limit': 1, 'next': None, 'offset': 0, 'previous': None, 'total': 0}}\n2747:No result found, output: \n {'tracks': {'href': 'https://api.spotify.com/v1/search?query=Racing+Car+Air+Bubble&type=track&offset=0&limit=1', 'items': [], 'limit': 1, 'next': None, 'offset': 0, 'previous': None, 'total': 0}}\n2752:No result found, output: \n {'tracks': {'href': 'https://api.spotify.com/v1/search?query=Margrietje+Louis+Neefs&type=track&offset=0&limit=1', 'items': [], 'limit': 1, 'next': None, 'offset': 0, 'previous': None, 'total': 0}}\n2766:No result found, output: \n {'tracks': {'href': 'https://api.spotify.com/v1/search?query=Bloasmuziek+G%C3%A9+Reinders&type=track&offset=0&limit=1', 'items': [], 'limit': 1, 'next': None, 'offset': 0, 'previous': None, 'total': 0}}\n2844:No result found, output: \n {'tracks': {'href': 'https://api.spotify.com/v1/search?query=Say+It+Ain%27t+So+Joe+Roger+Daltrey&type=track&offset=0&limit=1', 'items': [], 'limit': 1, 'next': None, 'offset': 0, 'previous': None, 'total': 0}}\n2861:No result found, output: \n {'tracks': {'href': 'https://api.spotify.com/v1/search?query=Kalverliefde+Robert+Long&type=track&offset=0&limit=1', 'items': [], 'limit': 1, 'next': None, 'offset': 0, 'previous': None, 'total': 0}}\n2866:No result found, output: \n {'tracks': {'href': 'https://api.spotify.com/v1/search?query=Liefste+Mijn+Liefste+Robert+Long&type=track&offset=0&limit=1', 'items': [], 'limit': 1, 'next': None, 'offset': 0, 'previous': None, 'total': 0}}\n2907:No result found, output: \n {'tracks': {'href': 'https://api.spotify.com/v1/search?query=Goodbye+To+Love+Margie+Ball&type=track&offset=0&limit=1', 'items': [], 'limit': 1, 'next': None, 'offset': 0, 'previous': None, 'total': 0}}\n2963:No result found, output: \n {'tracks': {'href': 'https://api.spotify.com/v1/search?query=Nu+Dat+Jij+Er+Bent+Trijntje+Oosterhuis&type=track&offset=0&limit=1', 'items': [], 'limit': 1, 'next': None, 'offset': 0, 'previous': None, 'total': 0}}\n2982:No result found, output: \n {'tracks': {'href': 'https://api.spotify.com/v1/search?query=Another+Day+Another+Road+Cuby+&type=track&offset=0&limit=1', 'items': [], 'limit': 1, 'next': None, 'offset': 0, 'previous': None, 'total': 0}}\n2994:No result found, output: \n {'tracks': {'href': 'https://api.spotify.com/v1/search?query=Smile+Brainbox&type=track&offset=0&limit=1', 'items': [], 'limit': 1, 'next': None, 'offset': 0, 'previous': None, 'total': 0}}\n3009:No result found, output: \n {'tracks': {'href': 'https://api.spotify.com/v1/search?query=Kristallnach+BAP&type=track&offset=0&limit=1', 'items': [], 'limit': 1, 'next': None, 'offset': 0, 'previous': None, 'total': 0}}\n3017:No result found, output: \n {'tracks': {'href': 'https://api.spotify.com/v1/search?query=Two+Shots+Of+A+Happy+And+One+Shot+Of+Sad+Matt+Dusk&type=track&offset=0&limit=1', 'items': [], 'limit': 1, 'next': None, 'offset': 0, 'previous': None, 'total': 0}}\n3061:No result found, output: \n {'tracks': {'href': 'https://api.spotify.com/v1/search?query=Traveling+In+The+USA+Bintangs&type=track&offset=0&limit=1', 'items': [], 'limit': 1, 'next': None, 'offset': 0, 'previous': None, 'total': 0}}\n3065:No result found, output: \n {'tracks': {'href': 'https://api.spotify.com/v1/search?query=There+Goes+My+heart+Again+Fats+Domino&type=track&offset=0&limit=1', 'items': [], 'limit': 1, 'next': None, 'offset': 0, 'previous': None, 'total': 0}}\n3069:No result found, output: \n {'tracks': {'href': 'https://api.spotify.com/v1/search?query=Ik+Ben+Zo+Eenzaam+Zonder+Jou+Will+Tura&type=track&offset=0&limit=1', 'items': [], 'limit': 1, 'next': None, 'offset': 0, 'previous': None, 'total': 0}}\n3114:No result found, output: \n {'tracks': {'href': 'https://api.spotify.com/v1/search?query=Flink+Zijn+Robert+Long&type=track&offset=0&limit=1', 'items': [], 'limit': 1, 'next': None, 'offset': 0, 'previous': None, 'total': 0}}\n3118:No result found, output: \n {'tracks': {'href': 'https://api.spotify.com/v1/search?query=Alive+Meat+Loaf&type=track&offset=0&limit=1', 'items': [], 'limit': 1, 'next': None, 'offset': 0, 'previous': None, 'total': 0}}\n3137:No result found, output: \n {'tracks': {'href': 'https://api.spotify.com/v1/search?query=De+Weg+Guus+Meeuwis&type=track&offset=0&limit=1', 'items': [], 'limit': 1, 'next': None, 'offset': 0, 'previous': None, 'total': 0}}\n3154:No result found, output: \n {'tracks': {'href': 'https://api.spotify.com/v1/search?query=Time+Stood+Still+Bad+English+ft.+John+Waite&type=track&offset=0&limit=1', 'items': [], 'limit': 1, 'next': None, 'offset': 0, 'previous': None, 'total': 0}}\n3157:No result found, output: \n {'tracks': {'href': 'https://api.spotify.com/v1/search?query=Voltooid+Verleden+Tijd+Is+Ook+Schitterend&type=track&offset=0&limit=1', 'items': [], 'limit': 1, 'next': None, 'offset': 0, 'previous': None, 'total': 0}}\n3253:No result found, output: \n {'tracks': {'href': 'https://api.spotify.com/v1/search?query=Mijn+Van+Straat+Geredde+Roos+De+Dijk&type=track&offset=0&limit=1', 'items': [], 'limit': 1, 'next': None, 'offset': 0, 'previous': None, 'total': 0}}\n3264:No result found, output: \n {'tracks': {'href': 'https://api.spotify.com/v1/search?query=Mooier+Dan+Nu+De+Dijk&type=track&offset=0&limit=1', 'items': [], 'limit': 1, 'next': None, 'offset': 0, 'previous': None, 'total': 0}}\n3317:No result found, output: \n {'tracks': {'href': 'https://api.spotify.com/v1/search?query=Mars+Needs+Woman+Novastar&type=track&offset=0&limit=1', 'items': [], 'limit': 1, 'next': None, 'offset': 0, 'previous': None, 'total': 0}}\n3383:No result found, output: \n {'tracks': {'href': 'https://api.spotify.com/v1/search?query=%28Forever%29+Live+And+Die+Orchestral+Maneuvres+in+the+Dark&type=track&offset=0&limit=1', 'items': [], 'limit': 1, 'next': None, 'offset': 0, 'previous': None, 'total': 0}}\n3422:No result found, output: \n {'tracks': {'href': 'https://api.spotify.com/v1/search?query=Mijn+Leven+Is+Van+Mij+Pia+Douwes&type=track&offset=0&limit=1', 'items': [], 'limit': 1, 'next': None, 'offset': 0, 'previous': None, 'total': 0}}\n3441:No result found, output: \n {'tracks': {'href': 'https://api.spotify.com/v1/search?query=No+Surrender+Kane&type=track&offset=0&limit=1', 'items': [], 'limit': 1, 'next': None, 'offset': 0, 'previous': None, 'total': 0}}\n3447:No result found, output: \n {'tracks': {'href': 'https://api.spotify.com/v1/search?query=Wat+Is+Dromen+Ellen+Ten+Damme+&type=track&offset=0&limit=1', 'items': [], 'limit': 1, 'next': None, 'offset': 0, 'previous': None, 'total': 0}}\n3452:No result found, output: \n {'tracks': {'href': 'https://api.spotify.com/v1/search?query=Hallelujah+Lisa+Lois&type=track&offset=0&limit=1', 'items': [], 'limit': 1, 'next': None, 'offset': 0, 'previous': None, 'total': 0}}\n3508:No result found, output: \n {'tracks': {'href': 'https://api.spotify.com/v1/search?query=Als+Ze+Danst+Guus+Meeuwis&type=track&offset=0&limit=1', 'items': [], 'limit': 1, 'next': None, 'offset': 0, 'previous': None, 'total': 0}}\n3573:No result found, output: \n {'tracks': {'href': 'https://api.spotify.com/v1/search?query=Golden+Days+Krystl&type=track&offset=0&limit=1', 'items': [], 'limit': 1, 'next': None, 'offset': 0, 'previous': None, 'total': 0}}\n3591:No result found, output: \n {'tracks': {'href': 'https://api.spotify.com/v1/search?query=De+Blues+Verlaat+Je+Nooit+De+Dijk&type=track&offset=0&limit=1', 'items': [], 'limit': 1, 'next': None, 'offset': 0, 'previous': None, 'total': 0}}\n3609:No result found, output: \n {'tracks': {'href': 'https://api.spotify.com/v1/search?query=Later+Als+Ik+Groter+Ben+Bl%C3%B8f&type=track&offset=0&limit=1', 'items': [], 'limit': 1, 'next': None, 'offset': 0, 'previous': None, 'total': 0}}\n3641:No result found, output: \n {'tracks': {'href': 'https://api.spotify.com/v1/search?query=Zo+Stil+Bl%C3%B8f&type=track&offset=0&limit=1', 'items': [], 'limit': 1, 'next': None, 'offset': 0, 'previous': None, 'total': 0}}\n3686:No result found, output: \n {'tracks': {'href': 'https://api.spotify.com/v1/search?query=Wake+Me+Up+Avicii+ft.+Aloe+Blacc&type=track&offset=0&limit=1', 'items': [], 'limit': 1, 'next': None, 'offset': 0, 'previous': None, 'total': 0}}\n3692:No result found, output: \n {'tracks': {'href': 'https://api.spotify.com/v1/search?query=This+Is+What+It+Feels+Like+Armin+van+Buuren+ft.+Trevor+Guthrie&type=track&offset=0&limit=1', 'items': [], 'limit': 1, 'next': None, 'offset': 0, 'previous': None, 'total': 0}}\n3700:No result found, output: \n {'tracks': {'href': 'https://api.spotify.com/v1/search?query=Blue+Bittersweet+Ilse+DeLange&type=track&offset=0&limit=1', 'items': [], 'limit': 1, 'next': None, 'offset': 0, 'previous': None, 'total': 0}}\n3792:No result found, output: \n {'tracks': {'href': 'https://api.spotify.com/v1/search?query=Year+Of+Summer+%28acoustic%29+Niels+Geusebroek&type=track&offset=0&limit=1', 'items': [], 'limit': 1, 'next': None, 'offset': 0, 'previous': None, 'total': 0}}\n3800:No result found, output: \n {'tracks': {'href': 'https://api.spotify.com/v1/search?query=Ik+Zou+Het+Zo+Weer+Over+Doen+Marco+Borsato+&type=track&offset=0&limit=1', 'items': [], 'limit': 1, 'next': None, 'offset': 0, 'previous': None, 'total': 0}}\n3860:No result found, output: \n {'tracks': {'href': 'https://api.spotify.com/v1/search?query=Maria+Maria+Santana+ft.+Product+G&type=track&offset=0&limit=1', 'items': [], 'limit': 1, 'next': None, 'offset': 0, 'previous': None, 'total': 0}}\n3872:No result found, output: \n {'tracks': {'href': 'https://api.spotify.com/v1/search?query=Walk+This+Way+Run+DMC+ft.+Aerosmith&type=track&offset=0&limit=1', 'items': [], 'limit': 1, 'next': None, 'offset': 0, 'previous': None, 'total': 0}}\n3903:No result found, output: \n {'tracks': {'href': 'https://api.spotify.com/v1/search?query=This+Is+Who+We+Are+Di-Rect&type=track&offset=0&limit=1', 'items': [], 'limit': 1, 'next': None, 'offset': 0, 'previous': None, 'total': 0}}\n3973:No result found, output: \n {'tracks': {'href': 'https://api.spotify.com/v1/search?query=Like+The+Way+I+Do+%28live%29+Edit+Melissa+Etheridge&type=track&offset=0&limit=1', 'items': [], 'limit': 1, 'next': None, 'offset': 0, 'previous': None, 'total': 0}}\n4022:No result found, output: \n {'tracks': {'href': 'https://api.spotify.com/v1/search?query=Set+The+Fire+To+The+Third+Bar+Snow+Patrol+ft.+Martha+Wainwright&type=track&offset=0&limit=1', 'items': [], 'limit': 1, 'next': None, 'offset': 0, 'previous': None, 'total': 0}}\n4031:No result found, output: \n {'tracks': {'href': 'https://api.spotify.com/v1/search?query=Gotta+Catch+%27M+All+%28Pokemon+Theme+Song%29+Jason+Paige&type=track&offset=0&limit=1', 'items': [], 'limit': 1, 'next': None, 'offset': 0, 'previous': None, 'total': 0}}\n4033:No result found, output: \n {'tracks': {'href': 'https://api.spotify.com/v1/search?query=Hotel+Lounge+Deus&type=track&offset=0&limit=1', 'items': [], 'limit': 1, 'next': None, 'offset': 0, 'previous': None, 'total': 0}}\n4038:No result found, output: \n {'tracks': {'href': 'https://api.spotify.com/v1/search?query=Diggin+Kovacs&type=track&offset=0&limit=1', 'items': [], 'limit': 1, 'next': None, 'offset': 0, 'previous': None, 'total': 0}}\n4062:No result found, output: \n {'tracks': {'href': 'https://api.spotify.com/v1/search?query=Deurdonderen+%28Live%29+Normaal&type=track&offset=0&limit=1', 'items': [], 'limit': 1, 'next': None, 'offset': 0, 'previous': None, 'total': 0}}\n4073:No result found, output: \n {'tracks': {'href': 'https://api.spotify.com/v1/search?query=Ghosttown+Adam+Lambert&type=track&offset=0&limit=1', 'items': [], 'limit': 1, 'next': None, 'offset': 0, 'previous': None, 'total': 0}}\n4082:No result found, output: \n {'tracks': {'href': 'https://api.spotify.com/v1/search?query=No+Diggity+Blackstreet+ft.+Dr+Dre&type=track&offset=0&limit=1', 'items': [], 'limit': 1, 'next': None, 'offset': 0, 'previous': None, 'total': 0}}\n4098:No result found, output: \n {'tracks': {'href': 'https://api.spotify.com/v1/search?query=Treur+Niet+Diggy+Dex+ft.+JW+Roy&type=track&offset=0&limit=1', 'items': [], 'limit': 1, 'next': None, 'offset': 0, 'previous': None, 'total': 0}}\n4100:No result found, output: \n {'tracks': {'href': 'https://api.spotify.com/v1/search?query=Heading+Up+High+Armin+van+Buuren+ft.+Kensington&type=track&offset=0&limit=1', 'items': [], 'limit': 1, 'next': None, 'offset': 0, 'previous': None, 'total': 0}}\n4175:No result found, output: \n {'tracks': {'href': 'https://api.spotify.com/v1/search?query=Lean+On+Major+Lazor+&type=track&offset=0&limit=1', 'items': [], 'limit': 1, 'next': None, 'offset': 0, 'previous': None, 'total': 0}}\n4190:No result found, output: \n {'tracks': {'href': 'https://api.spotify.com/v1/search?query=We+Don%27t+Make+The+Wind+Blow+Common+Linnets&type=track&offset=0&limit=1', 'items': [], 'limit': 1, 'next': None, 'offset': 0, 'previous': None, 'total': 0}}\n4256:No result found, output: \n {'tracks': {'href': 'https://api.spotify.com/v1/search?query=I+Love+You+Like+I+Love+Myself+Herman+Brood+&type=track&offset=0&limit=1', 'items': [], 'limit': 1, 'next': None, 'offset': 0, 'previous': None, 'total': 0}}\n4270:No result found, output: \n {'tracks': {'href': 'https://api.spotify.com/v1/search?query=Zoutelande+Bl%C3%B8f+ft.+Geike&type=track&offset=0&limit=1', 'items': [], 'limit': 1, 'next': None, 'offset': 0, 'previous': None, 'total': 0}}\n4306:No result found, output: \n {'tracks': {'href': 'https://api.spotify.com/v1/search?query=Sunny+Days+Armin+van+Buuren+ft.+Josh+Cumbee&type=track&offset=0&limit=1', 'items': [], 'limit': 1, 'next': None, 'offset': 0, 'previous': None, 'total': 0}}\n4346:No result found, output: \n {'tracks': {'href': 'https://api.spotify.com/v1/search?query=The+Next+Episode+Dr.+Dre+ft.+Snoop+Dogg&type=track&offset=0&limit=1', 'items': [], 'limit': 1, 'next': None, 'offset': 0, 'previous': None, 'total': 0}}\n4401:No result found, output: \n {'tracks': {'href': 'https://api.spotify.com/v1/search?query=Silence+%28Tiesto+Mix%29+Delerium+ft.+Sarah+McLachlan&type=track&offset=0&limit=1', 'items': [], 'limit': 1, 'next': None, 'offset': 0, 'previous': None, 'total': 0}}\n"
    }
   ],
   "source": [
    "top_2000[\"id\"] = top_2000.apply(searchid, axis = 1, show_missing = True)"
   ]
  },
  {
   "cell_type": "code",
   "execution_count": 17,
   "metadata": {},
   "outputs": [
    {
     "data": {
      "text/plain": "0.045156920298035676"
     },
     "execution_count": 17,
     "metadata": {},
     "output_type": "execute_result"
    }
   ],
   "source": [
    "# Check missing\n",
    "print(np.mean(top_2000[\"id\"].isna()))"
   ]
  },
  {
   "cell_type": "code",
   "execution_count": 20,
   "metadata": {},
   "outputs": [
    {
     "data": {
      "text/html": "<div>\n<style scoped>\n    .dataframe tbody tr th:only-of-type {\n        vertical-align: middle;\n    }\n\n    .dataframe tbody tr th {\n        vertical-align: top;\n    }\n\n    .dataframe thead th {\n        text-align: right;\n    }\n</style>\n<table border=\"1\" class=\"dataframe\">\n  <thead>\n    <tr style=\"text-align: right;\">\n      <th></th>\n      <th>2019</th>\n      <th>titel</th>\n      <th>artiest</th>\n      <th>jaar</th>\n    </tr>\n  </thead>\n  <tbody>\n    <tr>\n      <th>0</th>\n      <td>1</td>\n      <td>Bohemian Rhapsody</td>\n      <td>Queen</td>\n      <td>1975</td>\n    </tr>\n    <tr>\n      <th>1</th>\n      <td>2</td>\n      <td>Hotel California</td>\n      <td>Eagles</td>\n      <td>1977</td>\n    </tr>\n    <tr>\n      <th>2</th>\n      <td>3</td>\n      <td>Piano Man</td>\n      <td>Billy Joel</td>\n      <td>1974</td>\n    </tr>\n    <tr>\n      <th>3</th>\n      <td>4</td>\n      <td>Roller Coaster</td>\n      <td>Danny Vera</td>\n      <td>2019</td>\n    </tr>\n    <tr>\n      <th>4</th>\n      <td>5</td>\n      <td>Stairway To Heaven</td>\n      <td>Led Zeppelin</td>\n      <td>1971</td>\n    </tr>\n  </tbody>\n</table>\n</div>",
      "text/plain": "   2019               titel       artiest  jaar\n0     1   Bohemian Rhapsody         Queen  1975\n1     2    Hotel California        Eagles  1977\n2     3           Piano Man    Billy Joel  1974\n3     4      Roller Coaster    Danny Vera  2019\n4     5  Stairway To Heaven  Led Zeppelin  1971"
     },
     "execution_count": 20,
     "metadata": {},
     "output_type": "execute_result"
    }
   ],
   "source": [
    "year = pd.read_excel(os.path.join(path,\"Excel\",files[-1]))\n",
    "year.columns = [2019,'titel','artiest','jaar']\n",
    "year.head()"
   ]
  },
  {
   "cell_type": "code",
   "execution_count": 22,
   "metadata": {},
   "outputs": [
    {
     "name": "stdout",
     "output_type": "stream",
     "text": "50:No result found, output: \n {'tracks': {'href': 'https://api.spotify.com/v1/search?query=Zoutelande+Bl%C3%B8f+ft.+Geike&type=track&offset=0&limit=1', 'items': [], 'limit': 1, 'next': None, 'offset': 0, 'previous': None, 'total': 0}}\n83:No result found, output: \n {'tracks': {'href': 'https://api.spotify.com/v1/search?query=Deurdonderen+%28Live%29+Normaal&type=track&offset=0&limit=1', 'items': [], 'limit': 1, 'next': None, 'offset': 0, 'previous': None, 'total': 0}}\n126:No result found, output: \n {'tracks': {'href': 'https://api.spotify.com/v1/search?query=Gotta+Catch+%27M+All+%28Pokemon+Theme+Song%29+Jason+Paige&type=track&offset=0&limit=1', 'items': [], 'limit': 1, 'next': None, 'offset': 0, 'previous': None, 'total': 0}}\n160:No result found, output: \n {'tracks': {'href': 'https://api.spotify.com/v1/search?query=Wake+Me+Up+Avicii+ft.+Aloe+Blacc&type=track&offset=0&limit=1', 'items': [], 'limit': 1, 'next': None, 'offset': 0, 'previous': None, 'total': 0}}\n290:No result found, output: \n {'tracks': {'href': 'https://api.spotify.com/v1/search?query=Zo+Stil+Bl%C3%B8f&type=track&offset=0&limit=1', 'items': [], 'limit': 1, 'next': None, 'offset': 0, 'previous': None, 'total': 0}}\n348:No result found, output: \n {'tracks': {'href': 'https://api.spotify.com/v1/search?query=Harder+Dan+Ik+Hebben+Kan+Bl%C3%B8f&type=track&offset=0&limit=1', 'items': [], 'limit': 1, 'next': None, 'offset': 0, 'previous': None, 'total': 0}}\n353:No result found, output: \n {'tracks': {'href': 'https://api.spotify.com/v1/search?query=Treur+Niet+%28Ode+Aan+Het+Leven%29+Diggy+Dex+ft.+JW+Roy&type=track&offset=0&limit=1', 'items': [], 'limit': 1, 'next': None, 'offset': 0, 'previous': None, 'total': 0}}\n367:No result found, output: \n {'tracks': {'href': 'https://api.spotify.com/v1/search?query=This+Is+What+It+Feels+Like+Armin+van+Buuren+ft.Trevor+Guthrie&type=track&offset=0&limit=1', 'items': [], 'limit': 1, 'next': None, 'offset': 0, 'previous': None, 'total': 0}}\n412:No result found, output: \n {'tracks': {'href': 'https://api.spotify.com/v1/search?query=Heading+Up+High+Armin+van+Buuren+ft.+Kensington&type=track&offset=0&limit=1', 'items': [], 'limit': 1, 'next': None, 'offset': 0, 'previous': None, 'total': 0}}\n493:No result found, output: \n {'tracks': {'href': 'https://api.spotify.com/v1/search?query=Empire+State+Of+Mind+%28Part+2+-+Piano+Version%29+Alicia+Keys&type=track&offset=0&limit=1', 'items': [], 'limit': 1, 'next': None, 'offset': 0, 'previous': None, 'total': 0}}\n618:No result found, output: \n {'tracks': {'href': 'https://api.spotify.com/v1/search?query=Think+%28Blues+Brothers+Version%29+Aretha+Franklin&type=track&offset=0&limit=1', 'items': [], 'limit': 1, 'next': None, 'offset': 0, 'previous': None, 'total': 0}}\n720:No result found, output: \n {'tracks': {'href': 'https://api.spotify.com/v1/search?query=Never+Be+Clever+Herman+Brood+&type=track&offset=0&limit=1', 'items': [], 'limit': 1, 'next': None, 'offset': 0, 'previous': None, 'total': 0}}\n747:No result found, output: \n {'tracks': {'href': 'https://api.spotify.com/v1/search?query=Go+Like+Elijah+Chi+Coltrane&type=track&offset=0&limit=1', 'items': [], 'limit': 1, 'next': None, 'offset': 0, 'previous': None, 'total': 0}}\n788:No result found, output: \n {'tracks': {'href': 'https://api.spotify.com/v1/search?query=Hallelujah+Lisa+Lois&type=track&offset=0&limit=1', 'items': [], 'limit': 1, 'next': None, 'offset': 0, 'previous': None, 'total': 0}}\n833:No result found, output: \n {'tracks': {'href': 'https://api.spotify.com/v1/search?query=Flink+Zijn+Robert+Long&type=track&offset=0&limit=1', 'items': [], 'limit': 1, 'next': None, 'offset': 0, 'previous': None, 'total': 0}}\n847:No result found, output: \n {'tracks': {'href': 'https://api.spotify.com/v1/search?query=Bloasmuziek+G%C3%A9+Reinders&type=track&offset=0&limit=1', 'items': [], 'limit': 1, 'next': None, 'offset': 0, 'previous': None, 'total': 0}}\n891:No result found, output: \n {'tracks': {'href': 'https://api.spotify.com/v1/search?query=Kristallnach+BAP&type=track&offset=0&limit=1', 'items': [], 'limit': 1, 'next': None, 'offset': 0, 'previous': None, 'total': 0}}\n1101:No result found, output: \n {'tracks': {'href': 'https://api.spotify.com/v1/search?query=Gaia+Valensia&type=track&offset=0&limit=1', 'items': [], 'limit': 1, 'next': None, 'offset': 0, 'previous': None, 'total': 0}}\n1151:No result found, output: \n {'tracks': {'href': 'https://api.spotify.com/v1/search?query=Sunny+Days+Armin+van+Buuren+ft.+Josh+Cumbee&type=track&offset=0&limit=1', 'items': [], 'limit': 1, 'next': None, 'offset': 0, 'previous': None, 'total': 0}}\n1220:No result found, output: \n {'tracks': {'href': 'https://api.spotify.com/v1/search?query=Tom+Traubert%27s+Blues+%28Waltzing+Mathilda%29+Tom+Waits&type=track&offset=0&limit=1', 'items': [], 'limit': 1, 'next': None, 'offset': 0, 'previous': None, 'total': 0}}\n1249:No result found, output: \n {'tracks': {'href': 'https://api.spotify.com/v1/search?query=De+Weg+Guus+Meeuwis&type=track&offset=0&limit=1', 'items': [], 'limit': 1, 'next': None, 'offset': 0, 'previous': None, 'total': 0}}\n1292:No result found, output: \n {'tracks': {'href': 'https://api.spotify.com/v1/search?query=Dodenrit+Drs.+P&type=track&offset=0&limit=1', 'items': [], 'limit': 1, 'next': None, 'offset': 0, 'previous': None, 'total': 0}}\n1328:No result found, output: \n {'tracks': {'href': 'https://api.spotify.com/v1/search?query=The+Next+Episode+Dr.+Dre+ft.+Snoop+Dogg&type=track&offset=0&limit=1', 'items': [], 'limit': 1, 'next': None, 'offset': 0, 'previous': None, 'total': 0}}\n1361:No result found, output: \n {'tracks': {'href': 'https://api.spotify.com/v1/search?query=House+For+Sale+Lucifer&type=track&offset=0&limit=1', 'items': [], 'limit': 1, 'next': None, 'offset': 0, 'previous': None, 'total': 0}}\n1424:No result found, output: \n {'tracks': {'href': 'https://api.spotify.com/v1/search?query=Voltooid+Verleden+Tijd+Is+Ook+Schitterend%21&type=track&offset=0&limit=1', 'items': [], 'limit': 1, 'next': None, 'offset': 0, 'previous': None, 'total': 0}}\n1460:No result found, output: \n {'tracks': {'href': 'https://api.spotify.com/v1/search?query=Kalverliefde+Robert+Long&type=track&offset=0&limit=1', 'items': [], 'limit': 1, 'next': None, 'offset': 0, 'previous': None, 'total': 0}}\n1531:No result found, output: \n {'tracks': {'href': 'https://api.spotify.com/v1/search?query=Zaterdag+Bl%C3%B8f&type=track&offset=0&limit=1', 'items': [], 'limit': 1, 'next': None, 'offset': 0, 'previous': None, 'total': 0}}\n1535:No result found, output: \n {'tracks': {'href': 'https://api.spotify.com/v1/search?query=Summertime+Brainbox&type=track&offset=0&limit=1', 'items': [], 'limit': 1, 'next': None, 'offset': 0, 'previous': None, 'total': 0}}\n1573:No result found, output: \n {'tracks': {'href': 'https://api.spotify.com/v1/search?query=The+Road+Ahead+%28Miles+Of+The+Unknown%29+City+To+City&type=track&offset=0&limit=1', 'items': [], 'limit': 1, 'next': None, 'offset': 0, 'previous': None, 'total': 0}}\n1627:No result found, output: \n {'tracks': {'href': 'https://api.spotify.com/v1/search?query=Pain+And+Mysery+The+Teskey+Brothers&type=track&offset=0&limit=1', 'items': [], 'limit': 1, 'next': None, 'offset': 0, 'previous': None, 'total': 0}}\n1636:No result found, output: \n {'tracks': {'href': 'https://api.spotify.com/v1/search?query=Mijn+Van+Straat+Geredde+Roos+De+Dijk&type=track&offset=0&limit=1', 'items': [], 'limit': 1, 'next': None, 'offset': 0, 'previous': None, 'total': 0}}\n1658:No result found, output: \n {'tracks': {'href': 'https://api.spotify.com/v1/search?query=Later+Als+Ik+Groter+Ben+Bl%C3%B8f&type=track&offset=0&limit=1', 'items': [], 'limit': 1, 'next': None, 'offset': 0, 'previous': None, 'total': 0}}\n1677:No result found, output: \n {'tracks': {'href': 'https://api.spotify.com/v1/search?query=I+Love+You+Like+I+Love+Myself+Herman+Brood+&type=track&offset=0&limit=1', 'items': [], 'limit': 1, 'next': None, 'offset': 0, 'previous': None, 'total': 0}}\n1678:No result found, output: \n {'tracks': {'href': 'https://api.spotify.com/v1/search?query=Silence+%28Tiesto+Mix%29+Delerium+ft.+Sarah+McLachlan&type=track&offset=0&limit=1', 'items': [], 'limit': 1, 'next': None, 'offset': 0, 'previous': None, 'total': 0}}\n1719:No result found, output: \n {'tracks': {'href': 'https://api.spotify.com/v1/search?query=Unbeschreiblich+Weiblich+Nina+Hagen&type=track&offset=0&limit=1', 'items': [], 'limit': 1, 'next': None, 'offset': 0, 'previous': None, 'total': 0}}\n1739:No result found, output: \n {'tracks': {'href': 'https://api.spotify.com/v1/search?query=No+Diggity+Blackstreet+ft.+Dr+Dre&type=track&offset=0&limit=1', 'items': [], 'limit': 1, 'next': None, 'offset': 0, 'previous': None, 'total': 0}}\n1749:No result found, output: \n {'tracks': {'href': 'https://api.spotify.com/v1/search?query=Liquid+Spirit+-+Claptone+Remix+%28StuBru+radio+edit%29+Gregory+Porter&type=track&offset=0&limit=1', 'items': [], 'limit': 1, 'next': None, 'offset': 0, 'previous': None, 'total': 0}}\n1808:No result found, output: \n {'tracks': {'href': 'https://api.spotify.com/v1/search?query=Sound+Of+The+Screaming+Day+Golden+Earrings&type=track&offset=0&limit=1', 'items': [], 'limit': 1, 'next': None, 'offset': 0, 'previous': None, 'total': 0}}\n1863:No result found, output: \n {'tracks': {'href': 'https://api.spotify.com/v1/search?query=The+Wild+Places+Duncan+Browne&type=track&offset=0&limit=1', 'items': [], 'limit': 1, 'next': None, 'offset': 0, 'previous': None, 'total': 0}}\n1963:No result found, output: \n {'tracks': {'href': 'https://api.spotify.com/v1/search?query=Set+The+Fire+To+The+Third+Bar+Snow+Patrol+ft.+Martha+Wainwright&type=track&offset=0&limit=1', 'items': [], 'limit': 1, 'next': None, 'offset': 0, 'previous': None, 'total': 0}}\n1965:No result found, output: \n {'tracks': {'href': 'https://api.spotify.com/v1/search?query=Mister+Blue+Rene+Klijn&type=track&offset=0&limit=1', 'items': [], 'limit': 1, 'next': None, 'offset': 0, 'previous': None, 'total': 0}}\n"
    }
   ],
   "source": [
    "# Find ids for 2019\n",
    "year[\"id\"] = year.apply(searchid, axis = 1, show_missing = True)"
   ]
  },
  {
   "cell_type": "code",
   "execution_count": 23,
   "metadata": {},
   "outputs": [
    {
     "data": {
      "text/plain": "0.0205"
     },
     "execution_count": 23,
     "metadata": {},
     "output_type": "execute_result"
    }
   ],
   "source": [
    "# Check missing\n",
    "np.mean(year[\"id\"].isna())"
   ]
  },
  {
   "cell_type": "code",
   "execution_count": 24,
   "metadata": {},
   "outputs": [],
   "source": [
    "# Save files for manual editing\n",
    "top_2000.to_csv(os.path.join(\"old_records\",'top_2000_1999-2018_ids.csv'), index = False)\n",
    "year.to_csv(os.path.join(\"old_records\",'top_2000_2019_ids.csv'), index = False)"
   ]
  },
  {
   "cell_type": "code",
   "execution_count": 27,
   "metadata": {},
   "outputs": [
    {
     "data": {
      "text/html": "<div>\n<style scoped>\n    .dataframe tbody tr th:only-of-type {\n        vertical-align: middle;\n    }\n\n    .dataframe tbody tr th {\n        vertical-align: top;\n    }\n\n    .dataframe thead th {\n        text-align: right;\n    }\n</style>\n<table border=\"1\" class=\"dataframe\">\n  <thead>\n    <tr style=\"text-align: right;\">\n      <th></th>\n      <th>titel</th>\n      <th>artiest</th>\n      <th>jaar</th>\n      <th>1999</th>\n      <th>2000</th>\n      <th>2001</th>\n      <th>2002</th>\n      <th>2003</th>\n      <th>2004</th>\n      <th>2005</th>\n      <th>...</th>\n      <th>2010</th>\n      <th>2011</th>\n      <th>2012</th>\n      <th>2013</th>\n      <th>2014</th>\n      <th>2015</th>\n      <th>2016</th>\n      <th>2017</th>\n      <th>2018</th>\n      <th>id</th>\n    </tr>\n  </thead>\n  <tbody>\n    <tr>\n      <th>0</th>\n      <td>Bohemian Rhapsody</td>\n      <td>Queen</td>\n      <td>1975</td>\n      <td>1.0</td>\n      <td>1.0</td>\n      <td>1.0</td>\n      <td>1.0</td>\n      <td>1.0</td>\n      <td>1.0</td>\n      <td>2.0</td>\n      <td>...</td>\n      <td>2.0</td>\n      <td>1.0</td>\n      <td>1.0</td>\n      <td>1.0</td>\n      <td>2.0</td>\n      <td>2.0</td>\n      <td>1.0</td>\n      <td>1.0</td>\n      <td>1.0</td>\n      <td>7tFiyTwD0nx5a1eklYtX2J</td>\n    </tr>\n    <tr>\n      <th>1</th>\n      <td>Hotel California</td>\n      <td>Eagles</td>\n      <td>1977</td>\n      <td>2.0</td>\n      <td>4.0</td>\n      <td>3.0</td>\n      <td>3.0</td>\n      <td>2.0</td>\n      <td>2.0</td>\n      <td>3.0</td>\n      <td>...</td>\n      <td>1.0</td>\n      <td>2.0</td>\n      <td>2.0</td>\n      <td>2.0</td>\n      <td>1.0</td>\n      <td>3.0</td>\n      <td>2.0</td>\n      <td>2.0</td>\n      <td>2.0</td>\n      <td>40riOy7x9W7GXjyGp4pjAv</td>\n    </tr>\n    <tr>\n      <th>2</th>\n      <td>Child In Time</td>\n      <td>Deep Purple</td>\n      <td>1972</td>\n      <td>3.0</td>\n      <td>2.0</td>\n      <td>2.0</td>\n      <td>2.0</td>\n      <td>3.0</td>\n      <td>3.0</td>\n      <td>4.0</td>\n      <td>...</td>\n      <td>4.0</td>\n      <td>3.0</td>\n      <td>4.0</td>\n      <td>4.0</td>\n      <td>4.0</td>\n      <td>8.0</td>\n      <td>5.0</td>\n      <td>5.0</td>\n      <td>6.0</td>\n      <td>5TrfusgKC1BYic5LaWCoKm</td>\n    </tr>\n    <tr>\n      <th>3</th>\n      <td>Stairway To Heaven</td>\n      <td>Led Zeppelin</td>\n      <td>1971</td>\n      <td>4.0</td>\n      <td>3.0</td>\n      <td>4.0</td>\n      <td>4.0</td>\n      <td>4.0</td>\n      <td>4.0</td>\n      <td>5.0</td>\n      <td>...</td>\n      <td>5.0</td>\n      <td>5.0</td>\n      <td>3.0</td>\n      <td>3.0</td>\n      <td>3.0</td>\n      <td>5.0</td>\n      <td>3.0</td>\n      <td>3.0</td>\n      <td>4.0</td>\n      <td>5CQ30WqJwcep0pYcV4AMNc</td>\n    </tr>\n    <tr>\n      <th>4</th>\n      <td>Paradise By The Dashboard Light</td>\n      <td>Meat Loaf</td>\n      <td>1978</td>\n      <td>5.0</td>\n      <td>5.0</td>\n      <td>5.0</td>\n      <td>5.0</td>\n      <td>5.0</td>\n      <td>6.0</td>\n      <td>6.0</td>\n      <td>...</td>\n      <td>9.0</td>\n      <td>11.0</td>\n      <td>19.0</td>\n      <td>22.0</td>\n      <td>17.0</td>\n      <td>30.0</td>\n      <td>27.0</td>\n      <td>27.0</td>\n      <td>29.0</td>\n      <td>2g7gviEeJr6pyxO7G35EWQ</td>\n    </tr>\n  </tbody>\n</table>\n<p>5 rows × 24 columns</p>\n</div>",
      "text/plain": "                             titel       artiest  jaar  1999  2000  2001  \\\n0                Bohemian Rhapsody         Queen  1975   1.0   1.0   1.0   \n1                 Hotel California        Eagles  1977   2.0   4.0   3.0   \n2                    Child In Time   Deep Purple  1972   3.0   2.0   2.0   \n3               Stairway To Heaven  Led Zeppelin  1971   4.0   3.0   4.0   \n4  Paradise By The Dashboard Light     Meat Loaf  1978   5.0   5.0   5.0   \n\n   2002  2003  2004  2005  ...  2010  2011  2012  2013  2014  2015  2016  \\\n0   1.0   1.0   1.0   2.0  ...   2.0   1.0   1.0   1.0   2.0   2.0   1.0   \n1   3.0   2.0   2.0   3.0  ...   1.0   2.0   2.0   2.0   1.0   3.0   2.0   \n2   2.0   3.0   3.0   4.0  ...   4.0   3.0   4.0   4.0   4.0   8.0   5.0   \n3   4.0   4.0   4.0   5.0  ...   5.0   5.0   3.0   3.0   3.0   5.0   3.0   \n4   5.0   5.0   6.0   6.0  ...   9.0  11.0  19.0  22.0  17.0  30.0  27.0   \n\n   2017  2018                      id  \n0   1.0   1.0  7tFiyTwD0nx5a1eklYtX2J  \n1   2.0   2.0  40riOy7x9W7GXjyGp4pjAv  \n2   5.0   6.0  5TrfusgKC1BYic5LaWCoKm  \n3   3.0   4.0  5CQ30WqJwcep0pYcV4AMNc  \n4  27.0  29.0  2g7gviEeJr6pyxO7G35EWQ  \n\n[5 rows x 24 columns]"
     },
     "metadata": {},
     "output_type": "display_data"
    },
    {
     "data": {
      "text/html": "<div>\n<style scoped>\n    .dataframe tbody tr th:only-of-type {\n        vertical-align: middle;\n    }\n\n    .dataframe tbody tr th {\n        vertical-align: top;\n    }\n\n    .dataframe thead th {\n        text-align: right;\n    }\n</style>\n<table border=\"1\" class=\"dataframe\">\n  <thead>\n    <tr style=\"text-align: right;\">\n      <th></th>\n      <th>2019</th>\n      <th>titel</th>\n      <th>artiest</th>\n      <th>jaar</th>\n      <th>id</th>\n    </tr>\n  </thead>\n  <tbody>\n    <tr>\n      <th>0</th>\n      <td>1</td>\n      <td>Bohemian Rhapsody</td>\n      <td>Queen</td>\n      <td>1975</td>\n      <td>7tFiyTwD0nx5a1eklYtX2J</td>\n    </tr>\n    <tr>\n      <th>1</th>\n      <td>2</td>\n      <td>Hotel California</td>\n      <td>Eagles</td>\n      <td>1977</td>\n      <td>40riOy7x9W7GXjyGp4pjAv</td>\n    </tr>\n    <tr>\n      <th>2</th>\n      <td>3</td>\n      <td>Piano Man</td>\n      <td>Billy Joel</td>\n      <td>1974</td>\n      <td>70C4NyhjD5OZUMzvWZ3njJ</td>\n    </tr>\n    <tr>\n      <th>3</th>\n      <td>4</td>\n      <td>Roller Coaster</td>\n      <td>Danny Vera</td>\n      <td>2019</td>\n      <td>7rO7Pc5dkC2EIW1OKsCJtQ</td>\n    </tr>\n    <tr>\n      <th>4</th>\n      <td>5</td>\n      <td>Stairway To Heaven</td>\n      <td>Led Zeppelin</td>\n      <td>1971</td>\n      <td>5CQ30WqJwcep0pYcV4AMNc</td>\n    </tr>\n  </tbody>\n</table>\n</div>",
      "text/plain": "   2019               titel       artiest  jaar                      id\n0     1   Bohemian Rhapsody         Queen  1975  7tFiyTwD0nx5a1eklYtX2J\n1     2    Hotel California        Eagles  1977  40riOy7x9W7GXjyGp4pjAv\n2     3           Piano Man    Billy Joel  1974  70C4NyhjD5OZUMzvWZ3njJ\n3     4      Roller Coaster    Danny Vera  2019  7rO7Pc5dkC2EIW1OKsCJtQ\n4     5  Stairway To Heaven  Led Zeppelin  1971  5CQ30WqJwcep0pYcV4AMNc"
     },
     "metadata": {},
     "output_type": "display_data"
    }
   ],
   "source": [
    "# Load files for merging\n",
    "top_2000_edited= pd.read_csv(\"top_2000_1999-2018_ids_edited.csv\")\n",
    "year_edited= pd.read_csv(\"top_2000_2019_ids_edited.csv\")\n",
    "display(top_2000_edited.head())\n",
    "display(year_edited.head())"
   ]
  },
  {
   "cell_type": "code",
   "execution_count": 30,
   "metadata": {},
   "outputs": [],
   "source": [
    "top_2000 = pd.merge(top_2000_edited,year_edited, on=['id'], how='outer')"
   ]
  },
  {
   "cell_type": "code",
   "execution_count": 31,
   "metadata": {},
   "outputs": [
    {
     "data": {
      "text/plain": "Index(['titel_x', 'artiest_x', 'jaar_x', '1999', '2000', '2001', '2002',\n       '2003', '2004', '2005', '2006', '2007', '2008', '2009', '2010', '2011',\n       '2012', '2013', '2014', '2015', '2016', '2017', '2018', 'id', '2019',\n       'titel_y', 'artiest_y', 'jaar_y'],\n      dtype='object')"
     },
     "execution_count": 31,
     "metadata": {},
     "output_type": "execute_result"
    }
   ],
   "source": [
    "top_2000.columns"
   ]
  },
  {
   "cell_type": "code",
   "execution_count": 32,
   "metadata": {},
   "outputs": [
    {
     "data": {
      "text/html": "<div>\n<style scoped>\n    .dataframe tbody tr th:only-of-type {\n        vertical-align: middle;\n    }\n\n    .dataframe tbody tr th {\n        vertical-align: top;\n    }\n\n    .dataframe thead th {\n        text-align: right;\n    }\n</style>\n<table border=\"1\" class=\"dataframe\">\n  <thead>\n    <tr style=\"text-align: right;\">\n      <th></th>\n      <th>titel</th>\n      <th>artiest</th>\n      <th>jaar</th>\n      <th>id</th>\n      <th>1999</th>\n      <th>2000</th>\n      <th>2001</th>\n      <th>2002</th>\n      <th>2003</th>\n      <th>2004</th>\n      <th>...</th>\n      <th>2010</th>\n      <th>2011</th>\n      <th>2012</th>\n      <th>2013</th>\n      <th>2014</th>\n      <th>2015</th>\n      <th>2016</th>\n      <th>2017</th>\n      <th>2018</th>\n      <th>2019</th>\n    </tr>\n  </thead>\n  <tbody>\n    <tr>\n      <th>0</th>\n      <td>Bohemian Rhapsody</td>\n      <td>Queen</td>\n      <td>1975.0</td>\n      <td>7tFiyTwD0nx5a1eklYtX2J</td>\n      <td>1.0</td>\n      <td>1.0</td>\n      <td>1.0</td>\n      <td>1.0</td>\n      <td>1.0</td>\n      <td>1.0</td>\n      <td>...</td>\n      <td>2.0</td>\n      <td>1.0</td>\n      <td>1.0</td>\n      <td>1.0</td>\n      <td>2.0</td>\n      <td>2.0</td>\n      <td>1.0</td>\n      <td>1.0</td>\n      <td>1.0</td>\n      <td>1.0</td>\n    </tr>\n    <tr>\n      <th>1</th>\n      <td>Hotel California</td>\n      <td>Eagles</td>\n      <td>1977.0</td>\n      <td>40riOy7x9W7GXjyGp4pjAv</td>\n      <td>2.0</td>\n      <td>4.0</td>\n      <td>3.0</td>\n      <td>3.0</td>\n      <td>2.0</td>\n      <td>2.0</td>\n      <td>...</td>\n      <td>1.0</td>\n      <td>2.0</td>\n      <td>2.0</td>\n      <td>2.0</td>\n      <td>1.0</td>\n      <td>3.0</td>\n      <td>2.0</td>\n      <td>2.0</td>\n      <td>2.0</td>\n      <td>2.0</td>\n    </tr>\n    <tr>\n      <th>2</th>\n      <td>Child In Time</td>\n      <td>Deep Purple</td>\n      <td>1972.0</td>\n      <td>5TrfusgKC1BYic5LaWCoKm</td>\n      <td>3.0</td>\n      <td>2.0</td>\n      <td>2.0</td>\n      <td>2.0</td>\n      <td>3.0</td>\n      <td>3.0</td>\n      <td>...</td>\n      <td>4.0</td>\n      <td>3.0</td>\n      <td>4.0</td>\n      <td>4.0</td>\n      <td>4.0</td>\n      <td>8.0</td>\n      <td>5.0</td>\n      <td>5.0</td>\n      <td>6.0</td>\n      <td>12.0</td>\n    </tr>\n    <tr>\n      <th>3</th>\n      <td>Stairway To Heaven</td>\n      <td>Led Zeppelin</td>\n      <td>1971.0</td>\n      <td>5CQ30WqJwcep0pYcV4AMNc</td>\n      <td>4.0</td>\n      <td>3.0</td>\n      <td>4.0</td>\n      <td>4.0</td>\n      <td>4.0</td>\n      <td>4.0</td>\n      <td>...</td>\n      <td>5.0</td>\n      <td>5.0</td>\n      <td>3.0</td>\n      <td>3.0</td>\n      <td>3.0</td>\n      <td>5.0</td>\n      <td>3.0</td>\n      <td>3.0</td>\n      <td>4.0</td>\n      <td>5.0</td>\n    </tr>\n    <tr>\n      <th>4</th>\n      <td>Paradise By The Dashboard Light</td>\n      <td>Meat Loaf</td>\n      <td>1978.0</td>\n      <td>2g7gviEeJr6pyxO7G35EWQ</td>\n      <td>5.0</td>\n      <td>5.0</td>\n      <td>5.0</td>\n      <td>5.0</td>\n      <td>5.0</td>\n      <td>6.0</td>\n      <td>...</td>\n      <td>9.0</td>\n      <td>11.0</td>\n      <td>19.0</td>\n      <td>22.0</td>\n      <td>17.0</td>\n      <td>30.0</td>\n      <td>27.0</td>\n      <td>27.0</td>\n      <td>29.0</td>\n      <td>35.0</td>\n    </tr>\n  </tbody>\n</table>\n<p>5 rows × 25 columns</p>\n</div>",
      "text/plain": "                             titel       artiest    jaar  \\\n0                Bohemian Rhapsody         Queen  1975.0   \n1                 Hotel California        Eagles  1977.0   \n2                    Child In Time   Deep Purple  1972.0   \n3               Stairway To Heaven  Led Zeppelin  1971.0   \n4  Paradise By The Dashboard Light     Meat Loaf  1978.0   \n\n                       id  1999  2000  2001  2002  2003  2004  ...  2010  \\\n0  7tFiyTwD0nx5a1eklYtX2J   1.0   1.0   1.0   1.0   1.0   1.0  ...   2.0   \n1  40riOy7x9W7GXjyGp4pjAv   2.0   4.0   3.0   3.0   2.0   2.0  ...   1.0   \n2  5TrfusgKC1BYic5LaWCoKm   3.0   2.0   2.0   2.0   3.0   3.0  ...   4.0   \n3  5CQ30WqJwcep0pYcV4AMNc   4.0   3.0   4.0   4.0   4.0   4.0  ...   5.0   \n4  2g7gviEeJr6pyxO7G35EWQ   5.0   5.0   5.0   5.0   5.0   6.0  ...   9.0   \n\n   2011  2012  2013  2014  2015  2016  2017  2018  2019  \n0   1.0   1.0   1.0   2.0   2.0   1.0   1.0   1.0   1.0  \n1   2.0   2.0   2.0   1.0   3.0   2.0   2.0   2.0   2.0  \n2   3.0   4.0   4.0   4.0   8.0   5.0   5.0   6.0  12.0  \n3   5.0   3.0   3.0   3.0   5.0   3.0   3.0   4.0   5.0  \n4  11.0  19.0  22.0  17.0  30.0  27.0  27.0  29.0  35.0  \n\n[5 rows x 25 columns]"
     },
     "execution_count": 32,
     "metadata": {},
     "output_type": "execute_result"
    }
   ],
   "source": [
    "# top_2000.drop(columns=['titel_y','artiest_y','jaar_y'], inplace = True)\n",
    "top_2000 = top_2000.rename(columns={'artiest_x': 'artiest',\"titel_x\":\"titel\",\"jaar_x\":\"jaar\" })\n",
    "top_2000 = top_2000[['titel', 'artiest', 'jaar', 'id', '1999', '2000', '2001', '2002', '2003', '2004', '2005', '2006', '2007', '2008', '2009', '2010', '2011', '2012', '2013', '2014', '2015', '2016', '2017', '2018', '2019']]\n",
    "top_2000.head()"
   ]
  },
  {
   "cell_type": "code",
   "execution_count": 33,
   "metadata": {},
   "outputs": [
    {
     "data": {
      "text/html": "<div>\n<style scoped>\n    .dataframe tbody tr th:only-of-type {\n        vertical-align: middle;\n    }\n\n    .dataframe tbody tr th {\n        vertical-align: top;\n    }\n\n    .dataframe thead th {\n        text-align: right;\n    }\n</style>\n<table border=\"1\" class=\"dataframe\">\n  <thead>\n    <tr style=\"text-align: right;\">\n      <th></th>\n      <th>titel</th>\n      <th>artiest</th>\n      <th>jaar</th>\n      <th>id</th>\n      <th>1999</th>\n      <th>2000</th>\n      <th>2001</th>\n      <th>2002</th>\n      <th>2003</th>\n      <th>2004</th>\n      <th>...</th>\n      <th>2010</th>\n      <th>2011</th>\n      <th>2012</th>\n      <th>2013</th>\n      <th>2014</th>\n      <th>2015</th>\n      <th>2016</th>\n      <th>2017</th>\n      <th>2018</th>\n      <th>2019</th>\n    </tr>\n  </thead>\n  <tbody>\n    <tr>\n      <th>0</th>\n      <td>Bohemian Rhapsody</td>\n      <td>Queen</td>\n      <td>1975</td>\n      <td>7tFiyTwD0nx5a1eklYtX2J</td>\n      <td>1</td>\n      <td>1</td>\n      <td>1</td>\n      <td>1</td>\n      <td>1</td>\n      <td>1</td>\n      <td>...</td>\n      <td>2</td>\n      <td>1</td>\n      <td>1</td>\n      <td>1</td>\n      <td>2</td>\n      <td>2</td>\n      <td>1</td>\n      <td>1</td>\n      <td>1</td>\n      <td>1</td>\n    </tr>\n    <tr>\n      <th>1</th>\n      <td>Hotel California</td>\n      <td>Eagles</td>\n      <td>1977</td>\n      <td>40riOy7x9W7GXjyGp4pjAv</td>\n      <td>2</td>\n      <td>4</td>\n      <td>3</td>\n      <td>3</td>\n      <td>2</td>\n      <td>2</td>\n      <td>...</td>\n      <td>1</td>\n      <td>2</td>\n      <td>2</td>\n      <td>2</td>\n      <td>1</td>\n      <td>3</td>\n      <td>2</td>\n      <td>2</td>\n      <td>2</td>\n      <td>2</td>\n    </tr>\n    <tr>\n      <th>2</th>\n      <td>Child In Time</td>\n      <td>Deep Purple</td>\n      <td>1972</td>\n      <td>5TrfusgKC1BYic5LaWCoKm</td>\n      <td>3</td>\n      <td>2</td>\n      <td>2</td>\n      <td>2</td>\n      <td>3</td>\n      <td>3</td>\n      <td>...</td>\n      <td>4</td>\n      <td>3</td>\n      <td>4</td>\n      <td>4</td>\n      <td>4</td>\n      <td>8</td>\n      <td>5</td>\n      <td>5</td>\n      <td>6</td>\n      <td>12</td>\n    </tr>\n    <tr>\n      <th>3</th>\n      <td>Stairway To Heaven</td>\n      <td>Led Zeppelin</td>\n      <td>1971</td>\n      <td>5CQ30WqJwcep0pYcV4AMNc</td>\n      <td>4</td>\n      <td>3</td>\n      <td>4</td>\n      <td>4</td>\n      <td>4</td>\n      <td>4</td>\n      <td>...</td>\n      <td>5</td>\n      <td>5</td>\n      <td>3</td>\n      <td>3</td>\n      <td>3</td>\n      <td>5</td>\n      <td>3</td>\n      <td>3</td>\n      <td>4</td>\n      <td>5</td>\n    </tr>\n    <tr>\n      <th>4</th>\n      <td>Paradise By The Dashboard Light</td>\n      <td>Meat Loaf</td>\n      <td>1978</td>\n      <td>2g7gviEeJr6pyxO7G35EWQ</td>\n      <td>5</td>\n      <td>5</td>\n      <td>5</td>\n      <td>5</td>\n      <td>5</td>\n      <td>6</td>\n      <td>...</td>\n      <td>9</td>\n      <td>11</td>\n      <td>19</td>\n      <td>22</td>\n      <td>17</td>\n      <td>30</td>\n      <td>27</td>\n      <td>27</td>\n      <td>29</td>\n      <td>35</td>\n    </tr>\n    <tr>\n      <th>...</th>\n      <td>...</td>\n      <td>...</td>\n      <td>...</td>\n      <td>...</td>\n      <td>...</td>\n      <td>...</td>\n      <td>...</td>\n      <td>...</td>\n      <td>...</td>\n      <td>...</td>\n      <td>...</td>\n      <td>...</td>\n      <td>...</td>\n      <td>...</td>\n      <td>...</td>\n      <td>...</td>\n      <td>...</td>\n      <td>...</td>\n      <td>...</td>\n      <td>...</td>\n      <td>...</td>\n    </tr>\n    <tr>\n      <th>95</th>\n      <td>Mama</td>\n      <td>Genesis</td>\n      <td>1983</td>\n      <td>6kIwzLSiQU51taaaZ9zWSE</td>\n      <td>93</td>\n      <td>107</td>\n      <td>93</td>\n      <td>102</td>\n      <td>113</td>\n      <td>143</td>\n      <td>...</td>\n      <td>188</td>\n      <td>211</td>\n      <td>227</td>\n      <td>231</td>\n      <td>215</td>\n      <td>233</td>\n      <td>225</td>\n      <td>175</td>\n      <td>342</td>\n      <td>334</td>\n    </tr>\n    <tr>\n      <th>96</th>\n      <td>Blowin' In The Wind</td>\n      <td>Bob Dylan</td>\n      <td>1963</td>\n      <td>18GiV1BaXzPVYpp9rmOg0E</td>\n      <td>94</td>\n      <td>147</td>\n      <td>179</td>\n      <td>195</td>\n      <td>211</td>\n      <td>194</td>\n      <td>...</td>\n      <td>199</td>\n      <td>262</td>\n      <td>317</td>\n      <td>331</td>\n      <td>488</td>\n      <td>412</td>\n      <td>417</td>\n      <td>549</td>\n      <td>605</td>\n      <td>653</td>\n    </tr>\n    <tr>\n      <th>97</th>\n      <td>Dust In The Wind</td>\n      <td>Kansas</td>\n      <td>1978</td>\n      <td>6zeE5tKyr8Nu882DQhhSQI</td>\n      <td>95</td>\n      <td>183</td>\n      <td>338</td>\n      <td>161</td>\n      <td>127</td>\n      <td>227</td>\n      <td>...</td>\n      <td>375</td>\n      <td>330</td>\n      <td>250</td>\n      <td>219</td>\n      <td>224</td>\n      <td>213</td>\n      <td>235</td>\n      <td>214</td>\n      <td>263</td>\n      <td>275</td>\n    </tr>\n    <tr>\n      <th>98</th>\n      <td>Eternal Flame</td>\n      <td>Bangles</td>\n      <td>1989</td>\n      <td>5MoDQWMDMaAGDEiWsJfeCi</td>\n      <td>96</td>\n      <td>138</td>\n      <td>104</td>\n      <td>199</td>\n      <td>244</td>\n      <td>205</td>\n      <td>...</td>\n      <td>427</td>\n      <td>546</td>\n      <td>835</td>\n      <td>814</td>\n      <td>666</td>\n      <td>774</td>\n      <td>662</td>\n      <td>775</td>\n      <td>1120</td>\n      <td>1300</td>\n    </tr>\n    <tr>\n      <th>99</th>\n      <td>Strawberry Fields Forever</td>\n      <td>Beatles</td>\n      <td>1967</td>\n      <td>3Am0IbOxmvlSXro7N5iSfZ</td>\n      <td>97</td>\n      <td>131</td>\n      <td>180</td>\n      <td>214</td>\n      <td>207</td>\n      <td>259</td>\n      <td>...</td>\n      <td>247</td>\n      <td>271</td>\n      <td>308</td>\n      <td>301</td>\n      <td>395</td>\n      <td>322</td>\n      <td>387</td>\n      <td>505</td>\n      <td>587</td>\n      <td>548</td>\n    </tr>\n  </tbody>\n</table>\n<p>100 rows × 25 columns</p>\n</div>",
      "text/plain": "                              titel       artiest  jaar  \\\n0                 Bohemian Rhapsody         Queen  1975   \n1                  Hotel California        Eagles  1977   \n2                     Child In Time   Deep Purple  1972   \n3                Stairway To Heaven  Led Zeppelin  1971   \n4   Paradise By The Dashboard Light     Meat Loaf  1978   \n..                              ...           ...   ...   \n95                             Mama       Genesis  1983   \n96              Blowin' In The Wind     Bob Dylan  1963   \n97                 Dust In The Wind        Kansas  1978   \n98                    Eternal Flame       Bangles  1989   \n99        Strawberry Fields Forever       Beatles  1967   \n\n                        id  1999  2000  2001  2002  2003  2004  ...  2010  \\\n0   7tFiyTwD0nx5a1eklYtX2J     1     1     1     1     1     1  ...     2   \n1   40riOy7x9W7GXjyGp4pjAv     2     4     3     3     2     2  ...     1   \n2   5TrfusgKC1BYic5LaWCoKm     3     2     2     2     3     3  ...     4   \n3   5CQ30WqJwcep0pYcV4AMNc     4     3     4     4     4     4  ...     5   \n4   2g7gviEeJr6pyxO7G35EWQ     5     5     5     5     5     6  ...     9   \n..                     ...   ...   ...   ...   ...   ...   ...  ...   ...   \n95  6kIwzLSiQU51taaaZ9zWSE    93   107    93   102   113   143  ...   188   \n96  18GiV1BaXzPVYpp9rmOg0E    94   147   179   195   211   194  ...   199   \n97  6zeE5tKyr8Nu882DQhhSQI    95   183   338   161   127   227  ...   375   \n98  5MoDQWMDMaAGDEiWsJfeCi    96   138   104   199   244   205  ...   427   \n99  3Am0IbOxmvlSXro7N5iSfZ    97   131   180   214   207   259  ...   247   \n\n    2011  2012  2013  2014  2015  2016  2017  2018  2019  \n0      1     1     1     2     2     1     1     1     1  \n1      2     2     2     1     3     2     2     2     2  \n2      3     4     4     4     8     5     5     6    12  \n3      5     3     3     3     5     3     3     4     5  \n4     11    19    22    17    30    27    27    29    35  \n..   ...   ...   ...   ...   ...   ...   ...   ...   ...  \n95   211   227   231   215   233   225   175   342   334  \n96   262   317   331   488   412   417   549   605   653  \n97   330   250   219   224   213   235   214   263   275  \n98   546   835   814   666   774   662   775  1120  1300  \n99   271   308   301   395   322   387   505   587   548  \n\n[100 rows x 25 columns]"
     },
     "metadata": {},
     "output_type": "display_data"
    },
    {
     "name": "stdout",
     "output_type": "stream",
     "text": "titel      object\nartiest    object\njaar        Int64\nid         object\n1999        Int64\n2000        Int64\n2001        Int64\n2002        Int64\n2003        Int64\n2004        Int64\n2005        Int64\n2006        Int64\n2007        Int64\n2008        Int64\n2009        Int64\n2010        Int64\n2011        Int64\n2012        Int64\n2013        Int64\n2014        Int64\n2015        Int64\n2016        Int64\n2017        Int64\n2018        Int64\n2019        Int64\ndtype: object\n"
    }
   ],
   "source": [
    "# NaNs are floats in pandas, therefore all years are of type float\n",
    "# This can be handled by an experimental functionality in pandas 1.0.1\n",
    "top_2000.iloc[:,4:] = top_2000.iloc[:,4:].astype(\"Int64\", copy=False)\n",
    "top_2000['jaar'] = top_2000['jaar'].astype(\"Int64\", copy=False)\n",
    "# Check if list is now int\n",
    "display(top_2000.head(100))\n",
    "print(top_2000.dtypes)"
   ]
  },
  {
   "cell_type": "code",
   "execution_count": 34,
   "metadata": {},
   "outputs": [],
   "source": [
    "# Save files\n",
    "top_2000.to_json('top_2000_clean.json', orient='records')\n",
    "top_2000.to_csv('top_2000_clean.csv', index = False)\n",
    "top_2000.to_pickle('top_2000_clean.pickle')"
   ]
  },
  {
   "cell_type": "markdown",
   "execution_count": null,
   "metadata": {},
   "outputs": [],
   "source": [
    "# Testing for errors"
   ]
  },
  {
   "cell_type": "code",
   "execution_count": 36,
   "metadata": {},
   "outputs": [
    {
     "data": {
      "text/html": "<div>\n<style scoped>\n    .dataframe tbody tr th:only-of-type {\n        vertical-align: middle;\n    }\n\n    .dataframe tbody tr th {\n        vertical-align: top;\n    }\n\n    .dataframe thead th {\n        text-align: right;\n    }\n</style>\n<table border=\"1\" class=\"dataframe\">\n  <thead>\n    <tr style=\"text-align: right;\">\n      <th></th>\n      <th>titel</th>\n      <th>artiest</th>\n      <th>jaar</th>\n      <th>id</th>\n      <th>1999</th>\n      <th>2000</th>\n      <th>2001</th>\n      <th>2002</th>\n      <th>2003</th>\n      <th>2004</th>\n      <th>...</th>\n      <th>2010</th>\n      <th>2011</th>\n      <th>2012</th>\n      <th>2013</th>\n      <th>2014</th>\n      <th>2015</th>\n      <th>2016</th>\n      <th>2017</th>\n      <th>2018</th>\n      <th>2019</th>\n    </tr>\n  </thead>\n  <tbody>\n    <tr>\n      <th>2965</th>\n      <td>Diep In Mijn Hart</td>\n      <td>Andre Hazes</td>\n      <td>1982</td>\n      <td>0v3mANt7p4JEAvvcXDMbgg</td>\n      <td>&lt;NA&gt;</td>\n      <td>&lt;NA&gt;</td>\n      <td>1241</td>\n      <td>&lt;NA&gt;</td>\n      <td>1900</td>\n      <td>1125</td>\n      <td>...</td>\n      <td>&lt;NA&gt;</td>\n      <td>&lt;NA&gt;</td>\n      <td>&lt;NA&gt;</td>\n      <td>&lt;NA&gt;</td>\n      <td>&lt;NA&gt;</td>\n      <td>&lt;NA&gt;</td>\n      <td>&lt;NA&gt;</td>\n      <td>&lt;NA&gt;</td>\n      <td>&lt;NA&gt;</td>\n      <td>&lt;NA&gt;</td>\n    </tr>\n    <tr>\n      <th>3035</th>\n      <td>Ik Meen 't</td>\n      <td>Andre Hazes</td>\n      <td>1985</td>\n      <td>4GjiaTlp6PS4YmM20b8YJo</td>\n      <td>&lt;NA&gt;</td>\n      <td>&lt;NA&gt;</td>\n      <td>&lt;NA&gt;</td>\n      <td>1290</td>\n      <td>1800</td>\n      <td>1250</td>\n      <td>...</td>\n      <td>&lt;NA&gt;</td>\n      <td>&lt;NA&gt;</td>\n      <td>&lt;NA&gt;</td>\n      <td>&lt;NA&gt;</td>\n      <td>&lt;NA&gt;</td>\n      <td>&lt;NA&gt;</td>\n      <td>&lt;NA&gt;</td>\n      <td>&lt;NA&gt;</td>\n      <td>&lt;NA&gt;</td>\n      <td>&lt;NA&gt;</td>\n    </tr>\n    <tr>\n      <th>3125</th>\n      <td>Eenzame Kerst</td>\n      <td>Andre Hazes</td>\n      <td>1976</td>\n      <td>2xVGa96RYyDGeOrRZdagt2</td>\n      <td>&lt;NA&gt;</td>\n      <td>&lt;NA&gt;</td>\n      <td>&lt;NA&gt;</td>\n      <td>&lt;NA&gt;</td>\n      <td>1706</td>\n      <td>788</td>\n      <td>...</td>\n      <td>&lt;NA&gt;</td>\n      <td>&lt;NA&gt;</td>\n      <td>&lt;NA&gt;</td>\n      <td>&lt;NA&gt;</td>\n      <td>&lt;NA&gt;</td>\n      <td>&lt;NA&gt;</td>\n      <td>&lt;NA&gt;</td>\n      <td>&lt;NA&gt;</td>\n      <td>&lt;NA&gt;</td>\n      <td>&lt;NA&gt;</td>\n    </tr>\n    <tr>\n      <th>3205</th>\n      <td>Droomland</td>\n      <td>André Hazes &amp; Paul de Leeuw</td>\n      <td>1993</td>\n      <td>4EsHC0ms7bYJtJpOs9L21Q</td>\n      <td>&lt;NA&gt;</td>\n      <td>&lt;NA&gt;</td>\n      <td>&lt;NA&gt;</td>\n      <td>&lt;NA&gt;</td>\n      <td>&lt;NA&gt;</td>\n      <td>&lt;NA&gt;</td>\n      <td>...</td>\n      <td>630</td>\n      <td>783</td>\n      <td>599</td>\n      <td>603</td>\n      <td>702</td>\n      <td>815</td>\n      <td>1015</td>\n      <td>987</td>\n      <td>916</td>\n      <td>&lt;NA&gt;</td>\n    </tr>\n  </tbody>\n</table>\n<p>4 rows × 25 columns</p>\n</div>",
      "text/plain": "                  titel                      artiest  jaar  \\\n2965  Diep In Mijn Hart                  Andre Hazes  1982   \n3035         Ik Meen 't                  Andre Hazes  1985   \n3125      Eenzame Kerst                  Andre Hazes  1976   \n3205          Droomland  André Hazes & Paul de Leeuw  1993   \n\n                          id  1999  2000  2001  2002  2003  2004  ...  2010  \\\n2965  0v3mANt7p4JEAvvcXDMbgg  <NA>  <NA>  1241  <NA>  1900  1125  ...  <NA>   \n3035  4GjiaTlp6PS4YmM20b8YJo  <NA>  <NA>  <NA>  1290  1800  1250  ...  <NA>   \n3125  2xVGa96RYyDGeOrRZdagt2  <NA>  <NA>  <NA>  <NA>  1706   788  ...  <NA>   \n3205  4EsHC0ms7bYJtJpOs9L21Q  <NA>  <NA>  <NA>  <NA>  <NA>  <NA>  ...   630   \n\n      2011  2012  2013  2014  2015  2016  2017  2018  2019  \n2965  <NA>  <NA>  <NA>  <NA>  <NA>  <NA>  <NA>  <NA>  <NA>  \n3035  <NA>  <NA>  <NA>  <NA>  <NA>  <NA>  <NA>  <NA>  <NA>  \n3125  <NA>  <NA>  <NA>  <NA>  <NA>  <NA>  <NA>  <NA>  <NA>  \n3205   783   599   603   702   815  1015   987   916  <NA>  \n\n[4 rows x 25 columns]"
     },
     "execution_count": 36,
     "metadata": {},
     "output_type": "execute_result"
    }
   ],
   "source": [
    "top_2000[(top_2000['artiest'].str.match(\"Andr. Hazes\", case = False))&(top_2000['2019'].isna())]"
   ]
  },
  {
   "cell_type": "code",
   "execution_count": 38,
   "metadata": {},
   "outputs": [
    {
     "data": {
      "text/html": "<div>\n<style scoped>\n    .dataframe tbody tr th:only-of-type {\n        vertical-align: middle;\n    }\n\n    .dataframe tbody tr th {\n        vertical-align: top;\n    }\n\n    .dataframe thead th {\n        text-align: right;\n    }\n</style>\n<table border=\"1\" class=\"dataframe\">\n  <thead>\n    <tr style=\"text-align: right;\">\n      <th></th>\n      <th>titel</th>\n      <th>artiest</th>\n      <th>jaar</th>\n      <th>id</th>\n      <th>1999</th>\n      <th>2000</th>\n      <th>2001</th>\n      <th>2002</th>\n      <th>2003</th>\n      <th>2004</th>\n      <th>...</th>\n      <th>2010</th>\n      <th>2011</th>\n      <th>2012</th>\n      <th>2013</th>\n      <th>2014</th>\n      <th>2015</th>\n      <th>2016</th>\n      <th>2017</th>\n      <th>2018</th>\n      <th>2019</th>\n    </tr>\n  </thead>\n  <tbody>\n    <tr>\n      <th>924</th>\n      <td>15 Miljoen Mensen</td>\n      <td>Fluitsma &amp; Van Tijn</td>\n      <td>1996</td>\n      <td>2GBJFvDr62eIX24a3t6pBr</td>\n      <td>572</td>\n      <td>&lt;NA&gt;</td>\n      <td>1316</td>\n      <td>1117</td>\n      <td>1051</td>\n      <td>1419</td>\n      <td>...</td>\n      <td>1965</td>\n      <td>1848</td>\n      <td>791</td>\n      <td>1558</td>\n      <td>&lt;NA&gt;</td>\n      <td>&lt;NA&gt;</td>\n      <td>&lt;NA&gt;</td>\n      <td>&lt;NA&gt;</td>\n      <td>1843</td>\n      <td>&lt;NA&gt;</td>\n    </tr>\n    <tr>\n      <th>107</th>\n      <td>32 Jaar (Sinds 1 Dag Of 2)</td>\n      <td>Doe Maar</td>\n      <td>1981</td>\n      <td>1ksgGtjAPqTIC5pvhPOZE6</td>\n      <td>105</td>\n      <td>203</td>\n      <td>367</td>\n      <td>366</td>\n      <td>338</td>\n      <td>363</td>\n      <td>...</td>\n      <td>566</td>\n      <td>439</td>\n      <td>172</td>\n      <td>531</td>\n      <td>678</td>\n      <td>584</td>\n      <td>605</td>\n      <td>626</td>\n      <td>461</td>\n      <td>&lt;NA&gt;</td>\n    </tr>\n    <tr>\n      <th>1290</th>\n      <td>Across The Universe</td>\n      <td>Beatles</td>\n      <td>1970</td>\n      <td>4dkoqJrP0L8FXftrMZongF</td>\n      <td>945</td>\n      <td>&lt;NA&gt;</td>\n      <td>1283</td>\n      <td>&lt;NA&gt;</td>\n      <td>933</td>\n      <td>1183</td>\n      <td>...</td>\n      <td>1178</td>\n      <td>1128</td>\n      <td>951</td>\n      <td>1164</td>\n      <td>1705</td>\n      <td>1680</td>\n      <td>&lt;NA&gt;</td>\n      <td>1756</td>\n      <td>1832</td>\n      <td>&lt;NA&gt;</td>\n    </tr>\n    <tr>\n      <th>1093</th>\n      <td>Ain't Got No, I Got Life</td>\n      <td>Nina Simone</td>\n      <td>1968</td>\n      <td>5VgcM58bybW45T2WgTdbeY</td>\n      <td>745</td>\n      <td>687</td>\n      <td>926</td>\n      <td>988</td>\n      <td>782</td>\n      <td>702</td>\n      <td>...</td>\n      <td>569</td>\n      <td>573</td>\n      <td>294</td>\n      <td>461</td>\n      <td>668</td>\n      <td>636</td>\n      <td>740</td>\n      <td>815</td>\n      <td>509</td>\n      <td>&lt;NA&gt;</td>\n    </tr>\n    <tr>\n      <th>3472</th>\n      <td>As</td>\n      <td>Stevie Wonder</td>\n      <td>1976</td>\n      <td>13toFl1UwJPsRxDiD9jgtn</td>\n      <td>&lt;NA&gt;</td>\n      <td>&lt;NA&gt;</td>\n      <td>&lt;NA&gt;</td>\n      <td>&lt;NA&gt;</td>\n      <td>&lt;NA&gt;</td>\n      <td>&lt;NA&gt;</td>\n      <td>...</td>\n      <td>1318</td>\n      <td>1163</td>\n      <td>1507</td>\n      <td>1062</td>\n      <td>1546</td>\n      <td>1881</td>\n      <td>1897</td>\n      <td>1893</td>\n      <td>1970</td>\n      <td>&lt;NA&gt;</td>\n    </tr>\n    <tr>\n      <th>...</th>\n      <td>...</td>\n      <td>...</td>\n      <td>...</td>\n      <td>...</td>\n      <td>...</td>\n      <td>...</td>\n      <td>...</td>\n      <td>...</td>\n      <td>...</td>\n      <td>...</td>\n      <td>...</td>\n      <td>...</td>\n      <td>...</td>\n      <td>...</td>\n      <td>...</td>\n      <td>...</td>\n      <td>...</td>\n      <td>...</td>\n      <td>...</td>\n      <td>...</td>\n      <td>...</td>\n    </tr>\n    <tr>\n      <th>731</th>\n      <td>YMCA</td>\n      <td>Village People</td>\n      <td>1978</td>\n      <td>7Cp69rNBwU0gaFT8zxExlE</td>\n      <td>377</td>\n      <td>684</td>\n      <td>711</td>\n      <td>887</td>\n      <td>550</td>\n      <td>922</td>\n      <td>...</td>\n      <td>1813</td>\n      <td>&lt;NA&gt;</td>\n      <td>&lt;NA&gt;</td>\n      <td>1772</td>\n      <td>1772</td>\n      <td>1827</td>\n      <td>1838</td>\n      <td>&lt;NA&gt;</td>\n      <td>1842</td>\n      <td>&lt;NA&gt;</td>\n    </tr>\n    <tr>\n      <th>1319</th>\n      <td>You And Me</td>\n      <td>Spargo</td>\n      <td>1980</td>\n      <td>7vdCyoiMaAaC3cVXqrtXNj</td>\n      <td>974</td>\n      <td>1411</td>\n      <td>1153</td>\n      <td>1616</td>\n      <td>1137</td>\n      <td>1617</td>\n      <td>...</td>\n      <td>&lt;NA&gt;</td>\n      <td>&lt;NA&gt;</td>\n      <td>&lt;NA&gt;</td>\n      <td>&lt;NA&gt;</td>\n      <td>&lt;NA&gt;</td>\n      <td>&lt;NA&gt;</td>\n      <td>&lt;NA&gt;</td>\n      <td>&lt;NA&gt;</td>\n      <td>1461</td>\n      <td>&lt;NA&gt;</td>\n    </tr>\n    <tr>\n      <th>1116</th>\n      <td>You're The Inspiration</td>\n      <td>Chicago</td>\n      <td>1985</td>\n      <td>36lkJSDyMEZoWTqtRj8Q8q</td>\n      <td>771</td>\n      <td>&lt;NA&gt;</td>\n      <td>1016</td>\n      <td>955</td>\n      <td>1232</td>\n      <td>1402</td>\n      <td>...</td>\n      <td>1649</td>\n      <td>1653</td>\n      <td>1918</td>\n      <td>1841</td>\n      <td>1740</td>\n      <td>1960</td>\n      <td>1962</td>\n      <td>1849</td>\n      <td>1976</td>\n      <td>&lt;NA&gt;</td>\n    </tr>\n    <tr>\n      <th>224</th>\n      <td>Zeg Me Dat Het Niet Zo Is</td>\n      <td>Frank Boeijen</td>\n      <td>1990</td>\n      <td>68avKu8llm4sHD7MtQfpOr</td>\n      <td>217</td>\n      <td>&lt;NA&gt;</td>\n      <td>301</td>\n      <td>287</td>\n      <td>192</td>\n      <td>246</td>\n      <td>...</td>\n      <td>284</td>\n      <td>344</td>\n      <td>255</td>\n      <td>256</td>\n      <td>134</td>\n      <td>129</td>\n      <td>172</td>\n      <td>220</td>\n      <td>233</td>\n      <td>&lt;NA&gt;</td>\n    </tr>\n    <tr>\n      <th>819</th>\n      <td>Zwart-Wit</td>\n      <td>Frank Boeijen</td>\n      <td>1984</td>\n      <td>7tSiviDosOTIi30RhaOvvM</td>\n      <td>467</td>\n      <td>602</td>\n      <td>744</td>\n      <td>907</td>\n      <td>848</td>\n      <td>712</td>\n      <td>...</td>\n      <td>1227</td>\n      <td>1150</td>\n      <td>1191</td>\n      <td>1025</td>\n      <td>1000</td>\n      <td>856</td>\n      <td>979</td>\n      <td>1069</td>\n      <td>881</td>\n      <td>&lt;NA&gt;</td>\n    </tr>\n  </tbody>\n</table>\n<p>117 rows × 25 columns</p>\n</div>",
      "text/plain": "                           titel              artiest  jaar  \\\n924            15 Miljoen Mensen  Fluitsma & Van Tijn  1996   \n107   32 Jaar (Sinds 1 Dag Of 2)             Doe Maar  1981   \n1290         Across The Universe              Beatles  1970   \n1093    Ain't Got No, I Got Life          Nina Simone  1968   \n3472                          As        Stevie Wonder  1976   \n...                          ...                  ...   ...   \n731                         YMCA       Village People  1978   \n1319                  You And Me               Spargo  1980   \n1116      You're The Inspiration              Chicago  1985   \n224    Zeg Me Dat Het Niet Zo Is        Frank Boeijen  1990   \n819                    Zwart-Wit        Frank Boeijen  1984   \n\n                          id  1999  2000  2001  2002  2003  2004  ...  2010  \\\n924   2GBJFvDr62eIX24a3t6pBr   572  <NA>  1316  1117  1051  1419  ...  1965   \n107   1ksgGtjAPqTIC5pvhPOZE6   105   203   367   366   338   363  ...   566   \n1290  4dkoqJrP0L8FXftrMZongF   945  <NA>  1283  <NA>   933  1183  ...  1178   \n1093  5VgcM58bybW45T2WgTdbeY   745   687   926   988   782   702  ...   569   \n3472  13toFl1UwJPsRxDiD9jgtn  <NA>  <NA>  <NA>  <NA>  <NA>  <NA>  ...  1318   \n...                      ...   ...   ...   ...   ...   ...   ...  ...   ...   \n731   7Cp69rNBwU0gaFT8zxExlE   377   684   711   887   550   922  ...  1813   \n1319  7vdCyoiMaAaC3cVXqrtXNj   974  1411  1153  1616  1137  1617  ...  <NA>   \n1116  36lkJSDyMEZoWTqtRj8Q8q   771  <NA>  1016   955  1232  1402  ...  1649   \n224   68avKu8llm4sHD7MtQfpOr   217  <NA>   301   287   192   246  ...   284   \n819   7tSiviDosOTIi30RhaOvvM   467   602   744   907   848   712  ...  1227   \n\n      2011  2012  2013  2014  2015  2016  2017  2018  2019  \n924   1848   791  1558  <NA>  <NA>  <NA>  <NA>  1843  <NA>  \n107    439   172   531   678   584   605   626   461  <NA>  \n1290  1128   951  1164  1705  1680  <NA>  1756  1832  <NA>  \n1093   573   294   461   668   636   740   815   509  <NA>  \n3472  1163  1507  1062  1546  1881  1897  1893  1970  <NA>  \n...    ...   ...   ...   ...   ...   ...   ...   ...   ...  \n731   <NA>  <NA>  1772  1772  1827  1838  <NA>  1842  <NA>  \n1319  <NA>  <NA>  <NA>  <NA>  <NA>  <NA>  <NA>  1461  <NA>  \n1116  1653  1918  1841  1740  1960  1962  1849  1976  <NA>  \n224    344   255   256   134   129   172   220   233  <NA>  \n819   1150  1191  1025  1000   856   979  1069   881  <NA>  \n\n[117 rows x 25 columns]"
     },
     "metadata": {},
     "output_type": "display_data"
    }
   ],
   "source": [
    "display(top_2000[(top_2000['2018'].notna())&(top_2000['2019'].isna())].sort_values(by=[\"titel\"]))"
   ]
  }
 ],
 "metadata": {
  "kernelspec": {
   "display_name": "Python 3",
   "language": "python",
   "name": "python3"
  },
  "language_info": {
   "codemirror_mode": {
    "name": "ipython",
    "version": 3
   },
   "file_extension": ".py",
   "mimetype": "text/x-python",
   "name": "python",
   "nbconvert_exporter": "python",
   "pygments_lexer": "ipython3",
   "version": "3.7.6-final"
  }
 },
 "nbformat": 4,
 "nbformat_minor": 4
}