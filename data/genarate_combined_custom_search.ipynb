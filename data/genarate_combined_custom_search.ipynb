{
 "cells": [
  {
   "cell_type": "code",
   "execution_count": 1,
   "metadata": {},
   "outputs": [],
   "source": [
    "import pandas as pd\n",
    "import numpy as np\n",
    "import os\n",
    "# import matplotlib.pyplot as plt\n",
    "import re\n",
    "import glob\n",
    "import json\n",
    "import requests\n",
    "import time\n",
    "from search_spotify import spotify_api, search_query, jprint"
   ]
  },
  {
   "cell_type": "code",
   "execution_count": 2,
   "metadata": {},
   "outputs": [
    {
     "name": "stdout",
     "output_type": "stream",
     "text": "TOP-2000-1999.xlsx TOP-2000-2000.xlsx TOP-2000-2001.xlsx TOP-2000-2002.xlsx TOP-2000-2003.xlsx TOP-2000-2004.xlsx TOP-2000-2005.xlsx TOP-2000-2006.xlsx TOP-2000-2007.xlsx TOP-2000-2008.xlsx TOP-2000-2009.xlsx TOP-2000-2010.xlsx TOP-2000-2011.xlsx TOP-2000-2012.xlsx TOP-2000-2013.xlsx TOP-2000-2014.xlsx TOP-2000-2015.xlsx TOP-2000-2016.xlsx TOP-2000-2017.xlsx TOP-2000-2018.xlsx TOP-2000-2019.xlsx\n"
    }
   ],
   "source": [
    "path = os.getcwd()\n",
    "# find files\n",
    "files = sorted(os.listdir(os.path.join(path,\"excel\")))\n",
    "print(*files)"
   ]
  },
  {
   "cell_type": "code",
   "execution_count": 10,
   "metadata": {},
   "outputs": [
    {
     "data": {
      "text/html": "<div>\n<style scoped>\n    .dataframe tbody tr th:only-of-type {\n        vertical-align: middle;\n    }\n\n    .dataframe tbody tr th {\n        vertical-align: top;\n    }\n\n    .dataframe thead th {\n        text-align: right;\n    }\n</style>\n<table border=\"1\" class=\"dataframe\">\n  <thead>\n    <tr style=\"text-align: right;\">\n      <th></th>\n      <th>titel</th>\n      <th>artiest</th>\n      <th>jaar</th>\n      <th>1999</th>\n    </tr>\n  </thead>\n  <tbody>\n    <tr>\n      <th>0</th>\n      <td>Bohemian Rhapsody</td>\n      <td>Queen</td>\n      <td>1975</td>\n      <td>1</td>\n    </tr>\n    <tr>\n      <th>1</th>\n      <td>Hotel California</td>\n      <td>Eagles</td>\n      <td>1977</td>\n      <td>2</td>\n    </tr>\n    <tr>\n      <th>2</th>\n      <td>Child In Time</td>\n      <td>Deep Purple</td>\n      <td>1972</td>\n      <td>3</td>\n    </tr>\n    <tr>\n      <th>3</th>\n      <td>Stairway To Heaven</td>\n      <td>Led Zeppelin</td>\n      <td>1971</td>\n      <td>4</td>\n    </tr>\n    <tr>\n      <th>4</th>\n      <td>Paradise By The Dashboard Light</td>\n      <td>Meat Loaf</td>\n      <td>1978</td>\n      <td>5</td>\n    </tr>\n  </tbody>\n</table>\n</div>",
      "text/plain": "                             titel       artiest  jaar  1999\n0                Bohemian Rhapsody         Queen  1975     1\n1                 Hotel California        Eagles  1977     2\n2                    Child In Time   Deep Purple  1972     3\n3               Stairway To Heaven  Led Zeppelin  1971     4\n4  Paradise By The Dashboard Light     Meat Loaf  1978     5"
     },
     "execution_count": 10,
     "metadata": {},
     "output_type": "execute_result"
    }
   ],
   "source": [
    "top_2000 = pd.read_excel(os.path.join(path,\"excel\",files[0]))\n",
    "\n",
    "# Move ranking to last column\n",
    "top_2000 = top_2000[['titel','artiest','jaar',1999]]\n",
    "\n",
    "top_2000.head()"
   ]
  },
  {
   "cell_type": "code",
   "execution_count": 11,
   "metadata": {},
   "outputs": [
    {
     "name": "stdout",
     "output_type": "stream",
     "text": "Filename: TOP-2000-2000.xlsx\nFilename: TOP-2000-2001.xlsx\nFilename: TOP-2000-2002.xlsx\nFilename: TOP-2000-2003.xlsx\nFilename: TOP-2000-2004.xlsx\nFilename: TOP-2000-2005.xlsx\nFilename: TOP-2000-2006.xlsx\nFilename: TOP-2000-2007.xlsx\nFilename: TOP-2000-2008.xlsx\nFilename: TOP-2000-2009.xlsx\nFilename: TOP-2000-2010.xlsx\nFilename: TOP-2000-2011.xlsx\nFilename: TOP-2000-2012.xlsx\nFilename: TOP-2000-2013.xlsx\nFilename: TOP-2000-2014.xlsx\nFilename: TOP-2000-2015.xlsx\nFilename: TOP-2000-2016.xlsx\nFilename: TOP-2000-2017.xlsx\nFilename: TOP-2000-2018.xlsx\n"
    }
   ],
   "source": [
    "for file in files[1:-1]:\n",
    "    print(f\"Filename: {file}\")\n",
    "    year = pd.read_excel(os.path.join(path,\"Excel\",file))\n",
    "\n",
    "    top_2000 = pd.merge(top_2000,year, on=['titel','artiest','jaar'], how='outer')\n",
    "    \n"
   ]
  },
  {
   "cell_type": "code",
   "execution_count": 12,
   "metadata": {},
   "outputs": [
    {
     "data": {
      "text/html": "<div>\n<style scoped>\n    .dataframe tbody tr th:only-of-type {\n        vertical-align: middle;\n    }\n\n    .dataframe tbody tr th {\n        vertical-align: top;\n    }\n\n    .dataframe thead th {\n        text-align: right;\n    }\n</style>\n<table border=\"1\" class=\"dataframe\">\n  <thead>\n    <tr style=\"text-align: right;\">\n      <th></th>\n      <th>titel</th>\n      <th>artiest</th>\n      <th>jaar</th>\n      <th>1999</th>\n      <th>2000</th>\n      <th>2001</th>\n      <th>2002</th>\n      <th>2003</th>\n      <th>2004</th>\n      <th>2005</th>\n      <th>...</th>\n      <th>2009</th>\n      <th>2010</th>\n      <th>2011</th>\n      <th>2012</th>\n      <th>2013</th>\n      <th>2014</th>\n      <th>2015</th>\n      <th>2016</th>\n      <th>2017</th>\n      <th>2018</th>\n    </tr>\n  </thead>\n  <tbody>\n    <tr>\n      <th>0</th>\n      <td>Bohemian Rhapsody</td>\n      <td>Queen</td>\n      <td>1975</td>\n      <td>1.0</td>\n      <td>1.0</td>\n      <td>1.0</td>\n      <td>1.0</td>\n      <td>1.0</td>\n      <td>1.0</td>\n      <td>2.0</td>\n      <td>...</td>\n      <td>1.0</td>\n      <td>2.0</td>\n      <td>1.0</td>\n      <td>1.0</td>\n      <td>1.0</td>\n      <td>2.0</td>\n      <td>2.0</td>\n      <td>1.0</td>\n      <td>1.0</td>\n      <td>1.0</td>\n    </tr>\n    <tr>\n      <th>1</th>\n      <td>Hotel California</td>\n      <td>Eagles</td>\n      <td>1977</td>\n      <td>2.0</td>\n      <td>4.0</td>\n      <td>3.0</td>\n      <td>3.0</td>\n      <td>2.0</td>\n      <td>2.0</td>\n      <td>3.0</td>\n      <td>...</td>\n      <td>2.0</td>\n      <td>1.0</td>\n      <td>2.0</td>\n      <td>2.0</td>\n      <td>2.0</td>\n      <td>1.0</td>\n      <td>3.0</td>\n      <td>2.0</td>\n      <td>2.0</td>\n      <td>2.0</td>\n    </tr>\n    <tr>\n      <th>2</th>\n      <td>Child In Time</td>\n      <td>Deep Purple</td>\n      <td>1972</td>\n      <td>3.0</td>\n      <td>2.0</td>\n      <td>2.0</td>\n      <td>2.0</td>\n      <td>3.0</td>\n      <td>3.0</td>\n      <td>4.0</td>\n      <td>...</td>\n      <td>5.0</td>\n      <td>4.0</td>\n      <td>3.0</td>\n      <td>4.0</td>\n      <td>4.0</td>\n      <td>4.0</td>\n      <td>8.0</td>\n      <td>5.0</td>\n      <td>5.0</td>\n      <td>6.0</td>\n    </tr>\n    <tr>\n      <th>3</th>\n      <td>Stairway To Heaven</td>\n      <td>Led Zeppelin</td>\n      <td>1971</td>\n      <td>4.0</td>\n      <td>3.0</td>\n      <td>4.0</td>\n      <td>4.0</td>\n      <td>4.0</td>\n      <td>4.0</td>\n      <td>5.0</td>\n      <td>...</td>\n      <td>4.0</td>\n      <td>5.0</td>\n      <td>5.0</td>\n      <td>3.0</td>\n      <td>3.0</td>\n      <td>3.0</td>\n      <td>5.0</td>\n      <td>3.0</td>\n      <td>3.0</td>\n      <td>4.0</td>\n    </tr>\n    <tr>\n      <th>4</th>\n      <td>Paradise By The Dashboard Light</td>\n      <td>Meat Loaf</td>\n      <td>1978</td>\n      <td>5.0</td>\n      <td>5.0</td>\n      <td>5.0</td>\n      <td>5.0</td>\n      <td>5.0</td>\n      <td>6.0</td>\n      <td>6.0</td>\n      <td>...</td>\n      <td>12.0</td>\n      <td>9.0</td>\n      <td>11.0</td>\n      <td>19.0</td>\n      <td>22.0</td>\n      <td>17.0</td>\n      <td>30.0</td>\n      <td>27.0</td>\n      <td>27.0</td>\n      <td>29.0</td>\n    </tr>\n    <tr>\n      <th>5</th>\n      <td>Yesterday</td>\n      <td>Beatles</td>\n      <td>1965</td>\n      <td>6.0</td>\n      <td>8.0</td>\n      <td>24.0</td>\n      <td>30.0</td>\n      <td>34.0</td>\n      <td>37.0</td>\n      <td>46.0</td>\n      <td>...</td>\n      <td>44.0</td>\n      <td>33.0</td>\n      <td>50.0</td>\n      <td>85.0</td>\n      <td>76.0</td>\n      <td>89.0</td>\n      <td>96.0</td>\n      <td>97.0</td>\n      <td>87.0</td>\n      <td>122.0</td>\n    </tr>\n    <tr>\n      <th>6</th>\n      <td>Imagine</td>\n      <td>John Lennon</td>\n      <td>1971</td>\n      <td>7.0</td>\n      <td>7.0</td>\n      <td>11.0</td>\n      <td>11.0</td>\n      <td>13.0</td>\n      <td>9.0</td>\n      <td>15.0</td>\n      <td>...</td>\n      <td>41.0</td>\n      <td>26.0</td>\n      <td>28.0</td>\n      <td>22.0</td>\n      <td>23.0</td>\n      <td>38.0</td>\n      <td>1.0</td>\n      <td>12.0</td>\n      <td>16.0</td>\n      <td>16.0</td>\n    </tr>\n    <tr>\n      <th>7</th>\n      <td>Angie</td>\n      <td>Rolling Stones</td>\n      <td>1973</td>\n      <td>8.0</td>\n      <td>9.0</td>\n      <td>22.0</td>\n      <td>12.0</td>\n      <td>10.0</td>\n      <td>13.0</td>\n      <td>18.0</td>\n      <td>...</td>\n      <td>36.0</td>\n      <td>35.0</td>\n      <td>41.0</td>\n      <td>26.0</td>\n      <td>46.0</td>\n      <td>54.0</td>\n      <td>77.0</td>\n      <td>78.0</td>\n      <td>70.0</td>\n      <td>79.0</td>\n    </tr>\n    <tr>\n      <th>8</th>\n      <td>Bridge Over Troubled Water</td>\n      <td>Simon &amp; Garfunkel</td>\n      <td>1970</td>\n      <td>9.0</td>\n      <td>27.0</td>\n      <td>17.0</td>\n      <td>32.0</td>\n      <td>32.0</td>\n      <td>45.0</td>\n      <td>42.0</td>\n      <td>...</td>\n      <td>39.0</td>\n      <td>32.0</td>\n      <td>33.0</td>\n      <td>38.0</td>\n      <td>38.0</td>\n      <td>48.0</td>\n      <td>59.0</td>\n      <td>52.0</td>\n      <td>58.0</td>\n      <td>61.0</td>\n    </tr>\n    <tr>\n      <th>9</th>\n      <td>A Whiter Shade Of Pale</td>\n      <td>Procol Harum</td>\n      <td>1967</td>\n      <td>10.0</td>\n      <td>18.0</td>\n      <td>23.0</td>\n      <td>20.0</td>\n      <td>22.0</td>\n      <td>28.0</td>\n      <td>22.0</td>\n      <td>...</td>\n      <td>50.0</td>\n      <td>42.0</td>\n      <td>65.0</td>\n      <td>61.0</td>\n      <td>83.0</td>\n      <td>98.0</td>\n      <td>105.0</td>\n      <td>119.0</td>\n      <td>117.0</td>\n      <td>153.0</td>\n    </tr>\n  </tbody>\n</table>\n<p>10 rows × 23 columns</p>\n</div>",
      "text/plain": "                             titel            artiest  jaar  1999  2000  2001  \\\n0                Bohemian Rhapsody              Queen  1975   1.0   1.0   1.0   \n1                 Hotel California             Eagles  1977   2.0   4.0   3.0   \n2                    Child In Time        Deep Purple  1972   3.0   2.0   2.0   \n3               Stairway To Heaven       Led Zeppelin  1971   4.0   3.0   4.0   \n4  Paradise By The Dashboard Light          Meat Loaf  1978   5.0   5.0   5.0   \n5                        Yesterday            Beatles  1965   6.0   8.0  24.0   \n6                          Imagine        John Lennon  1971   7.0   7.0  11.0   \n7                            Angie     Rolling Stones  1973   8.0   9.0  22.0   \n8       Bridge Over Troubled Water  Simon & Garfunkel  1970   9.0  27.0  17.0   \n9           A Whiter Shade Of Pale       Procol Harum  1967  10.0  18.0  23.0   \n\n   2002  2003  2004  2005  ...  2009  2010  2011  2012  2013  2014   2015  \\\n0   1.0   1.0   1.0   2.0  ...   1.0   2.0   1.0   1.0   1.0   2.0    2.0   \n1   3.0   2.0   2.0   3.0  ...   2.0   1.0   2.0   2.0   2.0   1.0    3.0   \n2   2.0   3.0   3.0   4.0  ...   5.0   4.0   3.0   4.0   4.0   4.0    8.0   \n3   4.0   4.0   4.0   5.0  ...   4.0   5.0   5.0   3.0   3.0   3.0    5.0   \n4   5.0   5.0   6.0   6.0  ...  12.0   9.0  11.0  19.0  22.0  17.0   30.0   \n5  30.0  34.0  37.0  46.0  ...  44.0  33.0  50.0  85.0  76.0  89.0   96.0   \n6  11.0  13.0   9.0  15.0  ...  41.0  26.0  28.0  22.0  23.0  38.0    1.0   \n7  12.0  10.0  13.0  18.0  ...  36.0  35.0  41.0  26.0  46.0  54.0   77.0   \n8  32.0  32.0  45.0  42.0  ...  39.0  32.0  33.0  38.0  38.0  48.0   59.0   \n9  20.0  22.0  28.0  22.0  ...  50.0  42.0  65.0  61.0  83.0  98.0  105.0   \n\n    2016   2017   2018  \n0    1.0    1.0    1.0  \n1    2.0    2.0    2.0  \n2    5.0    5.0    6.0  \n3    3.0    3.0    4.0  \n4   27.0   27.0   29.0  \n5   97.0   87.0  122.0  \n6   12.0   16.0   16.0  \n7   78.0   70.0   79.0  \n8   52.0   58.0   61.0  \n9  119.0  117.0  153.0  \n\n[10 rows x 23 columns]"
     },
     "metadata": {},
     "output_type": "display_data"
    }
   ],
   "source": [
    "## Save and view data until 2019\n",
    "display(top_2000.head(10))\n",
    "# # Save files\n",
    "# top_2000.to_json('top_2000_1999-2018.json', orient='records')\n",
    "# top_2000.to_csv('top_2000_1999-2018.csv', index = False)\n",
    "# top_2000.to_pickle('top_2000_1999-2018.pickle')"
   ]
  },
  {
   "cell_type": "code",
   "execution_count": 13,
   "metadata": {},
   "outputs": [
    {
     "name": "stdout",
     "output_type": "stream",
     "text": "{\n    \"tracks\": {\n        \"href\": \"https://api.spotify.com/v1/search?query=track%3A%22Bohemian+Rhapsody%22+artist%3A%22Queen%22+year%3A1975&type=track&offset=0&limit=1\",\n        \"items\": [\n            {\n                \"album\": {\n                    \"album_type\": \"album\",\n                    \"artists\": [\n                        {\n                            \"external_urls\": {\n                                \"spotify\": \"https://open.spotify.com/artist/1dfeR4HaWDbWqFHLkxsg1d\"\n                            },\n                            \"href\": \"https://api.spotify.com/v1/artists/1dfeR4HaWDbWqFHLkxsg1d\",\n                            \"id\": \"1dfeR4HaWDbWqFHLkxsg1d\",\n                            \"name\": \"Queen\",\n                            \"type\": \"artist\",\n                            \"uri\": \"spotify:artist:1dfeR4HaWDbWqFHLkxsg1d\"\n                        }\n                    ],\n                    \"available_markets\": [\n                        \"CA\",\n                        \"US\"\n                    ],\n                    \"external_urls\": {\n                        \"spotify\": \"https://open.spotify.com/album/6X9k3hSsvQck2OfKYdBbXr\"\n                    },\n                    \"href\": \"https://api.spotify.com/v1/albums/6X9k3hSsvQck2OfKYdBbXr\",\n                    \"id\": \"6X9k3hSsvQck2OfKYdBbXr\",\n                    \"images\": [\n                        {\n                            \"height\": 640,\n                            \"url\": \"https://i.scdn.co/image/c25ee4a2416bc6e351abce1db817fc35805ac8a6\",\n                            \"width\": 640\n                        },\n                        {\n                            \"height\": 300,\n                            \"url\": \"https://i.scdn.co/image/129a088ea15cb6777e77b08e3dad6f105fa74e1c\",\n                            \"width\": 300\n                        },\n                        {\n                            \"height\": 64,\n                            \"url\": \"https://i.scdn.co/image/e2fb26176d381198b5ed65ef395f1485d0bc47dd\",\n                            \"width\": 64\n                        }\n                    ],\n                    \"name\": \"A Night At The Opera (Deluxe Remastered Version)\",\n                    \"release_date\": \"1975-11-21\",\n                    \"release_date_precision\": \"day\",\n                    \"total_tracks\": 18,\n                    \"type\": \"album\",\n                    \"uri\": \"spotify:album:6X9k3hSsvQck2OfKYdBbXr\"\n                },\n                \"artists\": [\n                    {\n                        \"external_urls\": {\n                            \"spotify\": \"https://open.spotify.com/artist/1dfeR4HaWDbWqFHLkxsg1d\"\n                        },\n                        \"href\": \"https://api.spotify.com/v1/artists/1dfeR4HaWDbWqFHLkxsg1d\",\n                        \"id\": \"1dfeR4HaWDbWqFHLkxsg1d\",\n                        \"name\": \"Queen\",\n                        \"type\": \"artist\",\n                        \"uri\": \"spotify:artist:1dfeR4HaWDbWqFHLkxsg1d\"\n                    }\n                ],\n                \"available_markets\": [\n                    \"CA\",\n                    \"US\"\n                ],\n                \"disc_number\": 1,\n                \"duration_ms\": 354320,\n                \"explicit\": false,\n                \"external_ids\": {\n                    \"isrc\": \"GBUM71029604\"\n                },\n                \"external_urls\": {\n                    \"spotify\": \"https://open.spotify.com/track/7tFiyTwD0nx5a1eklYtX2J\"\n                },\n                \"href\": \"https://api.spotify.com/v1/tracks/7tFiyTwD0nx5a1eklYtX2J\",\n                \"id\": \"7tFiyTwD0nx5a1eklYtX2J\",\n                \"is_local\": false,\n                \"name\": \"Bohemian Rhapsody - 2011 Mix\",\n                \"popularity\": 74,\n                \"preview_url\": null,\n                \"track_number\": 11,\n                \"type\": \"track\",\n                \"uri\": \"spotify:track:7tFiyTwD0nx5a1eklYtX2J\"\n            }\n        ],\n        \"limit\": 1,\n        \"next\": \"https://api.spotify.com/v1/search?query=track%3A%22Bohemian+Rhapsody%22+artist%3A%22Queen%22+year%3A1975&type=track&offset=1&limit=1\",\n        \"offset\": 0,\n        \"previous\": null,\n        \"total\": 4\n    }\n}\nResult Found, ID: 7tFiyTwD0nx5a1eklYtX2J\n"
    }
   ],
   "source": [
    "# Test\n",
    "title = 'Bohemian Rhapsody'\n",
    "artist = \"Queen\"\n",
    "year = 1975\n",
    "\n",
    "response= spotify_api(search_query(title, artist, year)).json()\n",
    "\n",
    "jprint(response)\n",
    "\n",
    "if len(response['tracks']['items'])>0:\n",
    "    print(f\"Result Found, ID: {response['tracks']['items'][0]['id']}\")\n",
    "else:\n",
    "    print(f\"No result found, output: \\n {response}\")"
   ]
  },
  {
   "cell_type": "code",
   "execution_count": 14,
   "metadata": {},
   "outputs": [],
   "source": [
    "def searchid(df_row, verbose = False, show_missing=False):\n",
    "\n",
    "    def search_spotify(df_row, start_time, use_year=False,  quotation_marks=False, verbose = False,                                         formatting=False):\n",
    "        # Create search query\n",
    "        query = search_query(df_row.titel, df_row.artiest, df_row.jaar, use_year=use_year,\n",
    "                            quotation_marks=quotation_marks, formatting=formatting)\n",
    "        # Search spotify\n",
    "        result = spotify_api(query)\n",
    "\n",
    "        # Check is rate limit is exceeded\n",
    "        if result.status_code== 429:\n",
    "\n",
    "            sleep_time = result.headers.get(\"Retry-After\", 10)\n",
    "            time.sleep(sleep_time)\n",
    "            if verbose:\n",
    "                print(f\"Rate limit exeeded, trying again after {sleep_time} seconds\")\n",
    "\n",
    "            # Retry\n",
    "            result = spotify_api(query)\n",
    "        # Sleep for rate limiting\n",
    "        time.sleep(max(1./10 - (time.time() - start_time), 0))\n",
    "        return result\n",
    "\n",
    "\n",
    "    def evaluate(result, verbose, show_missing):\n",
    "        try:\n",
    "            result = result.json()\n",
    "            if len(result['tracks']['items'])>0:\n",
    "                id = result['tracks']['items'][0]['id']\n",
    "                if verbose:\n",
    "                    print(f\"{df_row.name}: Result Found, ID: {id}\")\n",
    "                # Return id\n",
    "                return id\n",
    "\n",
    "            else:\n",
    "                if verbose or show_missing:\n",
    "                    print(f\"{df_row.name}:No result found, output: \\n {result}\")\n",
    "                # Return None if no id found\n",
    "                return None\n",
    "        \n",
    "        except:\n",
    "            print(f\"Error, reponse:{result}\")\n",
    "            return None\n",
    "\n",
    "    result = search_spotify(df_row, start_time=time.time(), use_year=True, verbose = verbose)\n",
    "    id = evaluate(result, verbose=verbose, show_missing=False)\n",
    "    \n",
    "    if id is None:\n",
    "        # Try without year\n",
    "        if verbose:\n",
    "            print(f\"{df_row.name}:No result found, Try without year\")\n",
    "        result = search_spotify(df_row, start_time=time.time(), use_year=False)\n",
    "        id = evaluate(result, verbose=verbose, show_missing=False)\n",
    "\n",
    "        if id is None:\n",
    "            # Try without quotation marks\n",
    "            if verbose:\n",
    "                print(f\"{df_row.name}:No result found, Try without quotation marks\")\n",
    "            result = search_spotify(df_row, start_time=time.time(), use_year=False, quotation_marks=False)\n",
    "            id = evaluate(result, verbose=verbose, show_missing=False)\n",
    "\n",
    "            if id is None:\n",
    "                # Try Try without formatting\n",
    "                if verbose:\n",
    "                    print(f\"{df_row.name}:No result found, Try without formatting\")\n",
    "                result = search_spotify(df_row, start_time=time.time(), use_year=False, \n",
    "                                        quotation_marks=False, formatting=False)\n",
    "                id = evaluate(result, verbose=verbose, show_missing=show_missing)\n",
    "\n",
    "    return id\n",
    "    \n",
    "      "
   ]
  },
  {
   "cell_type": "code",
   "execution_count": 15,
   "metadata": {},
   "outputs": [
    {
     "name": "stdout",
     "output_type": "stream",
     "text": "0: Result Found, ID: 7tFiyTwD0nx5a1eklYtX2J\n1: Result Found, ID: 40riOy7x9W7GXjyGp4pjAv\n2: Result Found, ID: 5TrfusgKC1BYic5LaWCoKm\n3: Result Found, ID: 5CQ30WqJwcep0pYcV4AMNc\n4: Result Found, ID: 2g7gviEeJr6pyxO7G35EWQ\n5: Result Found, ID: 3BQHpFgAp4l80e1XslIjNI\n6: Result Found, ID: 7pKfPomDEeI4TPT6EOYjn9\n7: Result Found, ID: 1GcVa4jFySlun4jLSuMhiq\n8:No result found, output: \n {'tracks': {'href': 'https://api.spotify.com/v1/search?query=track%3A%22Bridge+Over+Troubled+Water%22+artist%3A%22Simon+&type=track&offset=0&limit=1', 'items': [], 'limit': 1, 'next': None, 'offset': 0, 'previous': None, 'total': 0}}\n8:No result found, Try without year\n8: Result Found, ID: 6QhXQOpyYvbpdbyjgAqKdY\n9: Result Found, ID: 78ZqE2tjAxbqEGGlvGnQfT\n10: Result Found, ID: 0aym2LBJBk9DAYuHHutrIl\n11: Result Found, ID: 14XWXWv5FoCbFzLksawpEe\n12: Result Found, ID: 7BY005dacJkbO6EPiOh2wb\n13: Result Found, ID: 5bIwtIednTXz7BHnnoQN06\n14: Result Found, ID: 6L5BZEcZmD6RBJnimzlyKr\n15: Result Found, ID: 4NtUY5IGzHCaqfZemmAu56\n16: Result Found, ID: 4gMgiXfqyzZLMhsksGmbQV\n17: Result Found, ID: 6C4LXC9UFH1IKiHYOp0BiJ\n18: Result Found, ID: 711BHJ4nErw7nPt3O5cP0z\n19: Result Found, ID: 6cr6UDpkjEaMQ80OjWqEBQ\n20: Result Found, ID: 612VcBshQcy4mpB2utGc3H\n21:No result found, output: \n {'tracks': {'href': 'https://api.spotify.com/v1/search?query=track%3A%22%28I+Can%27t+Get+No%29+Satisfaction%22+artist%3A%22Rolling+Stones%22&type=track&offset=0&limit=1', 'items': [], 'limit': 1, 'next': None, 'offset': 0, 'previous': None, 'total': 0}}\n21:No result found, Try without year\n21: Result Found, ID: 2PzU4IB8Dr6mxV3lHuaG34\n22: Result Found, ID: 4Zau4QvgyxWiWQ5KQrwL43\n23: Result Found, ID: 5Jt2AQv1c3RUF5ENtAYF1i\n24: Result Found, ID: 31AOj9sFz2gM0O3hMARRBx\n25: Result Found, ID: 6fnachl7fIn5dqIjakfJ57\n26: Result Found, ID: 7iN1s7xHE4ifF5povM6A48\n27: Result Found, ID: 26tWBbtjvgi0tipRL2VQ2X\n28: Result Found, ID: 1Ud6moTC0KyXMq1Oxfien0\n29: Result Found, ID: 00QAndVDVfNqNWYdWAhEan\n30: Result Found, ID: 6PypGyiu0Y2lCDBN1XZEnP\n31:No result found, output: \n {'tracks': {'href': 'https://api.spotify.com/v1/search?query=track%3A%22Over+De+Muur%22+artist%3A%22Klein+Orkest%22&type=track&offset=0&limit=1', 'items': [], 'limit': 1, 'next': None, 'offset': 0, 'previous': None, 'total': 0}}\n31:No result found, Try without year\n31: Result Found, ID: 2jV28FCpmVQNbgcC5a5D7A\n32: Result Found, ID: 63T7DJ1AFDD6Bn8VzG6JE8\n33: Result Found, ID: 2374M0fQpWi3dLnB54qaLX\n34: Result Found, ID: 2HeTmGTjl870ucJ8mF7zl5\n35: Result Found, ID: 4HWOyz21zZDbHe3mMukrFJ\n36:No result found, output: \n {'tracks': {'href': 'https://api.spotify.com/v1/search?query=track%3A%22Candle+In+The+Wind+%2797%22+artist%3A%22Elton+John%22&type=track&offset=0&limit=1', 'items': [], 'limit': 1, 'next': None, 'offset': 0, 'previous': None, 'total': 0}}\n36:No result found, Try without year\n36: Result Found, ID: 0P5vVASbVxf54XSUY1WCMq\n37: Result Found, ID: 1Dsd1Nu06UbNmelEhPxKgB\n38:No result found, output: \n {'tracks': {'href': 'https://api.spotify.com/v1/search?query=track%3A%22No+Woman+No+Cry+%28Live%29%22+artist%3A%22Bob+Marley+&type=track&offset=0&limit=1', 'items': [], 'limit': 1, 'next': None, 'offset': 0, 'previous': None, 'total': 0}}\n38:No result found, Try without year\n38: Result Found, ID: 423hwXFgoN8RYmqLoLuVvY\n39: Result Found, ID: 6J1orzdlXIAZOlZl21SWY6\n40: Result Found, ID: 33LC84JgLvK2KuW43MfaNq\n41:No result found, output: \n {'tracks': {'href': 'https://api.spotify.com/v1/search?query=track%3A%22I%27m+Not+In+Love%22+artist%3A%2210cc%22&type=track&offset=0&limit=1', 'items': [], 'limit': 1, 'next': None, 'offset': 0, 'previous': None, 'total': 0}}\n41:No result found, Try without year\n41: Result Found, ID: 5HQEmiV2lKnSO6qa2fsR7x\n42: Result Found, ID: 6RGmi17H0xpHb7hpMxFwip\n43:No result found, output: \n {'tracks': {'href': 'https://api.spotify.com/v1/search?query=track%3A%22Niet+Of+Nooit+Geweest%22+artist%3A%22Acda+&type=track&offset=0&limit=1', 'items': [], 'limit': 1, 'next': None, 'offset': 0, 'previous': None, 'total': 0}}\n43:No result found, Try without year\n43: Result Found, ID: 4439gDsZasiXC4mGpw6yJc\n44: Result Found, ID: 0GONea6G2XdnHWjNZd6zt3\n45: Result Found, ID: 3Jy0dWV5AnnfyTvHK6UWof\n46: Result Found, ID: 562JrM9b7jiu8LgzV62x3o\n47: Result Found, ID: 7HrzErXq3TsKOY1gmdIShB\n48:No result found, output: \n {'tracks': {'href': 'https://api.spotify.com/v1/search?query=track%3A%22The+Sound+Of+Silence%22+artist%3A%22Simon+&type=track&offset=0&limit=1', 'items': [], 'limit': 1, 'next': None, 'offset': 0, 'previous': None, 'total': 0}}\n48:No result found, Try without year\n48: Result Found, ID: 5y788ya4NvwhBznoDIcXwK\n49: Result Found, ID: 1HNWHQqLxjI2LXnlIY9DTR\n"
    },
    {
     "data": {
      "text/plain": "0.0"
     },
     "execution_count": 15,
     "metadata": {},
     "output_type": "execute_result"
    }
   ],
   "source": [
    "print(np.mean(top_2000.head(50).apply(searchid, axis = 1, show_missing = True, verbose=True).isna()))"
   ]
  },
  {
   "cell_type": "code",
   "execution_count": 16,
   "metadata": {},
   "outputs": [
    {
     "name": "stdout",
     "output_type": "stream",
     "text": "ffset': 0, 'previous': None, 'total': 0}}\n2356:No result found, output: \n {'tracks': {'href': 'https://api.spotify.com/v1/search?query=Real+Cool+World+Greatest+Show+on+Earth&type=track&offset=0&limit=1', 'items': [], 'limit': 1, 'next': None, 'offset': 0, 'previous': None, 'total': 0}}\n2370:No result found, output: \n {'tracks': {'href': 'https://api.spotify.com/v1/search?query=Iedereen+Doet+%27t+Robert+Long&type=track&offset=0&limit=1', 'items': [], 'limit': 1, 'next': None, 'offset': 0, 'previous': None, 'total': 0}}\n2376:No result found, output: \n {'tracks': {'href': 'https://api.spotify.com/v1/search?query=Man+Of+Action++Les+Reed+Orchestra&type=track&offset=0&limit=1', 'items': [], 'limit': 1, 'next': None, 'offset': 0, 'previous': None, 'total': 0}}\n2386:No result found, output: \n {'tracks': {'href': 'https://api.spotify.com/v1/search?query=Waterfall+Triumvirat&type=track&offset=0&limit=1', 'items': [], 'limit': 1, 'next': None, 'offset': 0, 'previous': None, 'total': 0}}\n2446:No result found, output: \n {'tracks': {'href': 'https://api.spotify.com/v1/search?query=Kom+Uit+De+Bedstee+M%27n+Liefste+Egbert+Douwe&type=track&offset=0&limit=1', 'items': [], 'limit': 1, 'next': None, 'offset': 0, 'previous': None, 'total': 0}}\n2466:No result found, output: \n {'tracks': {'href': 'https://api.spotify.com/v1/search?query=Miracles+Anita+Garbo&type=track&offset=0&limit=1', 'items': [], 'limit': 1, 'next': None, 'offset': 0, 'previous': None, 'total': 0}}\n2480:No result found, output: \n {'tracks': {'href': 'https://api.spotify.com/v1/search?query=002.345.709+%28That%27s+My+Number%29+Trinity&type=track&offset=0&limit=1', 'items': [], 'limit': 1, 'next': None, 'offset': 0, 'previous': None, 'total': 0}}\n2482:No result found, output: \n {'tracks': {'href': 'https://api.spotify.com/v1/search?query=Do+It+Anyway+You+Wanna+People%27s+Choice&type=track&offset=0&limit=1', 'items': [], 'limit': 1, 'next': None, 'offset': 0, 'previous': None, 'total': 0}}\n2523:No result found, output: \n {'tracks': {'href': 'https://api.spotify.com/v1/search?query=Je+Bent+Niet+Hip+Patricia+Paay&type=track&offset=0&limit=1', 'items': [], 'limit': 1, 'next': None, 'offset': 0, 'previous': None, 'total': 0}}\n2539:No result found, output: \n {'tracks': {'href': 'https://api.spotify.com/v1/search?query=Take+To+The+Mountains+Richard+Barnes&type=track&offset=0&limit=1', 'items': [], 'limit': 1, 'next': None, 'offset': 0, 'previous': None, 'total': 0}}\n2540:No result found, output: \n {'tracks': {'href': 'https://api.spotify.com/v1/search?query=Tap+Turns+On+Yhe+Water+CCS+%28Collective+Conciousness+Society%29&type=track&offset=0&limit=1', 'items': [], 'limit': 1, 'next': None, 'offset': 0, 'previous': None, 'total': 0}}\n2546:No result found, output: \n {'tracks': {'href': 'https://api.spotify.com/v1/search?query=What+Kind+Of+Dance+Is+This+Veronica+Unlimited&type=track&offset=0&limit=1', 'items': [], 'limit': 1, 'next': None, 'offset': 0, 'previous': None, 'total': 0}}\n2547:No result found, output: \n {'tracks': {'href': 'https://api.spotify.com/v1/search?query=You%27re+The+Reason+Why+The+Rubettes&type=track&offset=0&limit=1', 'items': [], 'limit': 1, 'next': None, 'offset': 0, 'previous': None, 'total': 0}}\n2553:No result found, output: \n {'tracks': {'href': 'https://api.spotify.com/v1/search?query=Hold+On+To+What+You%27ve+Got+Bill+&type=track&offset=0&limit=1', 'items': [], 'limit': 1, 'next': None, 'offset': 0, 'previous': None, 'total': 0}}\n2555:No result found, output: \n {'tracks': {'href': 'https://api.spotify.com/v1/search?query=Makin%27+Up+Again+Goldie&type=track&offset=0&limit=1', 'items': [], 'limit': 1, 'next': None, 'offset': 0, 'previous': None, 'total': 0}}\n2600:No result found, output: \n {'tracks': {'href': 'https://api.spotify.com/v1/search?query=ThoseLlazy+Hazy+Crazy+Days+Of+Summer+Nat+%27King%27+Cole&type=track&offset=0&limit=1', 'items': [], 'limit': 1, 'next': None, 'offset': 0, 'previous': None, 'total': 0}}\n2605:No result found, output: \n {'tracks': {'href': 'https://api.spotify.com/v1/search?query=Can%27t+Stop+Runnin%27+Space+Monkey&type=track&offset=0&limit=1', 'items': [], 'limit': 1, 'next': None, 'offset': 0, 'previous': None, 'total': 0}}\n2609:No result found, output: \n {'tracks': {'href': 'https://api.spotify.com/v1/search?query=When+You+Walk+In+The+Room+Jacky+DelShannon&type=track&offset=0&limit=1', 'items': [], 'limit': 1, 'next': None, 'offset': 0, 'previous': None, 'total': 0}}\n2614:No result found, output: \n {'tracks': {'href': 'https://api.spotify.com/v1/search?query=Harder+Dan+Ik+Hebben+Kan+Bl%C3%B8f&type=track&offset=0&limit=1', 'items': [], 'limit': 1, 'next': None, 'offset': 0, 'previous': None, 'total': 0}}\n2634:No result found, output: \n {'tracks': {'href': 'https://api.spotify.com/v1/search?query=Prisencolinen+Sinainciusol+Adriano+Celentano&type=track&offset=0&limit=1', 'items': [], 'limit': 1, 'next': None, 'offset': 0, 'previous': None, 'total': 0}}\n2651:No result found, output: \n {'tracks': {'href': 'https://api.spotify.com/v1/search?query=Gaia+Valensia&type=track&offset=0&limit=1', 'items': [], 'limit': 1, 'next': None, 'offset': 0, 'previous': None, 'total': 0}}\n2671:No result found, output: \n {'tracks': {'href': 'https://api.spotify.com/v1/search?query=Not+Just+A+Flower+In+Your+Hair+After+tea&type=track&offset=0&limit=1', 'items': [], 'limit': 1, 'next': None, 'offset': 0, 'previous': None, 'total': 0}}\n2702:No result found, output: \n {'tracks': {'href': 'https://api.spotify.com/v1/search?query=M%27n+Opa+Leen+Jongewaard+&type=track&offset=0&limit=1', 'items': [], 'limit': 1, 'next': None, 'offset': 0, 'previous': None, 'total': 0}}\n2723:No result found, output: \n {'tracks': {'href': 'https://api.spotify.com/v1/search?query=It+Will+Come+In+Time+Billy+Preston+&type=track&offset=0&limit=1', 'items': [], 'limit': 1, 'next': None, 'offset': 0, 'previous': None, 'total': 0}}\n2743:No result found, output: \n {'tracks': {'href': 'https://api.spotify.com/v1/search?query=Cottonfields+Beach+Boys&type=track&offset=0&limit=1', 'items': [], 'limit': 1, 'next': None, 'offset': 0, 'previous': None, 'total': 0}}\n2747:No result found, output: \n {'tracks': {'href': 'https://api.spotify.com/v1/search?query=Racing+Car+Air+Bubble&type=track&offset=0&limit=1', 'items': [], 'limit': 1, 'next': None, 'offset': 0, 'previous': None, 'total': 0}}\n2752:No result found, output: \n {'tracks': {'href': 'https://api.spotify.com/v1/search?query=Margrietje+Louis+Neefs&type=track&offset=0&limit=1', 'items': [], 'limit': 1, 'next': None, 'offset': 0, 'previous': None, 'total': 0}}\n2766:No result found, output: \n {'tracks': {'href': 'https://api.spotify.com/v1/search?query=Bloasmuziek+G%C3%A9+Reinders&type=track&offset=0&limit=1', 'items': [], 'limit': 1, 'next': None, 'offset': 0, 'previous': None, 'total': 0}}\n2844:No result found, output: \n {'tracks': {'href': 'https://api.spotify.com/v1/search?query=Say+It+Ain%27t+So+Joe+Roger+Daltrey&type=track&offset=0&limit=1', 'items': [], 'limit': 1, 'next': None, 'offset': 0, 'previous': None, 'total': 0}}\n2861:No result found, output: \n {'tracks': {'href': 'https://api.spotify.com/v1/search?query=Kalverliefde+Robert+Long&type=track&offset=0&limit=1', 'items': [], 'limit': 1, 'next': None, 'offset': 0, 'previous': None, 'total': 0}}\n2866:No result found, output: \n {'tracks': {'href': 'https://api.spotify.com/v1/search?query=Liefste+Mijn+Liefste+Robert+Long&type=track&offset=0&limit=1', 'items': [], 'limit': 1, 'next': None, 'offset': 0, 'previous': None, 'total': 0}}\n2907:No result found, output: \n {'tracks': {'href': 'https://api.spotify.com/v1/search?query=Goodbye+To+Love+Margie+Ball&type=track&offset=0&limit=1', 'items': [], 'limit': 1, 'next': None, 'offset': 0, 'previous': None, 'total': 0}}\n2963:No result found, output: \n {'tracks': {'href': 'https://api.spotify.com/v1/search?query=Nu+Dat+Jij+Er+Bent+Trijntje+Oosterhuis&type=track&offset=0&limit=1', 'items': [], 'limit': 1, 'next': None, 'offset': 0, 'previous': None, 'total': 0}}\n2982:No result found, output: \n {'tracks': {'href': 'https://api.spotify.com/v1/search?query=Another+Day+Another+Road+Cuby+&type=track&offset=0&limit=1', 'items': [], 'limit': 1, 'next': None, 'offset': 0, 'previous': None, 'total': 0}}\n2994:No result found, output: \n {'tracks': {'href': 'https://api.spotify.com/v1/search?query=Smile+Brainbox&type=track&offset=0&limit=1', 'items': [], 'limit': 1, 'next': None, 'offset': 0, 'previous': None, 'total': 0}}\n3009:No result found, output: \n {'tracks': {'href': 'https://api.spotify.com/v1/search?query=Kristallnach+BAP&type=track&offset=0&limit=1', 'items': [], 'limit': 1, 'next': None, 'offset': 0, 'previous': None, 'total': 0}}\n3017:No result found, output: \n {'tracks': {'href': 'https://api.spotify.com/v1/search?query=Two+Shots+Of+A+Happy+And+One+Shot+Of+Sad+Matt+Dusk&type=track&offset=0&limit=1', 'items': [], 'limit': 1, 'next': None, 'offset': 0, 'previous': None, 'total': 0}}\n3061:No result found, output: \n {'tracks': {'href': 'https://api.spotify.com/v1/search?query=Traveling+In+The+USA+Bintangs&type=track&offset=0&limit=1', 'items': [], 'limit': 1, 'next': None, 'offset': 0, 'previous': None, 'total': 0}}\n3065:No result found, output: \n {'tracks': {'href': 'https://api.spotify.com/v1/search?query=There+Goes+My+heart+Again+Fats+Domino&type=track&offset=0&limit=1', 'items': [], 'limit': 1, 'next': None, 'offset': 0, 'previous': None, 'total': 0}}\n3069:No result found, output: \n {'tracks': {'href': 'https://api.spotify.com/v1/search?query=Ik+Ben+Zo+Eenzaam+Zonder+Jou+Will+Tura&type=track&offset=0&limit=1', 'items': [], 'limit': 1, 'next': None, 'offset': 0, 'previous': None, 'total': 0}}\n3114:No result found, output: \n {'tracks': {'href': 'https://api.spotify.com/v1/search?query=Flink+Zijn+Robert+Long&type=track&offset=0&limit=1', 'items': [], 'limit': 1, 'next': None, 'offset': 0, 'previous': None, 'total': 0}}\n3118:No result found, output: \n {'tracks': {'href': 'https://api.spotify.com/v1/search?query=Alive+Meat+Loaf&type=track&offset=0&limit=1', 'items': [], 'limit': 1, 'next': None, 'offset': 0, 'previous': None, 'total': 0}}\n3137:No result found, output: \n {'tracks': {'href': 'https://api.spotify.com/v1/search?query=De+Weg+Guus+Meeuwis&type=track&offset=0&limit=1', 'items': [], 'limit': 1, 'next': None, 'offset': 0, 'previous': None, 'total': 0}}\n3154:No result found, output: \n {'tracks': {'href': 'https://api.spotify.com/v1/search?query=Time+Stood+Still+Bad+English+ft.+John+Waite&type=track&offset=0&limit=1', 'items': [], 'limit': 1, 'next': None, 'offset': 0, 'previous': None, 'total': 0}}\n3157:No result found, output: \n {'tracks': {'href': 'https://api.spotify.com/v1/search?query=Voltooid+Verleden+Tijd+Is+Ook+Schitterend&type=track&offset=0&limit=1', 'items': [], 'limit': 1, 'next': None, 'offset': 0, 'previous': None, 'total': 0}}\n3253:No result found, output: \n {'tracks': {'href': 'https://api.spotify.com/v1/search?query=Mijn+Van+Straat+Geredde+Roos+De+Dijk&type=track&offset=0&limit=1', 'items': [], 'limit': 1, 'next': None, 'offset': 0, 'previous': None, 'total': 0}}\n3264:No result found, output: \n {'tracks': {'href': 'https://api.spotify.com/v1/search?query=Mooier+Dan+Nu+De+Dijk&type=track&offset=0&limit=1', 'items': [], 'limit': 1, 'next': None, 'offset': 0, 'previous': None, 'total': 0}}\n3317:No result found, output: \n {'tracks': {'href': 'https://api.spotify.com/v1/search?query=Mars+Needs+Woman+Novastar&type=track&offset=0&limit=1', 'items': [], 'limit': 1, 'next': None, 'offset': 0, 'previous': None, 'total': 0}}\n3383:No result found, output: \n {'tracks': {'href': 'https://api.spotify.com/v1/search?query=%28Forever%29+Live+And+Die+Orchestral+Maneuvres+in+the+Dark&type=track&offset=0&limit=1', 'items': [], 'limit': 1, 'next': None, 'offset': 0, 'previous': None, 'total': 0}}\n3422:No result found, output: \n {'tracks': {'href': 'https://api.spotify.com/v1/search?query=Mijn+Leven+Is+Van+Mij+Pia+Douwes&type=track&offset=0&limit=1', 'items': [], 'limit': 1, 'next': None, 'offset': 0, 'previous': None, 'total': 0}}\n3441:No result found, output: \n {'tracks': {'href': 'https://api.spotify.com/v1/search?query=No+Surrender+Kane&type=track&offset=0&limit=1', 'items': [], 'limit': 1, 'next': None, 'offset': 0, 'previous': None, 'total': 0}}\n3447:No result found, output: \n {'tracks': {'href': 'https://api.spotify.com/v1/search?query=Wat+Is+Dromen+Ellen+Ten+Damme+&type=track&offset=0&limit=1', 'items': [], 'limit': 1, 'next': None, 'offset': 0, 'previous': None, 'total': 0}}\n3452:No result found, output: \n {'tracks': {'href': 'https://api.spotify.com/v1/search?query=Hallelujah+Lisa+Lois&type=track&offset=0&limit=1', 'items': [], 'limit': 1, 'next': None, 'offset': 0, 'previous': None, 'total': 0}}\n3508:No result found, output: \n {'tracks': {'href': 'https://api.spotify.com/v1/search?query=Als+Ze+Danst+Guus+Meeuwis&type=track&offset=0&limit=1', 'items': [], 'limit': 1, 'next': None, 'offset': 0, 'previous': None, 'total': 0}}\n3573:No result found, output: \n {'tracks': {'href': 'https://api.spotify.com/v1/search?query=Golden+Days+Krystl&type=track&offset=0&limit=1', 'items': [], 'limit': 1, 'next': None, 'offset': 0, 'previous': None, 'total': 0}}\n3591:No result found, output: \n {'tracks': {'href': 'https://api.spotify.com/v1/search?query=De+Blues+Verlaat+Je+Nooit+De+Dijk&type=track&offset=0&limit=1', 'items': [], 'limit': 1, 'next': None, 'offset': 0, 'previous': None, 'total': 0}}\n3609:No result found, output: \n {'tracks': {'href': 'https://api.spotify.com/v1/search?query=Later+Als+Ik+Groter+Ben+Bl%C3%B8f&type=track&offset=0&limit=1', 'items': [], 'limit': 1, 'next': None, 'offset': 0, 'previous': None, 'total': 0}}\n3641:No result found, output: \n {'tracks': {'href': 'https://api.spotify.com/v1/search?query=Zo+Stil+Bl%C3%B8f&type=track&offset=0&limit=1', 'items': [], 'limit': 1, 'next': None, 'offset': 0, 'previous': None, 'total': 0}}\n3686:No result found, output: \n {'tracks': {'href': 'https://api.spotify.com/v1/search?query=Wake+Me+Up+Avicii+ft.+Aloe+Blacc&type=track&offset=0&limit=1', 'items': [], 'limit': 1, 'next': None, 'offset': 0, 'previous': None, 'total': 0}}\n3692:No result found, output: \n {'tracks': {'href': 'https://api.spotify.com/v1/search?query=This+Is+What+It+Feels+Like+Armin+van+Buuren+ft.+Trevor+Guthrie&type=track&offset=0&limit=1', 'items': [], 'limit': 1, 'next': None, 'offset': 0, 'previous': None, 'total': 0}}\n3700:No result found, output: \n {'tracks': {'href': 'https://api.spotify.com/v1/search?query=Blue+Bittersweet+Ilse+DeLange&type=track&offset=0&limit=1', 'items': [], 'limit': 1, 'next': None, 'offset': 0, 'previous': None, 'total': 0}}\n3792:No result found, output: \n {'tracks': {'href': 'https://api.spotify.com/v1/search?query=Year+Of+Summer+%28acoustic%29+Niels+Geusebroek&type=track&offset=0&limit=1', 'items': [], 'limit': 1, 'next': None, 'offset': 0, 'previous': None, 'total': 0}}\n3800:No result found, output: \n {'tracks': {'href': 'https://api.spotify.com/v1/search?query=Ik+Zou+Het+Zo+Weer+Over+Doen+Marco+Borsato+&type=track&offset=0&limit=1', 'items': [], 'limit': 1, 'next': None, 'offset': 0, 'previous': None, 'total': 0}}\n3860:No result found, output: \n {'tracks': {'href': 'https://api.spotify.com/v1/search?query=Maria+Maria+Santana+ft.+Product+G&type=track&offset=0&limit=1', 'items': [], 'limit': 1, 'next': None, 'offset': 0, 'previous': None, 'total': 0}}\n3872:No result found, output: \n {'tracks': {'href': 'https://api.spotify.com/v1/search?query=Walk+This+Way+Run+DMC+ft.+Aerosmith&type=track&offset=0&limit=1', 'items': [], 'limit': 1, 'next': None, 'offset': 0, 'previous': None, 'total': 0}}\n3903:No result found, output: \n {'tracks': {'href': 'https://api.spotify.com/v1/search?query=This+Is+Who+We+Are+Di-Rect&type=track&offset=0&limit=1', 'items': [], 'limit': 1, 'next': None, 'offset': 0, 'previous': None, 'total': 0}}\n3973:No result found, output: \n {'tracks': {'href': 'https://api.spotify.com/v1/search?query=Like+The+Way+I+Do+%28live%29+Edit+Melissa+Etheridge&type=track&offset=0&limit=1', 'items': [], 'limit': 1, 'next': None, 'offset': 0, 'previous': None, 'total': 0}}\n4022:No result found, output: \n {'tracks': {'href': 'https://api.spotify.com/v1/search?query=Set+The+Fire+To+The+Third+Bar+Snow+Patrol+ft.+Martha+Wainwright&type=track&offset=0&limit=1', 'items': [], 'limit': 1, 'next': None, 'offset': 0, 'previous': None, 'total': 0}}\n4031:No result found, output: \n {'tracks': {'href': 'https://api.spotify.com/v1/search?query=Gotta+Catch+%27M+All+%28Pokemon+Theme+Song%29+Jason+Paige&type=track&offset=0&limit=1', 'items': [], 'limit': 1, 'next': None, 'offset': 0, 'previous': None, 'total': 0}}\n4033:No result found, output: \n {'tracks': {'href': 'https://api.spotify.com/v1/search?query=Hotel+Lounge+Deus&type=track&offset=0&limit=1', 'items': [], 'limit': 1, 'next': None, 'offset': 0, 'previous': None, 'total': 0}}\n4038:No result found, output: \n {'tracks': {'href': 'https://api.spotify.com/v1/search?query=Diggin+Kovacs&type=track&offset=0&limit=1', 'items': [], 'limit': 1, 'next': None, 'offset': 0, 'previous': None, 'total': 0}}\n4062:No result found, output: \n {'tracks': {'href': 'https://api.spotify.com/v1/search?query=Deurdonderen+%28Live%29+Normaal&type=track&offset=0&limit=1', 'items': [], 'limit': 1, 'next': None, 'offset': 0, 'previous': None, 'total': 0}}\n4073:No result found, output: \n {'tracks': {'href': 'https://api.spotify.com/v1/search?query=Ghosttown+Adam+Lambert&type=track&offset=0&limit=1', 'items': [], 'limit': 1, 'next': None, 'offset': 0, 'previous': None, 'total': 0}}\n4082:No result found, output: \n {'tracks': {'href': 'https://api.spotify.com/v1/search?query=No+Diggity+Blackstreet+ft.+Dr+Dre&type=track&offset=0&limit=1', 'items': [], 'limit': 1, 'next': None, 'offset': 0, 'previous': None, 'total': 0}}\n4098:No result found, output: \n {'tracks': {'href': 'https://api.spotify.com/v1/search?query=Treur+Niet+Diggy+Dex+ft.+JW+Roy&type=track&offset=0&limit=1', 'items': [], 'limit': 1, 'next': None, 'offset': 0, 'previous': None, 'total': 0}}\n4100:No result found, output: \n {'tracks': {'href': 'https://api.spotify.com/v1/search?query=Heading+Up+High+Armin+van+Buuren+ft.+Kensington&type=track&offset=0&limit=1', 'items': [], 'limit': 1, 'next': None, 'offset': 0, 'previous': None, 'total': 0}}\n4175:No result found, output: \n {'tracks': {'href': 'https://api.spotify.com/v1/search?query=Lean+On+Major+Lazor+&type=track&offset=0&limit=1', 'items': [], 'limit': 1, 'next': None, 'offset': 0, 'previous': None, 'total': 0}}\n4190:No result found, output: \n {'tracks': {'href': 'https://api.spotify.com/v1/search?query=We+Don%27t+Make+The+Wind+Blow+Common+Linnets&type=track&offset=0&limit=1', 'items': [], 'limit': 1, 'next': None, 'offset': 0, 'previous': None, 'total': 0}}\n4256:No result found, output: \n {'tracks': {'href': 'https://api.spotify.com/v1/search?query=I+Love+You+Like+I+Love+Myself+Herman+Brood+&type=track&offset=0&limit=1', 'items': [], 'limit': 1, 'next': None, 'offset': 0, 'previous': None, 'total': 0}}\n4270:No result found, output: \n {'tracks': {'href': 'https://api.spotify.com/v1/search?query=Zoutelande+Bl%C3%B8f+ft.+Geike&type=track&offset=0&limit=1', 'items': [], 'limit': 1, 'next': None, 'offset': 0, 'previous': None, 'total': 0}}\n4306:No result found, output: \n {'tracks': {'href': 'https://api.spotify.com/v1/search?query=Sunny+Days+Armin+van+Buuren+ft.+Josh+Cumbee&type=track&offset=0&limit=1', 'items': [], 'limit': 1, 'next': None, 'offset': 0, 'previous': None, 'total': 0}}\n4346:No result found, output: \n {'tracks': {'href': 'https://api.spotify.com/v1/search?query=The+Next+Episode+Dr.+Dre+ft.+Snoop+Dogg&type=track&offset=0&limit=1', 'items': [], 'limit': 1, 'next': None, 'offset': 0, 'previous': None, 'total': 0}}\n4401:No result found, output: \n {'tracks': {'href': 'https://api.spotify.com/v1/search?query=Silence+%28Tiesto+Mix%29+Delerium+ft.+Sarah+McLachlan&type=track&offset=0&limit=1', 'items': [], 'limit': 1, 'next': None, 'offset': 0, 'previous': None, 'total': 0}}\n"
    }
   ],
   "source": [
    "top_2000[\"id\"] = top_2000.apply(searchid, axis = 1, show_missing = True)"
   ]
  },
  {
   "cell_type": "code",
   "execution_count": 17,
   "metadata": {},
   "outputs": [
    {
     "data": {
      "text/plain": "0.045156920298035676"
     },
     "execution_count": 17,
     "metadata": {},
     "output_type": "execute_result"
    }
   ],
   "source": [
    "# Check missing\n",
    "print(np.mean(top_2000[\"id\"].isna()))"
   ]
  },
  {
   "cell_type": "code",
   "execution_count": 20,
   "metadata": {},
   "outputs": [
    {
     "data": {
      "text/html": "<div>\n<style scoped>\n    .dataframe tbody tr th:only-of-type {\n        vertical-align: middle;\n    }\n\n    .dataframe tbody tr th {\n        vertical-align: top;\n    }\n\n    .dataframe thead th {\n        text-align: right;\n    }\n</style>\n<table border=\"1\" class=\"dataframe\">\n  <thead>\n    <tr style=\"text-align: right;\">\n      <th></th>\n      <th>2019</th>\n      <th>titel</th>\n      <th>artiest</th>\n      <th>jaar</th>\n    </tr>\n  </thead>\n  <tbody>\n    <tr>\n      <th>0</th>\n      <td>1</td>\n      <td>Bohemian Rhapsody</td>\n      <td>Queen</td>\n      <td>1975</td>\n    </tr>\n    <tr>\n      <th>1</th>\n      <td>2</td>\n      <td>Hotel California</td>\n      <td>Eagles</td>\n      <td>1977</td>\n    </tr>\n    <tr>\n      <th>2</th>\n      <td>3</td>\n      <td>Piano Man</td>\n      <td>Billy Joel</td>\n      <td>1974</td>\n    </tr>\n    <tr>\n      <th>3</th>\n      <td>4</td>\n      <td>Roller Coaster</td>\n      <td>Danny Vera</td>\n      <td>2019</td>\n    </tr>\n    <tr>\n      <th>4</th>\n      <td>5</td>\n      <td>Stairway To Heaven</td>\n      <td>Led Zeppelin</td>\n      <td>1971</td>\n    </tr>\n  </tbody>\n</table>\n</div>",
      "text/plain": "   2019               titel       artiest  jaar\n0     1   Bohemian Rhapsody         Queen  1975\n1     2    Hotel California        Eagles  1977\n2     3           Piano Man    Billy Joel  1974\n3     4      Roller Coaster    Danny Vera  2019\n4     5  Stairway To Heaven  Led Zeppelin  1971"
     },
     "execution_count": 20,
     "metadata": {},
     "output_type": "execute_result"
    }
   ],
   "source": [
    "year = pd.read_excel(os.path.join(path,\"Excel\",files[-1]))\n",
    "year.columns = [2019,'titel','artiest','jaar']\n",
    "year.head()"
   ]
  },
  {
   "cell_type": "code",
   "execution_count": 22,
   "metadata": {},
   "outputs": [
    {
     "name": "stdout",
     "output_type": "stream",
     "text": "50:No result found, output: \n {'tracks': {'href': 'https://api.spotify.com/v1/search?query=Zoutelande+Bl%C3%B8f+ft.+Geike&type=track&offset=0&limit=1', 'items': [], 'limit': 1, 'next': None, 'offset': 0, 'previous': None, 'total': 0}}\n83:No result found, output: \n {'tracks': {'href': 'https://api.spotify.com/v1/search?query=Deurdonderen+%28Live%29+Normaal&type=track&offset=0&limit=1', 'items': [], 'limit': 1, 'next': None, 'offset': 0, 'previous': None, 'total': 0}}\n126:No result found, output: \n {'tracks': {'href': 'https://api.spotify.com/v1/search?query=Gotta+Catch+%27M+All+%28Pokemon+Theme+Song%29+Jason+Paige&type=track&offset=0&limit=1', 'items': [], 'limit': 1, 'next': None, 'offset': 0, 'previous': None, 'total': 0}}\n160:No result found, output: \n {'tracks': {'href': 'https://api.spotify.com/v1/search?query=Wake+Me+Up+Avicii+ft.+Aloe+Blacc&type=track&offset=0&limit=1', 'items': [], 'limit': 1, 'next': None, 'offset': 0, 'previous': None, 'total': 0}}\n290:No result found, output: \n {'tracks': {'href': 'https://api.spotify.com/v1/search?query=Zo+Stil+Bl%C3%B8f&type=track&offset=0&limit=1', 'items': [], 'limit': 1, 'next': None, 'offset': 0, 'previous': None, 'total': 0}}\n348:No result found, output: \n {'tracks': {'href': 'https://api.spotify.com/v1/search?query=Harder+Dan+Ik+Hebben+Kan+Bl%C3%B8f&type=track&offset=0&limit=1', 'items': [], 'limit': 1, 'next': None, 'offset': 0, 'previous': None, 'total': 0}}\n353:No result found, output: \n {'tracks': {'href': 'https://api.spotify.com/v1/search?query=Treur+Niet+%28Ode+Aan+Het+Leven%29+Diggy+Dex+ft.+JW+Roy&type=track&offset=0&limit=1', 'items': [], 'limit': 1, 'next': None, 'offset': 0, 'previous': None, 'total': 0}}\n367:No result found, output: \n {'tracks': {'href': 'https://api.spotify.com/v1/search?query=This+Is+What+It+Feels+Like+Armin+van+Buuren+ft.Trevor+Guthrie&type=track&offset=0&limit=1', 'items': [], 'limit': 1, 'next': None, 'offset': 0, 'previous': None, 'total': 0}}\n412:No result found, output: \n {'tracks': {'href': 'https://api.spotify.com/v1/search?query=Heading+Up+High+Armin+van+Buuren+ft.+Kensington&type=track&offset=0&limit=1', 'items': [], 'limit': 1, 'next': None, 'offset': 0, 'previous': None, 'total': 0}}\n493:No result found, output: \n {'tracks': {'href': 'https://api.spotify.com/v1/search?query=Empire+State+Of+Mind+%28Part+2+-+Piano+Version%29+Alicia+Keys&type=track&offset=0&limit=1', 'items': [], 'limit': 1, 'next': None, 'offset': 0, 'previous': None, 'total': 0}}\n618:No result found, output: \n {'tracks': {'href': 'https://api.spotify.com/v1/search?query=Think+%28Blues+Brothers+Version%29+Aretha+Franklin&type=track&offset=0&limit=1', 'items': [], 'limit': 1, 'next': None, 'offset': 0, 'previous': None, 'total': 0}}\n720:No result found, output: \n {'tracks': {'href': 'https://api.spotify.com/v1/search?query=Never+Be+Clever+Herman+Brood+&type=track&offset=0&limit=1', 'items': [], 'limit': 1, 'next': None, 'offset': 0, 'previous': None, 'total': 0}}\n747:No result found, output: \n {'tracks': {'href': 'https://api.spotify.com/v1/search?query=Go+Like+Elijah+Chi+Coltrane&type=track&offset=0&limit=1', 'items': [], 'limit': 1, 'next': None, 'offset': 0, 'previous': None, 'total': 0}}\n788:No result found, output: \n {'tracks': {'href': 'https://api.spotify.com/v1/search?query=Hallelujah+Lisa+Lois&type=track&offset=0&limit=1', 'items': [], 'limit': 1, 'next': None, 'offset': 0, 'previous': None, 'total': 0}}\n833:No result found, output: \n {'tracks': {'href': 'https://api.spotify.com/v1/search?query=Flink+Zijn+Robert+Long&type=track&offset=0&limit=1', 'items': [], 'limit': 1, 'next': None, 'offset': 0, 'previous': None, 'total': 0}}\n847:No result found, output: \n {'tracks': {'href': 'https://api.spotify.com/v1/search?query=Bloasmuziek+G%C3%A9+Reinders&type=track&offset=0&limit=1', 'items': [], 'limit': 1, 'next': None, 'offset': 0, 'previous': None, 'total': 0}}\n891:No result found, output: \n {'tracks': {'href': 'https://api.spotify.com/v1/search?query=Kristallnach+BAP&type=track&offset=0&limit=1', 'items': [], 'limit': 1, 'next': None, 'offset': 0, 'previous': None, 'total': 0}}\n1101:No result found, output: \n {'tracks': {'href': 'https://api.spotify.com/v1/search?query=Gaia+Valensia&type=track&offset=0&limit=1', 'items': [], 'limit': 1, 'next': None, 'offset': 0, 'previous': None, 'total': 0}}\n1151:No result found, output: \n {'tracks': {'href': 'https://api.spotify.com/v1/search?query=Sunny+Days+Armin+van+Buuren+ft.+Josh+Cumbee&type=track&offset=0&limit=1', 'items': [], 'limit': 1, 'next': None, 'offset': 0, 'previous': None, 'total': 0}}\n1220:No result found, output: \n {'tracks': {'href': 'https://api.spotify.com/v1/search?query=Tom+Traubert%27s+Blues+%28Waltzing+Mathilda%29+Tom+Waits&type=track&offset=0&limit=1', 'items': [], 'limit': 1, 'next': None, 'offset': 0, 'previous': None, 'total': 0}}\n1249:No result found, output: \n {'tracks': {'href': 'https://api.spotify.com/v1/search?query=De+Weg+Guus+Meeuwis&type=track&offset=0&limit=1', 'items': [], 'limit': 1, 'next': None, 'offset': 0, 'previous': None, 'total': 0}}\n1292:No result found, output: \n {'tracks': {'href': 'https://api.spotify.com/v1/search?query=Dodenrit+Drs.+P&type=track&offset=0&limit=1', 'items': [], 'limit': 1, 'next': None, 'offset': 0, 'previous': None, 'total': 0}}\n1328:No result found, output: \n {'tracks': {'href': 'https://api.spotify.com/v1/search?query=The+Next+Episode+Dr.+Dre+ft.+Snoop+Dogg&type=track&offset=0&limit=1', 'items': [], 'limit': 1, 'next': None, 'offset': 0, 'previous': None, 'total': 0}}\n1361:No result found, output: \n {'tracks': {'href': 'https://api.spotify.com/v1/search?query=House+For+Sale+Lucifer&type=track&offset=0&limit=1', 'items': [], 'limit': 1, 'next': None, 'offset': 0, 'previous': None, 'total': 0}}\n1424:No result found, output: \n {'tracks': {'href': 'https://api.spotify.com/v1/search?query=Voltooid+Verleden+Tijd+Is+Ook+Schitterend%21&type=track&offset=0&limit=1', 'items': [], 'limit': 1, 'next': None, 'offset': 0, 'previous': None, 'total': 0}}\n1460:No result found, output: \n {'tracks': {'href': 'https://api.spotify.com/v1/search?query=Kalverliefde+Robert+Long&type=track&offset=0&limit=1', 'items': [], 'limit': 1, 'next': None, 'offset': 0, 'previous': None, 'total': 0}}\n1531:No result found, output: \n {'tracks': {'href': 'https://api.spotify.com/v1/search?query=Zaterdag+Bl%C3%B8f&type=track&offset=0&limit=1', 'items': [], 'limit': 1, 'next': None, 'offset': 0, 'previous': None, 'total': 0}}\n1535:No result found, output: \n {'tracks': {'href': 'https://api.spotify.com/v1/search?query=Summertime+Brainbox&type=track&offset=0&limit=1', 'items': [], 'limit': 1, 'next': None, 'offset': 0, 'previous': None, 'total': 0}}\n1573:No result found, output: \n {'tracks': {'href': 'https://api.spotify.com/v1/search?query=The+Road+Ahead+%28Miles+Of+The+Unknown%29+City+To+City&type=track&offset=0&limit=1', 'items': [], 'limit': 1, 'next': None, 'offset': 0, 'previous': None, 'total': 0}}\n1627:No result found, output: \n {'tracks': {'href': 'https://api.spotify.com/v1/search?query=Pain+And+Mysery+The+Teskey+Brothers&type=track&offset=0&limit=1', 'items': [], 'limit': 1, 'next': None, 'offset': 0, 'previous': None, 'total': 0}}\n1636:No result found, output: \n {'tracks': {'href': 'https://api.spotify.com/v1/search?query=Mijn+Van+Straat+Geredde+Roos+De+Dijk&type=track&offset=0&limit=1', 'items': [], 'limit': 1, 'next': None, 'offset': 0, 'previous': None, 'total': 0}}\n1658:No result found, output: \n {'tracks': {'href': 'https://api.spotify.com/v1/search?query=Later+Als+Ik+Groter+Ben+Bl%C3%B8f&type=track&offset=0&limit=1', 'items': [], 'limit': 1, 'next': None, 'offset': 0, 'previous': None, 'total': 0}}\n1677:No result found, output: \n {'tracks': {'href': 'https://api.spotify.com/v1/search?query=I+Love+You+Like+I+Love+Myself+Herman+Brood+&type=track&offset=0&limit=1', 'items': [], 'limit': 1, 'next': None, 'offset': 0, 'previous': None, 'total': 0}}\n1678:No result found, output: \n {'tracks': {'href': 'https://api.spotify.com/v1/search?query=Silence+%28Tiesto+Mix%29+Delerium+ft.+Sarah+McLachlan&type=track&offset=0&limit=1', 'items': [], 'limit': 1, 'next': None, 'offset': 0, 'previous': None, 'total': 0}}\n1719:No result found, output: \n {'tracks': {'href': 'https://api.spotify.com/v1/search?query=Unbeschreiblich+Weiblich+Nina+Hagen&type=track&offset=0&limit=1', 'items': [], 'limit': 1, 'next': None, 'offset': 0, 'previous': None, 'total': 0}}\n1739:No result found, output: \n {'tracks': {'href': 'https://api.spotify.com/v1/search?query=No+Diggity+Blackstreet+ft.+Dr+Dre&type=track&offset=0&limit=1', 'items': [], 'limit': 1, 'next': None, 'offset': 0, 'previous': None, 'total': 0}}\n1749:No result found, output: \n {'tracks': {'href': 'https://api.spotify.com/v1/search?query=Liquid+Spirit+-+Claptone+Remix+%28StuBru+radio+edit%29+Gregory+Porter&type=track&offset=0&limit=1', 'items': [], 'limit': 1, 'next': None, 'offset': 0, 'previous': None, 'total': 0}}\n1808:No result found, output: \n {'tracks': {'href': 'https://api.spotify.com/v1/search?query=Sound+Of+The+Screaming+Day+Golden+Earrings&type=track&offset=0&limit=1', 'items': [], 'limit': 1, 'next': None, 'offset': 0, 'previous': None, 'total': 0}}\n1863:No result found, output: \n {'tracks': {'href': 'https://api.spotify.com/v1/search?query=The+Wild+Places+Duncan+Browne&type=track&offset=0&limit=1', 'items': [], 'limit': 1, 'next': None, 'offset': 0, 'previous': None, 'total': 0}}\n1963:No result found, output: \n {'tracks': {'href': 'https://api.spotify.com/v1/search?query=Set+The+Fire+To+The+Third+Bar+Snow+Patrol+ft.+Martha+Wainwright&type=track&offset=0&limit=1', 'items': [], 'limit': 1, 'next': None, 'offset': 0, 'previous': None, 'total': 0}}\n1965:No result found, output: \n {'tracks': {'href': 'https://api.spotify.com/v1/search?query=Mister+Blue+Rene+Klijn&type=track&offset=0&limit=1', 'items': [], 'limit': 1, 'next': None, 'offset': 0, 'previous': None, 'total': 0}}\n"
    }
   ],
   "source": [
    "# Find ids for 2019\n",
    "year[\"id\"] = year.apply(searchid, axis = 1, show_missing = True)"
   ]
  },
  {
   "cell_type": "code",
   "execution_count": 23,
   "metadata": {},
   "outputs": [
    {
     "data": {
      "text/plain": "0.0205"
     },
     "execution_count": 23,
     "metadata": {},
     "output_type": "execute_result"
    }
   ],
   "source": [
    "# Check missing\n",
    "np.mean(year[\"id\"].isna())"
   ]
  },
  {
   "cell_type": "code",
   "execution_count": 22,
   "metadata": {},
   "outputs": [
    {
     "ename": "NameError",
     "evalue": "name 'year' is not defined",
     "output_type": "error",
     "traceback": [
      "\u001b[0;31m---------------------------------------------------------------------------\u001b[0m",
      "\u001b[0;31mNameError\u001b[0m                                 Traceback (most recent call last)",
      "\u001b[0;32m<ipython-input-22-47c67a0680ec>\u001b[0m in \u001b[0;36m<module>\u001b[0;34m\u001b[0m\n\u001b[1;32m      1\u001b[0m \u001b[0;31m# Save files for manual editing\u001b[0m\u001b[0;34m\u001b[0m\u001b[0;34m\u001b[0m\u001b[0;34m\u001b[0m\u001b[0m\n\u001b[1;32m      2\u001b[0m \u001b[0mtop_2000\u001b[0m\u001b[0;34m.\u001b[0m\u001b[0mto_csv\u001b[0m\u001b[0;34m(\u001b[0m\u001b[0mos\u001b[0m\u001b[0;34m.\u001b[0m\u001b[0mpath\u001b[0m\u001b[0;34m.\u001b[0m\u001b[0mjoin\u001b[0m\u001b[0;34m(\u001b[0m\u001b[0;34m\"old_records\"\u001b[0m\u001b[0;34m,\u001b[0m\u001b[0;34m'top_2000_1999-2018_ids.csv'\u001b[0m\u001b[0;34m)\u001b[0m\u001b[0;34m,\u001b[0m \u001b[0mindex\u001b[0m \u001b[0;34m=\u001b[0m \u001b[0;32mFalse\u001b[0m\u001b[0;34m)\u001b[0m\u001b[0;34m\u001b[0m\u001b[0;34m\u001b[0m\u001b[0m\n\u001b[0;32m----> 3\u001b[0;31m \u001b[0myear\u001b[0m\u001b[0;34m.\u001b[0m\u001b[0mto_csv\u001b[0m\u001b[0;34m(\u001b[0m\u001b[0mos\u001b[0m\u001b[0;34m.\u001b[0m\u001b[0mpath\u001b[0m\u001b[0;34m.\u001b[0m\u001b[0mjoin\u001b[0m\u001b[0;34m(\u001b[0m\u001b[0;34m\"old_records\"\u001b[0m\u001b[0;34m,\u001b[0m\u001b[0;34m'top_2000_2019_ids.csv'\u001b[0m\u001b[0;34m)\u001b[0m\u001b[0;34m,\u001b[0m \u001b[0mindex\u001b[0m \u001b[0;34m=\u001b[0m \u001b[0;32mFalse\u001b[0m\u001b[0;34m)\u001b[0m\u001b[0;34m\u001b[0m\u001b[0;34m\u001b[0m\u001b[0m\n\u001b[0m",
      "\u001b[0;31mNameError\u001b[0m: name 'year' is not defined"
     ]
    }
   ],
   "source": [
    "# Save files for manual editing\n",
    "top_2000.to_csv(os.path.join(\"old_records\",'top_2000_1999-2018_ids.csv'), index = False)\n",
    "year.to_csv(os.path.join(\"old_records\",'top_2000_2019_ids.csv'), index = False)"
   ]
  },
  {
   "cell_type": "code",
   "execution_count": 52,
   "metadata": {},
   "outputs": [
    {
     "data": {
      "text/html": "<div>\n<style scoped>\n    .dataframe tbody tr th:only-of-type {\n        vertical-align: middle;\n    }\n\n    .dataframe tbody tr th {\n        vertical-align: top;\n    }\n\n    .dataframe thead th {\n        text-align: right;\n    }\n</style>\n<table border=\"1\" class=\"dataframe\">\n  <thead>\n    <tr style=\"text-align: right;\">\n      <th></th>\n      <th>titel</th>\n      <th>artiest</th>\n      <th>jaar</th>\n      <th>1999</th>\n      <th>2000</th>\n      <th>2001</th>\n      <th>2002</th>\n      <th>2003</th>\n      <th>2004</th>\n      <th>2005</th>\n      <th>...</th>\n      <th>2010</th>\n      <th>2011</th>\n      <th>2012</th>\n      <th>2013</th>\n      <th>2014</th>\n      <th>2015</th>\n      <th>2016</th>\n      <th>2017</th>\n      <th>2018</th>\n      <th>id</th>\n    </tr>\n  </thead>\n  <tbody>\n    <tr>\n      <th>0</th>\n      <td>Bohemian Rhapsody</td>\n      <td>Queen</td>\n      <td>1975</td>\n      <td>1.0</td>\n      <td>1.0</td>\n      <td>1.0</td>\n      <td>1.0</td>\n      <td>1.0</td>\n      <td>1.0</td>\n      <td>2.0</td>\n      <td>...</td>\n      <td>2.0</td>\n      <td>1.0</td>\n      <td>1.0</td>\n      <td>1.0</td>\n      <td>2.0</td>\n      <td>2.0</td>\n      <td>1.0</td>\n      <td>1.0</td>\n      <td>1.0</td>\n      <td>7tFiyTwD0nx5a1eklYtX2J</td>\n    </tr>\n    <tr>\n      <th>1</th>\n      <td>Hotel California</td>\n      <td>Eagles</td>\n      <td>1977</td>\n      <td>2.0</td>\n      <td>4.0</td>\n      <td>3.0</td>\n      <td>3.0</td>\n      <td>2.0</td>\n      <td>2.0</td>\n      <td>3.0</td>\n      <td>...</td>\n      <td>1.0</td>\n      <td>2.0</td>\n      <td>2.0</td>\n      <td>2.0</td>\n      <td>1.0</td>\n      <td>3.0</td>\n      <td>2.0</td>\n      <td>2.0</td>\n      <td>2.0</td>\n      <td>40riOy7x9W7GXjyGp4pjAv</td>\n    </tr>\n    <tr>\n      <th>2</th>\n      <td>Child In Time</td>\n      <td>Deep Purple</td>\n      <td>1972</td>\n      <td>3.0</td>\n      <td>2.0</td>\n      <td>2.0</td>\n      <td>2.0</td>\n      <td>3.0</td>\n      <td>3.0</td>\n      <td>4.0</td>\n      <td>...</td>\n      <td>4.0</td>\n      <td>3.0</td>\n      <td>4.0</td>\n      <td>4.0</td>\n      <td>4.0</td>\n      <td>8.0</td>\n      <td>5.0</td>\n      <td>5.0</td>\n      <td>6.0</td>\n      <td>5TrfusgKC1BYic5LaWCoKm</td>\n    </tr>\n    <tr>\n      <th>3</th>\n      <td>Stairway To Heaven</td>\n      <td>Led Zeppelin</td>\n      <td>1971</td>\n      <td>4.0</td>\n      <td>3.0</td>\n      <td>4.0</td>\n      <td>4.0</td>\n      <td>4.0</td>\n      <td>4.0</td>\n      <td>5.0</td>\n      <td>...</td>\n      <td>5.0</td>\n      <td>5.0</td>\n      <td>3.0</td>\n      <td>3.0</td>\n      <td>3.0</td>\n      <td>5.0</td>\n      <td>3.0</td>\n      <td>3.0</td>\n      <td>4.0</td>\n      <td>5CQ30WqJwcep0pYcV4AMNc</td>\n    </tr>\n    <tr>\n      <th>4</th>\n      <td>Paradise By The Dashboard Light</td>\n      <td>Meat Loaf</td>\n      <td>1978</td>\n      <td>5.0</td>\n      <td>5.0</td>\n      <td>5.0</td>\n      <td>5.0</td>\n      <td>5.0</td>\n      <td>6.0</td>\n      <td>6.0</td>\n      <td>...</td>\n      <td>9.0</td>\n      <td>11.0</td>\n      <td>19.0</td>\n      <td>22.0</td>\n      <td>17.0</td>\n      <td>30.0</td>\n      <td>27.0</td>\n      <td>27.0</td>\n      <td>29.0</td>\n      <td>2g7gviEeJr6pyxO7G35EWQ</td>\n    </tr>\n  </tbody>\n</table>\n<p>5 rows × 24 columns</p>\n</div>",
      "text/plain": "                             titel       artiest  jaar  1999  2000  2001  \\\n0                Bohemian Rhapsody         Queen  1975   1.0   1.0   1.0   \n1                 Hotel California        Eagles  1977   2.0   4.0   3.0   \n2                    Child In Time   Deep Purple  1972   3.0   2.0   2.0   \n3               Stairway To Heaven  Led Zeppelin  1971   4.0   3.0   4.0   \n4  Paradise By The Dashboard Light     Meat Loaf  1978   5.0   5.0   5.0   \n\n   2002  2003  2004  2005  ...  2010  2011  2012  2013  2014  2015  2016  \\\n0   1.0   1.0   1.0   2.0  ...   2.0   1.0   1.0   1.0   2.0   2.0   1.0   \n1   3.0   2.0   2.0   3.0  ...   1.0   2.0   2.0   2.0   1.0   3.0   2.0   \n2   2.0   3.0   3.0   4.0  ...   4.0   3.0   4.0   4.0   4.0   8.0   5.0   \n3   4.0   4.0   4.0   5.0  ...   5.0   5.0   3.0   3.0   3.0   5.0   3.0   \n4   5.0   5.0   6.0   6.0  ...   9.0  11.0  19.0  22.0  17.0  30.0  27.0   \n\n   2017  2018                      id  \n0   1.0   1.0  7tFiyTwD0nx5a1eklYtX2J  \n1   2.0   2.0  40riOy7x9W7GXjyGp4pjAv  \n2   5.0   6.0  5TrfusgKC1BYic5LaWCoKm  \n3   3.0   4.0  5CQ30WqJwcep0pYcV4AMNc  \n4  27.0  29.0  2g7gviEeJr6pyxO7G35EWQ  \n\n[5 rows x 24 columns]"
     },
     "metadata": {},
     "output_type": "display_data"
    },
    {
     "data": {
      "text/html": "<div>\n<style scoped>\n    .dataframe tbody tr th:only-of-type {\n        vertical-align: middle;\n    }\n\n    .dataframe tbody tr th {\n        vertical-align: top;\n    }\n\n    .dataframe thead th {\n        text-align: right;\n    }\n</style>\n<table border=\"1\" class=\"dataframe\">\n  <thead>\n    <tr style=\"text-align: right;\">\n      <th></th>\n      <th>2019</th>\n      <th>titel</th>\n      <th>artiest</th>\n      <th>jaar</th>\n      <th>id</th>\n    </tr>\n  </thead>\n  <tbody>\n    <tr>\n      <th>0</th>\n      <td>1</td>\n      <td>Bohemian Rhapsody</td>\n      <td>Queen</td>\n      <td>1975</td>\n      <td>7tFiyTwD0nx5a1eklYtX2J</td>\n    </tr>\n    <tr>\n      <th>1</th>\n      <td>2</td>\n      <td>Hotel California</td>\n      <td>Eagles</td>\n      <td>1977</td>\n      <td>40riOy7x9W7GXjyGp4pjAv</td>\n    </tr>\n    <tr>\n      <th>2</th>\n      <td>3</td>\n      <td>Piano Man</td>\n      <td>Billy Joel</td>\n      <td>1974</td>\n      <td>70C4NyhjD5OZUMzvWZ3njJ</td>\n    </tr>\n    <tr>\n      <th>3</th>\n      <td>4</td>\n      <td>Roller Coaster</td>\n      <td>Danny Vera</td>\n      <td>2019</td>\n      <td>7rO7Pc5dkC2EIW1OKsCJtQ</td>\n    </tr>\n    <tr>\n      <th>4</th>\n      <td>5</td>\n      <td>Stairway To Heaven</td>\n      <td>Led Zeppelin</td>\n      <td>1971</td>\n      <td>5CQ30WqJwcep0pYcV4AMNc</td>\n    </tr>\n  </tbody>\n</table>\n</div>",
      "text/plain": "   2019               titel       artiest  jaar                      id\n0     1   Bohemian Rhapsody         Queen  1975  7tFiyTwD0nx5a1eklYtX2J\n1     2    Hotel California        Eagles  1977  40riOy7x9W7GXjyGp4pjAv\n2     3           Piano Man    Billy Joel  1974  70C4NyhjD5OZUMzvWZ3njJ\n3     4      Roller Coaster    Danny Vera  2019  7rO7Pc5dkC2EIW1OKsCJtQ\n4     5  Stairway To Heaven  Led Zeppelin  1971  5CQ30WqJwcep0pYcV4AMNc"
     },
     "metadata": {},
     "output_type": "display_data"
    }
   ],
   "source": [
    "# Load files for merging\n",
    "top_2000_edited= pd.read_csv(\"top_2000_1999-2018_ids_edited.csv\")\n",
    "year_edited= pd.read_csv(\"top_2000_2019_ids_edited.csv\")\n",
    "display(top_2000_edited.head())\n",
    "display(year_edited.head())"
   ]
  },
  {
   "cell_type": "code",
   "execution_count": 53,
   "metadata": {},
   "outputs": [],
   "source": [
    "top_2000 = pd.merge(top_2000_edited,year_edited, on=['id'], how='outer')"
   ]
  },
  {
   "cell_type": "code",
   "execution_count": 54,
   "metadata": {},
   "outputs": [
    {
     "data": {
      "text/plain": "Index(['titel_x', 'artiest_x', 'jaar_x', '1999', '2000', '2001', '2002',\n       '2003', '2004', '2005', '2006', '2007', '2008', '2009', '2010', '2011',\n       '2012', '2013', '2014', '2015', '2016', '2017', '2018', 'id', '2019',\n       'titel_y', 'artiest_y', 'jaar_y'],\n      dtype='object')"
     },
     "execution_count": 54,
     "metadata": {},
     "output_type": "execute_result"
    }
   ],
   "source": [
    "top_2000.columns"
   ]
  },
  {
   "cell_type": "code",
   "execution_count": 55,
   "metadata": {},
   "outputs": [
    {
     "data": {
      "text/html": "<div>\n<style scoped>\n    .dataframe tbody tr th:only-of-type {\n        vertical-align: middle;\n    }\n\n    .dataframe tbody tr th {\n        vertical-align: top;\n    }\n\n    .dataframe thead th {\n        text-align: right;\n    }\n</style>\n<table border=\"1\" class=\"dataframe\">\n  <thead>\n    <tr style=\"text-align: right;\">\n      <th></th>\n      <th>titel</th>\n      <th>artiest</th>\n      <th>jaar</th>\n      <th>id</th>\n      <th>1999</th>\n      <th>2000</th>\n      <th>2001</th>\n      <th>2002</th>\n      <th>2003</th>\n      <th>2004</th>\n      <th>...</th>\n      <th>2010</th>\n      <th>2011</th>\n      <th>2012</th>\n      <th>2013</th>\n      <th>2014</th>\n      <th>2015</th>\n      <th>2016</th>\n      <th>2017</th>\n      <th>2018</th>\n      <th>2019</th>\n    </tr>\n  </thead>\n  <tbody>\n    <tr>\n      <th>0</th>\n      <td>Bohemian Rhapsody</td>\n      <td>Queen</td>\n      <td>1975.0</td>\n      <td>7tFiyTwD0nx5a1eklYtX2J</td>\n      <td>1.0</td>\n      <td>1.0</td>\n      <td>1.0</td>\n      <td>1.0</td>\n      <td>1.0</td>\n      <td>1.0</td>\n      <td>...</td>\n      <td>2.0</td>\n      <td>1.0</td>\n      <td>1.0</td>\n      <td>1.0</td>\n      <td>2.0</td>\n      <td>2.0</td>\n      <td>1.0</td>\n      <td>1.0</td>\n      <td>1.0</td>\n      <td>1.0</td>\n    </tr>\n    <tr>\n      <th>1</th>\n      <td>Hotel California</td>\n      <td>Eagles</td>\n      <td>1977.0</td>\n      <td>40riOy7x9W7GXjyGp4pjAv</td>\n      <td>2.0</td>\n      <td>4.0</td>\n      <td>3.0</td>\n      <td>3.0</td>\n      <td>2.0</td>\n      <td>2.0</td>\n      <td>...</td>\n      <td>1.0</td>\n      <td>2.0</td>\n      <td>2.0</td>\n      <td>2.0</td>\n      <td>1.0</td>\n      <td>3.0</td>\n      <td>2.0</td>\n      <td>2.0</td>\n      <td>2.0</td>\n      <td>2.0</td>\n    </tr>\n    <tr>\n      <th>2</th>\n      <td>Child In Time</td>\n      <td>Deep Purple</td>\n      <td>1972.0</td>\n      <td>5TrfusgKC1BYic5LaWCoKm</td>\n      <td>3.0</td>\n      <td>2.0</td>\n      <td>2.0</td>\n      <td>2.0</td>\n      <td>3.0</td>\n      <td>3.0</td>\n      <td>...</td>\n      <td>4.0</td>\n      <td>3.0</td>\n      <td>4.0</td>\n      <td>4.0</td>\n      <td>4.0</td>\n      <td>8.0</td>\n      <td>5.0</td>\n      <td>5.0</td>\n      <td>6.0</td>\n      <td>12.0</td>\n    </tr>\n    <tr>\n      <th>3</th>\n      <td>Stairway To Heaven</td>\n      <td>Led Zeppelin</td>\n      <td>1971.0</td>\n      <td>5CQ30WqJwcep0pYcV4AMNc</td>\n      <td>4.0</td>\n      <td>3.0</td>\n      <td>4.0</td>\n      <td>4.0</td>\n      <td>4.0</td>\n      <td>4.0</td>\n      <td>...</td>\n      <td>5.0</td>\n      <td>5.0</td>\n      <td>3.0</td>\n      <td>3.0</td>\n      <td>3.0</td>\n      <td>5.0</td>\n      <td>3.0</td>\n      <td>3.0</td>\n      <td>4.0</td>\n      <td>5.0</td>\n    </tr>\n    <tr>\n      <th>4</th>\n      <td>Paradise By The Dashboard Light</td>\n      <td>Meat Loaf</td>\n      <td>1978.0</td>\n      <td>2g7gviEeJr6pyxO7G35EWQ</td>\n      <td>5.0</td>\n      <td>5.0</td>\n      <td>5.0</td>\n      <td>5.0</td>\n      <td>5.0</td>\n      <td>6.0</td>\n      <td>...</td>\n      <td>9.0</td>\n      <td>11.0</td>\n      <td>19.0</td>\n      <td>22.0</td>\n      <td>17.0</td>\n      <td>30.0</td>\n      <td>27.0</td>\n      <td>27.0</td>\n      <td>29.0</td>\n      <td>35.0</td>\n    </tr>\n  </tbody>\n</table>\n<p>5 rows × 25 columns</p>\n</div>",
      "text/plain": "                             titel       artiest    jaar  \\\n0                Bohemian Rhapsody         Queen  1975.0   \n1                 Hotel California        Eagles  1977.0   \n2                    Child In Time   Deep Purple  1972.0   \n3               Stairway To Heaven  Led Zeppelin  1971.0   \n4  Paradise By The Dashboard Light     Meat Loaf  1978.0   \n\n                       id  1999  2000  2001  2002  2003  2004  ...  2010  \\\n0  7tFiyTwD0nx5a1eklYtX2J   1.0   1.0   1.0   1.0   1.0   1.0  ...   2.0   \n1  40riOy7x9W7GXjyGp4pjAv   2.0   4.0   3.0   3.0   2.0   2.0  ...   1.0   \n2  5TrfusgKC1BYic5LaWCoKm   3.0   2.0   2.0   2.0   3.0   3.0  ...   4.0   \n3  5CQ30WqJwcep0pYcV4AMNc   4.0   3.0   4.0   4.0   4.0   4.0  ...   5.0   \n4  2g7gviEeJr6pyxO7G35EWQ   5.0   5.0   5.0   5.0   5.0   6.0  ...   9.0   \n\n   2011  2012  2013  2014  2015  2016  2017  2018  2019  \n0   1.0   1.0   1.0   2.0   2.0   1.0   1.0   1.0   1.0  \n1   2.0   2.0   2.0   1.0   3.0   2.0   2.0   2.0   2.0  \n2   3.0   4.0   4.0   4.0   8.0   5.0   5.0   6.0  12.0  \n3   5.0   3.0   3.0   3.0   5.0   3.0   3.0   4.0   5.0  \n4  11.0  19.0  22.0  17.0  30.0  27.0  27.0  29.0  35.0  \n\n[5 rows x 25 columns]"
     },
     "execution_count": 55,
     "metadata": {},
     "output_type": "execute_result"
    }
   ],
   "source": [
    "# top_2000.drop(columns=['titel_y','artiest_y','jaar_y'], inplace = True)\n",
    "top_2000 = top_2000.rename(columns={'artiest_x': 'artiest',\"titel_x\":\"titel\",\"jaar_x\":\"jaar\" })\n",
    "top_2000 = top_2000[['titel', 'artiest', 'jaar', 'id', '1999', '2000', '2001', '2002', '2003', '2004', '2005', '2006', '2007', '2008', '2009', '2010', '2011', '2012', '2013', '2014', '2015', '2016', '2017', '2018', '2019']]\n",
    "top_2000.head()"
   ]
  },
  {
   "cell_type": "code",
   "execution_count": 56,
   "metadata": {},
   "outputs": [
    {
     "data": {
      "text/html": "<div>\n<style scoped>\n    .dataframe tbody tr th:only-of-type {\n        vertical-align: middle;\n    }\n\n    .dataframe tbody tr th {\n        vertical-align: top;\n    }\n\n    .dataframe thead th {\n        text-align: right;\n    }\n</style>\n<table border=\"1\" class=\"dataframe\">\n  <thead>\n    <tr style=\"text-align: right;\">\n      <th></th>\n      <th>titel</th>\n      <th>artiest</th>\n      <th>jaar</th>\n      <th>id</th>\n      <th>1999</th>\n      <th>2000</th>\n      <th>2001</th>\n      <th>2002</th>\n      <th>2003</th>\n      <th>2004</th>\n      <th>...</th>\n      <th>2010</th>\n      <th>2011</th>\n      <th>2012</th>\n      <th>2013</th>\n      <th>2014</th>\n      <th>2015</th>\n      <th>2016</th>\n      <th>2017</th>\n      <th>2018</th>\n      <th>2019</th>\n    </tr>\n  </thead>\n  <tbody>\n    <tr>\n      <th>0</th>\n      <td>Bohemian Rhapsody</td>\n      <td>Queen</td>\n      <td>1975</td>\n      <td>7tFiyTwD0nx5a1eklYtX2J</td>\n      <td>1</td>\n      <td>1</td>\n      <td>1</td>\n      <td>1</td>\n      <td>1</td>\n      <td>1</td>\n      <td>...</td>\n      <td>2</td>\n      <td>1</td>\n      <td>1</td>\n      <td>1</td>\n      <td>2</td>\n      <td>2</td>\n      <td>1</td>\n      <td>1</td>\n      <td>1</td>\n      <td>1</td>\n    </tr>\n    <tr>\n      <th>1</th>\n      <td>Hotel California</td>\n      <td>Eagles</td>\n      <td>1977</td>\n      <td>40riOy7x9W7GXjyGp4pjAv</td>\n      <td>2</td>\n      <td>4</td>\n      <td>3</td>\n      <td>3</td>\n      <td>2</td>\n      <td>2</td>\n      <td>...</td>\n      <td>1</td>\n      <td>2</td>\n      <td>2</td>\n      <td>2</td>\n      <td>1</td>\n      <td>3</td>\n      <td>2</td>\n      <td>2</td>\n      <td>2</td>\n      <td>2</td>\n    </tr>\n    <tr>\n      <th>2</th>\n      <td>Child In Time</td>\n      <td>Deep Purple</td>\n      <td>1972</td>\n      <td>5TrfusgKC1BYic5LaWCoKm</td>\n      <td>3</td>\n      <td>2</td>\n      <td>2</td>\n      <td>2</td>\n      <td>3</td>\n      <td>3</td>\n      <td>...</td>\n      <td>4</td>\n      <td>3</td>\n      <td>4</td>\n      <td>4</td>\n      <td>4</td>\n      <td>8</td>\n      <td>5</td>\n      <td>5</td>\n      <td>6</td>\n      <td>12</td>\n    </tr>\n    <tr>\n      <th>3</th>\n      <td>Stairway To Heaven</td>\n      <td>Led Zeppelin</td>\n      <td>1971</td>\n      <td>5CQ30WqJwcep0pYcV4AMNc</td>\n      <td>4</td>\n      <td>3</td>\n      <td>4</td>\n      <td>4</td>\n      <td>4</td>\n      <td>4</td>\n      <td>...</td>\n      <td>5</td>\n      <td>5</td>\n      <td>3</td>\n      <td>3</td>\n      <td>3</td>\n      <td>5</td>\n      <td>3</td>\n      <td>3</td>\n      <td>4</td>\n      <td>5</td>\n    </tr>\n    <tr>\n      <th>4</th>\n      <td>Paradise By The Dashboard Light</td>\n      <td>Meat Loaf</td>\n      <td>1978</td>\n      <td>2g7gviEeJr6pyxO7G35EWQ</td>\n      <td>5</td>\n      <td>5</td>\n      <td>5</td>\n      <td>5</td>\n      <td>5</td>\n      <td>6</td>\n      <td>...</td>\n      <td>9</td>\n      <td>11</td>\n      <td>19</td>\n      <td>22</td>\n      <td>17</td>\n      <td>30</td>\n      <td>27</td>\n      <td>27</td>\n      <td>29</td>\n      <td>35</td>\n    </tr>\n    <tr>\n      <th>...</th>\n      <td>...</td>\n      <td>...</td>\n      <td>...</td>\n      <td>...</td>\n      <td>...</td>\n      <td>...</td>\n      <td>...</td>\n      <td>...</td>\n      <td>...</td>\n      <td>...</td>\n      <td>...</td>\n      <td>...</td>\n      <td>...</td>\n      <td>...</td>\n      <td>...</td>\n      <td>...</td>\n      <td>...</td>\n      <td>...</td>\n      <td>...</td>\n      <td>...</td>\n      <td>...</td>\n    </tr>\n    <tr>\n      <th>95</th>\n      <td>Eternal Flame</td>\n      <td>Bangles</td>\n      <td>1989</td>\n      <td>5MoDQWMDMaAGDEiWsJfeCi</td>\n      <td>96</td>\n      <td>138</td>\n      <td>104</td>\n      <td>199</td>\n      <td>244</td>\n      <td>205</td>\n      <td>...</td>\n      <td>427</td>\n      <td>546</td>\n      <td>835</td>\n      <td>814</td>\n      <td>666</td>\n      <td>774</td>\n      <td>662</td>\n      <td>775</td>\n      <td>1120</td>\n      <td>1300</td>\n    </tr>\n    <tr>\n      <th>96</th>\n      <td>Strawberry Fields Forever</td>\n      <td>Beatles</td>\n      <td>1967</td>\n      <td>3Am0IbOxmvlSXro7N5iSfZ</td>\n      <td>97</td>\n      <td>131</td>\n      <td>180</td>\n      <td>214</td>\n      <td>207</td>\n      <td>259</td>\n      <td>...</td>\n      <td>247</td>\n      <td>271</td>\n      <td>308</td>\n      <td>301</td>\n      <td>395</td>\n      <td>322</td>\n      <td>387</td>\n      <td>505</td>\n      <td>587</td>\n      <td>548</td>\n    </tr>\n    <tr>\n      <th>97</th>\n      <td>Against All Odds (Take A Look At Me Now)</td>\n      <td>Phil Collins</td>\n      <td>1984</td>\n      <td>63CHa6rmamv9OsehkRD8oz</td>\n      <td>98</td>\n      <td>152</td>\n      <td>132</td>\n      <td>153</td>\n      <td>159</td>\n      <td>170</td>\n      <td>...</td>\n      <td>308</td>\n      <td>394</td>\n      <td>240</td>\n      <td>307</td>\n      <td>370</td>\n      <td>393</td>\n      <td>352</td>\n      <td>282</td>\n      <td>320</td>\n      <td>269</td>\n    </tr>\n    <tr>\n      <th>98</th>\n      <td>Every Breath You Take</td>\n      <td>Police</td>\n      <td>1983</td>\n      <td>1JSTJqkT5qHq8MDJnJbRE1</td>\n      <td>99</td>\n      <td>166</td>\n      <td>167</td>\n      <td>184</td>\n      <td>259</td>\n      <td>284</td>\n      <td>...</td>\n      <td>351</td>\n      <td>345</td>\n      <td>356</td>\n      <td>210</td>\n      <td>330</td>\n      <td>386</td>\n      <td>318</td>\n      <td>290</td>\n      <td>286</td>\n      <td>311</td>\n    </tr>\n    <tr>\n      <th>99</th>\n      <td>Eloise</td>\n      <td>Barry Ryan</td>\n      <td>1968</td>\n      <td>1svB1gR5yFsNgoBxRevt3n</td>\n      <td>100</td>\n      <td>97</td>\n      <td>83</td>\n      <td>117</td>\n      <td>108</td>\n      <td>141</td>\n      <td>...</td>\n      <td>261</td>\n      <td>365</td>\n      <td>410</td>\n      <td>553</td>\n      <td>566</td>\n      <td>707</td>\n      <td>805</td>\n      <td>851</td>\n      <td>1134</td>\n      <td>1124</td>\n    </tr>\n  </tbody>\n</table>\n<p>100 rows × 25 columns</p>\n</div>",
      "text/plain": "                                       titel       artiest  jaar  \\\n0                          Bohemian Rhapsody         Queen  1975   \n1                           Hotel California        Eagles  1977   \n2                              Child In Time   Deep Purple  1972   \n3                         Stairway To Heaven  Led Zeppelin  1971   \n4            Paradise By The Dashboard Light     Meat Loaf  1978   \n..                                       ...           ...   ...   \n95                             Eternal Flame       Bangles  1989   \n96                 Strawberry Fields Forever       Beatles  1967   \n97  Against All Odds (Take A Look At Me Now)  Phil Collins  1984   \n98                     Every Breath You Take        Police  1983   \n99                                    Eloise    Barry Ryan  1968   \n\n                        id  1999  2000  2001  2002  2003  2004  ...  2010  \\\n0   7tFiyTwD0nx5a1eklYtX2J     1     1     1     1     1     1  ...     2   \n1   40riOy7x9W7GXjyGp4pjAv     2     4     3     3     2     2  ...     1   \n2   5TrfusgKC1BYic5LaWCoKm     3     2     2     2     3     3  ...     4   \n3   5CQ30WqJwcep0pYcV4AMNc     4     3     4     4     4     4  ...     5   \n4   2g7gviEeJr6pyxO7G35EWQ     5     5     5     5     5     6  ...     9   \n..                     ...   ...   ...   ...   ...   ...   ...  ...   ...   \n95  5MoDQWMDMaAGDEiWsJfeCi    96   138   104   199   244   205  ...   427   \n96  3Am0IbOxmvlSXro7N5iSfZ    97   131   180   214   207   259  ...   247   \n97  63CHa6rmamv9OsehkRD8oz    98   152   132   153   159   170  ...   308   \n98  1JSTJqkT5qHq8MDJnJbRE1    99   166   167   184   259   284  ...   351   \n99  1svB1gR5yFsNgoBxRevt3n   100    97    83   117   108   141  ...   261   \n\n    2011  2012  2013  2014  2015  2016  2017  2018  2019  \n0      1     1     1     2     2     1     1     1     1  \n1      2     2     2     1     3     2     2     2     2  \n2      3     4     4     4     8     5     5     6    12  \n3      5     3     3     3     5     3     3     4     5  \n4     11    19    22    17    30    27    27    29    35  \n..   ...   ...   ...   ...   ...   ...   ...   ...   ...  \n95   546   835   814   666   774   662   775  1120  1300  \n96   271   308   301   395   322   387   505   587   548  \n97   394   240   307   370   393   352   282   320   269  \n98   345   356   210   330   386   318   290   286   311  \n99   365   410   553   566   707   805   851  1134  1124  \n\n[100 rows x 25 columns]"
     },
     "metadata": {},
     "output_type": "display_data"
    },
    {
     "name": "stdout",
     "output_type": "stream",
     "text": "titel      object\nartiest    object\njaar        Int64\nid         object\n1999        Int64\n2000        Int64\n2001        Int64\n2002        Int64\n2003        Int64\n2004        Int64\n2005        Int64\n2006        Int64\n2007        Int64\n2008        Int64\n2009        Int64\n2010        Int64\n2011        Int64\n2012        Int64\n2013        Int64\n2014        Int64\n2015        Int64\n2016        Int64\n2017        Int64\n2018        Int64\n2019        Int64\ndtype: object\n"
    }
   ],
   "source": [
    "# NaNs are floats in pandas, therefore all years are of type float\n",
    "# This can be handled by an experimental functionality in pandas 1.0.1\n",
    "top_2000.iloc[:,4:] = top_2000.iloc[:,4:].astype(\"Int64\", copy=False)\n",
    "top_2000['jaar'] = top_2000['jaar'].astype(\"Int64\", copy=False)\n",
    "# Check if list is now int\n",
    "display(top_2000.head(100))\n",
    "print(top_2000.dtypes)"
   ]
  },
  {
   "cell_type": "code",
   "execution_count": 57,
   "metadata": {},
   "outputs": [],
   "source": [
    "# Save files\n",
    "top_2000.to_json('top_2000_clean.json', orient='records')\n",
    "top_2000.to_csv('top_2000_clean.csv', index = False)\n",
    "top_2000.to_pickle('top_2000_clean.pickle')"
   ]
  },
  {
   "cell_type": "markdown",
   "execution_count": null,
   "metadata": {},
   "outputs": [],
   "source": [
    "# Testing for errors"
   ]
  },
  {
   "cell_type": "code",
   "execution_count": 58,
   "metadata": {},
   "outputs": [
    {
     "name": "stdout",
     "output_type": "stream",
     "text": "358\n9\n"
    },
    {
     "data": {
      "text/html": "<div>\n<style scoped>\n    .dataframe tbody tr th:only-of-type {\n        vertical-align: middle;\n    }\n\n    .dataframe tbody tr th {\n        vertical-align: top;\n    }\n\n    .dataframe thead th {\n        text-align: right;\n    }\n</style>\n<table border=\"1\" class=\"dataframe\">\n  <thead>\n    <tr style=\"text-align: right;\">\n      <th></th>\n      <th>titel</th>\n      <th>artiest</th>\n      <th>jaar</th>\n      <th>id</th>\n    </tr>\n  </thead>\n  <tbody>\n    <tr>\n      <th>212</th>\n      <td>House For Sale</td>\n      <td>Lucifer</td>\n      <td>1975</td>\n      <td>4kXbcScK3ScRFrZVlBytnm</td>\n    </tr>\n    <tr>\n      <th>1412</th>\n      <td>The Last Seven Days</td>\n      <td>Unit Gloria</td>\n      <td>1969</td>\n      <td>5UDbH6e4kfAkKIfaNojXGS</td>\n    </tr>\n    <tr>\n      <th>3207</th>\n      <td>Harvest</td>\n      <td>Neil Young</td>\n      <td>1972</td>\n      <td>5l9c6bJmzvftumhz4TMPgk</td>\n    </tr>\n    <tr>\n      <th>2516</th>\n      <td>To France</td>\n      <td>Mike Oldfield ft. Maggie Reilly</td>\n      <td>1984</td>\n      <td>5qvmp62WSqZE80tIyKoOv5</td>\n    </tr>\n    <tr>\n      <th>1796</th>\n      <td>A Boy Named Sue</td>\n      <td>Johnny Cash</td>\n      <td>1969</td>\n      <td>5xMNjx7uqCzMpJZSo4Wq55</td>\n    </tr>\n    <tr>\n      <th>1797</th>\n      <td>San Quentin</td>\n      <td>Johnny Cash</td>\n      <td>1969</td>\n      <td>5xMNjx7uqCzMpJZSo4Wq55</td>\n    </tr>\n    <tr>\n      <th>1798</th>\n      <td>San Quentin</td>\n      <td>Johnny Cash</td>\n      <td>1969</td>\n      <td>5xMNjx7uqCzMpJZSo4Wq55</td>\n    </tr>\n    <tr>\n      <th>783</th>\n      <td>Song Of The Marching Children</td>\n      <td>Earth &amp; Fire</td>\n      <td>1971</td>\n      <td>6Jwddt9NSEujC29SAd6kIA</td>\n    </tr>\n    <tr>\n      <th>1116</th>\n      <td>Cecilia</td>\n      <td>Simon &amp; Garfunkel</td>\n      <td>1970</td>\n      <td>6QhXQOpyYvbpdbyjgAqKdY</td>\n    </tr>\n  </tbody>\n</table>\n</div>",
      "text/plain": "                              titel                          artiest  jaar  \\\n212                  House For Sale                          Lucifer  1975   \n1412            The Last Seven Days                      Unit Gloria  1969   \n3207                        Harvest                       Neil Young  1972   \n2516                      To France  Mike Oldfield ft. Maggie Reilly  1984   \n1796                A Boy Named Sue                      Johnny Cash  1969   \n1797                    San Quentin                      Johnny Cash  1969   \n1798                    San Quentin                      Johnny Cash  1969   \n783   Song Of The Marching Children                     Earth & Fire  1971   \n1116                        Cecilia                Simon & Garfunkel  1970   \n\n                          id  \n212   4kXbcScK3ScRFrZVlBytnm  \n1412  5UDbH6e4kfAkKIfaNojXGS  \n3207  5l9c6bJmzvftumhz4TMPgk  \n2516  5qvmp62WSqZE80tIyKoOv5  \n1796  5xMNjx7uqCzMpJZSo4Wq55  \n1797  5xMNjx7uqCzMpJZSo4Wq55  \n1798  5xMNjx7uqCzMpJZSo4Wq55  \n783   6Jwddt9NSEujC29SAd6kIA  \n1116  6QhXQOpyYvbpdbyjgAqKdY  "
     },
     "metadata": {},
     "output_type": "display_data"
    }
   ],
   "source": [
    "# Check for duplicated ids\n",
    "print(sum(top_2000.duplicated(\"id\")))\n",
    "with pd.option_context('display.max_rows', None):\n",
    "    double_songs = top_2000[top_2000.duplicated(\"id\")]\n",
    "    double_songs = double_songs[double_songs[\"id\"].notna()]\n",
    "    print(double_songs.shape[0])\n",
    "    display(double_songs[[\"titel\",\"artiest\",\"jaar\",\"id\"]].sort_values(\"id\"))"
   ]
  },
  {
   "cell_type": "code",
   "execution_count": 60,
   "metadata": {},
   "outputs": [],
   "source": [
    "# top_2000[(top_2000['artiest'].str.match(\"Andr. Hazes\", case = False))&(top_2000['2019'].isna())]"
   ]
  },
  {
   "cell_type": "code",
   "execution_count": 61,
   "metadata": {},
   "outputs": [
    {
     "data": {
      "text/html": "<div>\n<style scoped>\n    .dataframe tbody tr th:only-of-type {\n        vertical-align: middle;\n    }\n\n    .dataframe tbody tr th {\n        vertical-align: top;\n    }\n\n    .dataframe thead th {\n        text-align: right;\n    }\n</style>\n<table border=\"1\" class=\"dataframe\">\n  <thead>\n    <tr style=\"text-align: right;\">\n      <th></th>\n      <th>2019</th>\n      <th>titel</th>\n      <th>artiest</th>\n      <th>jaar</th>\n      <th>id</th>\n    </tr>\n  </thead>\n  <tbody>\n    <tr>\n      <th>81</th>\n      <td>82</td>\n      <td>Bridge Over Troubled Water</td>\n      <td>Simon &amp; Garfunkel</td>\n      <td>1970</td>\n      <td>6QhXQOpyYvbpdbyjgAqKdY</td>\n    </tr>\n    <tr>\n      <th>114</th>\n      <td>115</td>\n      <td>Zeg Me Dat Het Niet Zo Is</td>\n      <td>Frank Boeijen Groep</td>\n      <td>1990</td>\n      <td>62oRWmFGqbolFW0cw6Drd6</td>\n    </tr>\n    <tr>\n      <th>300</th>\n      <td>301</td>\n      <td>What About Us</td>\n      <td>P!nk</td>\n      <td>2017</td>\n      <td>0Qh38w01QRXK6KHIv0e3hb</td>\n    </tr>\n    <tr>\n      <th>506</th>\n      <td>507</td>\n      <td>Birds</td>\n      <td>Anouk</td>\n      <td>2013</td>\n      <td>5FYmx75rnDhzgOT513vvDa</td>\n    </tr>\n    <tr>\n      <th>584</th>\n      <td>585</td>\n      <td>Just Give Me A Reason</td>\n      <td>P!nk ft. Nate Ruess</td>\n      <td>2012</td>\n      <td>2jpaVavfOKVUKYJInYwQdA</td>\n    </tr>\n    <tr>\n      <th>590</th>\n      <td>591</td>\n      <td>Try</td>\n      <td>P!nk</td>\n      <td>2012</td>\n      <td>1jF7IL57ayN4Ity3jQqGu0</td>\n    </tr>\n    <tr>\n      <th>593</th>\n      <td>594</td>\n      <td>I Will Wait</td>\n      <td>Mumford &amp; Sons</td>\n      <td>2012</td>\n      <td>0Wj2iUmo89RyjJ4geu8J1s</td>\n    </tr>\n    <tr>\n      <th>641</th>\n      <td>642</td>\n      <td>De Verzoening</td>\n      <td>Frank Boeijen Groep</td>\n      <td>1987</td>\n      <td>1x9NeDQ4x5rnoO8fznt5TK</td>\n    </tr>\n    <tr>\n      <th>996</th>\n      <td>997</td>\n      <td>Knockin' On Heaven's Door</td>\n      <td>Bob Dylan</td>\n      <td>1973</td>\n      <td>6HSXNV0b4M4cLJ7ljgVVeh</td>\n    </tr>\n    <tr>\n      <th>1159</th>\n      <td>1160</td>\n      <td>Mad World</td>\n      <td>Michael Andrews ft. Gary Jules</td>\n      <td>2003</td>\n      <td>2lFPtcKO3aU3uijfn6vmLT</td>\n    </tr>\n    <tr>\n      <th>1212</th>\n      <td>1213</td>\n      <td>The Thrill Is Gone</td>\n      <td>B.B. King</td>\n      <td>1969</td>\n      <td>3cg0dJfrQB66Qf2YthPb6G</td>\n    </tr>\n    <tr>\n      <th>1254</th>\n      <td>1255</td>\n      <td>Raise Your Glass</td>\n      <td>P!nk</td>\n      <td>2010</td>\n      <td>1gv4xPanImH17bKZ9rOveR</td>\n    </tr>\n    <tr>\n      <th>1408</th>\n      <td>1409</td>\n      <td>Crazy</td>\n      <td>Seal</td>\n      <td>1991</td>\n      <td>6Vz7vzOpCwKeSQlfViibuY</td>\n    </tr>\n    <tr>\n      <th>1418</th>\n      <td>1419</td>\n      <td>As</td>\n      <td>George Michael &amp; Mary J. Blige</td>\n      <td>1999</td>\n      <td>7r3KzVwHtr2iMZtqJvFn9A</td>\n    </tr>\n    <tr>\n      <th>1421</th>\n      <td>1422</td>\n      <td>Mercy</td>\n      <td>Muse</td>\n      <td>2015</td>\n      <td>2qkmPUG7ARsRwhVICQVwQS</td>\n    </tr>\n    <tr>\n      <th>1560</th>\n      <td>1561</td>\n      <td>California Love</td>\n      <td>2Pac</td>\n      <td>1996</td>\n      <td>3djNBlI7xOggg7pnsOLaNm</td>\n    </tr>\n    <tr>\n      <th>1734</th>\n      <td>1735</td>\n      <td>Hier Komt De Storm</td>\n      <td>Frank Boeijen Groep</td>\n      <td>1988</td>\n      <td>3FYjh4AsaqxwRvFmi3y4OA</td>\n    </tr>\n    <tr>\n      <th>1848</th>\n      <td>1849</td>\n      <td>I Can't Make You Love Me</td>\n      <td>George Michael</td>\n      <td>1997</td>\n      <td>2w4a4ur2uRf530cbzyTlWo</td>\n    </tr>\n    <tr>\n      <th>1877</th>\n      <td>1878</td>\n      <td>No Surrender</td>\n      <td>Bruce Springsteen</td>\n      <td>1984</td>\n      <td>2zMlWt4aYreVczVERFK94w</td>\n    </tr>\n  </tbody>\n</table>\n</div>",
      "text/plain": "      2019                       titel                         artiest  jaar  \\\n81      82  Bridge Over Troubled Water               Simon & Garfunkel  1970   \n114    115   Zeg Me Dat Het Niet Zo Is             Frank Boeijen Groep  1990   \n300    301               What About Us                            P!nk  2017   \n506    507                       Birds                           Anouk  2013   \n584    585       Just Give Me A Reason             P!nk ft. Nate Ruess  2012   \n590    591                         Try                            P!nk  2012   \n593    594                 I Will Wait                  Mumford & Sons  2012   \n641    642               De Verzoening             Frank Boeijen Groep  1987   \n996    997   Knockin' On Heaven's Door                       Bob Dylan  1973   \n1159  1160                   Mad World  Michael Andrews ft. Gary Jules  2003   \n1212  1213          The Thrill Is Gone                       B.B. King  1969   \n1254  1255            Raise Your Glass                            P!nk  2010   \n1408  1409                       Crazy                            Seal  1991   \n1418  1419                          As  George Michael & Mary J. Blige  1999   \n1421  1422                       Mercy                            Muse  2015   \n1560  1561             California Love                            2Pac  1996   \n1734  1735          Hier Komt De Storm             Frank Boeijen Groep  1988   \n1848  1849    I Can't Make You Love Me                  George Michael  1997   \n1877  1878                No Surrender               Bruce Springsteen  1984   \n\n                           id  \n81     6QhXQOpyYvbpdbyjgAqKdY  \n114    62oRWmFGqbolFW0cw6Drd6  \n300    0Qh38w01QRXK6KHIv0e3hb  \n506    5FYmx75rnDhzgOT513vvDa  \n584    2jpaVavfOKVUKYJInYwQdA  \n590    1jF7IL57ayN4Ity3jQqGu0  \n593   0Wj2iUmo89RyjJ4geu8J1s   \n641    1x9NeDQ4x5rnoO8fznt5TK  \n996    6HSXNV0b4M4cLJ7ljgVVeh  \n1159   2lFPtcKO3aU3uijfn6vmLT  \n1212   3cg0dJfrQB66Qf2YthPb6G  \n1254   1gv4xPanImH17bKZ9rOveR  \n1408   6Vz7vzOpCwKeSQlfViibuY  \n1418   7r3KzVwHtr2iMZtqJvFn9A  \n1421   2qkmPUG7ARsRwhVICQVwQS  \n1560   3djNBlI7xOggg7pnsOLaNm  \n1734   3FYjh4AsaqxwRvFmi3y4OA  \n1848   2w4a4ur2uRf530cbzyTlWo  \n1877   2zMlWt4aYreVczVERFK94w  "
     },
     "metadata": {},
     "output_type": "display_data"
    }
   ],
   "source": [
    "# Songs that match title in 2019 of a song that is in the top 2000 in 2018, but missing in 2019 for the combined file\n",
    "display(year_edited[year_edited[\"titel\"].isin(top_2000.loc[(top_2000['2018'].notna())&(top_2000['2019'].isna()),\"titel\"])])"
   ]
  },
  {
   "cell_type": "code",
   "execution_count": null,
   "metadata": {},
   "outputs": [],
   "source": []
  }
 ],
 "metadata": {
  "kernelspec": {
   "display_name": "Python 3",
   "language": "python",
   "name": "python3"
  },
  "language_info": {
   "codemirror_mode": {
    "name": "ipython",
    "version": 3
   },
   "file_extension": ".py",
   "mimetype": "text/x-python",
   "name": "python",
   "nbconvert_exporter": "python",
   "pygments_lexer": "ipython3",
   "version": "3.7.6-final"
  }
 },
 "nbformat": 4,
 "nbformat_minor": 4
}