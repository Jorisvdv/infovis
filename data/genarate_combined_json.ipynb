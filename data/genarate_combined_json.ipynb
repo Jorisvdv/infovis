{
 "cells": [
  {
   "cell_type": "code",
   "execution_count": 48,
   "metadata": {},
   "outputs": [],
   "source": [
    "import pandas as pd\n",
    "import numpy as np\n",
    "import os\n",
    "# import matplotlib.pyplot as plt\n",
    "import re\n",
    "import glob\n",
    "import json\n",
    "import requests\n",
    "import time"
   ]
  },
  {
   "cell_type": "code",
   "execution_count": 6,
   "metadata": {},
   "outputs": [
    {
     "output_type": "stream",
     "name": "stdout",
     "text": "TOP-2000-1999.xlsx TOP-2000-2000.xlsx TOP-2000-2001.xlsx TOP-2000-2002.xlsx TOP-2000-2003.xlsx TOP-2000-2004.xlsx TOP-2000-2005.xlsx TOP-2000-2006.xlsx TOP-2000-2007.xlsx TOP-2000-2008.xlsx TOP-2000-2009.xlsx TOP-2000-2010.xlsx TOP-2000-2011.xlsx TOP-2000-2012.xlsx TOP-2000-2013.xlsx TOP-2000-2014.xlsx TOP-2000-2015.xlsx TOP-2000-2016.xlsx TOP-2000-2017.xlsx TOP-2000-2018.xlsx TOP-2000-2019.xlsx\n"
    }
   ],
   "source": [
    "path = os.getcwd()\n",
    "# find files\n",
    "files = sorted(os.listdir(os.path.join(path,\"excel\")))\n",
    "print(*files)"
   ]
  },
  {
   "cell_type": "code",
   "execution_count": 9,
   "metadata": {},
   "outputs": [
    {
     "output_type": "execute_result",
     "data": {
      "text/plain": "                             titel       artiest  jaar  1999\n0                Bohemian Rhapsody         Queen  1975     1\n1                 Hotel California        Eagles  1977     2\n2                    Child In Time   Deep Purple  1972     3\n3               Stairway To Heaven  Led Zeppelin  1971     4\n4  Paradise By The Dashboard Light     Meat Loaf  1978     5",
      "text/html": "<div>\n<style scoped>\n    .dataframe tbody tr th:only-of-type {\n        vertical-align: middle;\n    }\n\n    .dataframe tbody tr th {\n        vertical-align: top;\n    }\n\n    .dataframe thead th {\n        text-align: right;\n    }\n</style>\n<table border=\"1\" class=\"dataframe\">\n  <thead>\n    <tr style=\"text-align: right;\">\n      <th></th>\n      <th>titel</th>\n      <th>artiest</th>\n      <th>jaar</th>\n      <th>1999</th>\n    </tr>\n  </thead>\n  <tbody>\n    <tr>\n      <th>0</th>\n      <td>Bohemian Rhapsody</td>\n      <td>Queen</td>\n      <td>1975</td>\n      <td>1</td>\n    </tr>\n    <tr>\n      <th>1</th>\n      <td>Hotel California</td>\n      <td>Eagles</td>\n      <td>1977</td>\n      <td>2</td>\n    </tr>\n    <tr>\n      <th>2</th>\n      <td>Child In Time</td>\n      <td>Deep Purple</td>\n      <td>1972</td>\n      <td>3</td>\n    </tr>\n    <tr>\n      <th>3</th>\n      <td>Stairway To Heaven</td>\n      <td>Led Zeppelin</td>\n      <td>1971</td>\n      <td>4</td>\n    </tr>\n    <tr>\n      <th>4</th>\n      <td>Paradise By The Dashboard Light</td>\n      <td>Meat Loaf</td>\n      <td>1978</td>\n      <td>5</td>\n    </tr>\n  </tbody>\n</table>\n</div>"
     },
     "metadata": {},
     "execution_count": 9
    }
   ],
   "source": [
    "top_2000 = pd.read_excel(os.path.join(path,\"excel\",files[0]))\n",
    "\n",
    "# Move ranking to last column\n",
    "top_2000 = top_2000[['titel','artiest','jaar',1999]]\n",
    "\n",
    "top_2000.head()"
   ]
  },
  {
   "cell_type": "code",
   "execution_count": 15,
   "metadata": {},
   "outputs": [
    {
     "output_type": "display_data",
     "data": {
      "text/plain": "                             titel            artiest  jaar  1999  2000  2001  \\\n0                Bohemian Rhapsody              Queen  1975   1.0   1.0   1.0   \n1                 Hotel California             Eagles  1977   2.0   4.0   3.0   \n2                    Child In Time        Deep Purple  1972   3.0   2.0   2.0   \n3               Stairway To Heaven       Led Zeppelin  1971   4.0   3.0   4.0   \n4  Paradise By The Dashboard Light          Meat Loaf  1978   5.0   5.0   5.0   \n5                        Yesterday            Beatles  1965   6.0   8.0  24.0   \n6                          Imagine        John Lennon  1971   7.0   7.0  11.0   \n7                            Angie     Rolling Stones  1973   8.0   9.0  22.0   \n8       Bridge Over Troubled Water  Simon & Garfunkel  1970   9.0  27.0  17.0   \n9           A Whiter Shade Of Pale       Procol Harum  1967  10.0  18.0  23.0   \n\n   2002  2003  2004  2005  ...  2009  2010  2011  2012  2013  2014   2015  \\\n0   1.0   1.0   1.0   2.0  ...   1.0   2.0   1.0   1.0   1.0   2.0    2.0   \n1   3.0   2.0   2.0   3.0  ...   2.0   1.0   2.0   2.0   2.0   1.0    3.0   \n2   2.0   3.0   3.0   4.0  ...   5.0   4.0   3.0   4.0   4.0   4.0    8.0   \n3   4.0   4.0   4.0   5.0  ...   4.0   5.0   5.0   3.0   3.0   3.0    5.0   \n4   5.0   5.0   6.0   6.0  ...  12.0   9.0  11.0  19.0  22.0  17.0   30.0   \n5  30.0  34.0  37.0  46.0  ...  44.0  33.0  50.0  85.0  76.0  89.0   96.0   \n6  11.0  13.0   9.0  15.0  ...  41.0  26.0  28.0  22.0  23.0  38.0    1.0   \n7  12.0  10.0  13.0  18.0  ...  36.0  35.0  41.0  26.0  46.0  54.0   77.0   \n8  32.0  32.0  45.0  42.0  ...  39.0  32.0  33.0  38.0  38.0  48.0   59.0   \n9  20.0  22.0  28.0  22.0  ...  50.0  42.0  65.0  61.0  83.0  98.0  105.0   \n\n    2016   2017   2018  \n0    1.0    1.0    1.0  \n1    2.0    2.0    2.0  \n2    5.0    5.0    6.0  \n3    3.0    3.0    4.0  \n4   27.0   27.0   29.0  \n5   97.0   87.0  122.0  \n6   12.0   16.0   16.0  \n7   78.0   70.0   79.0  \n8   52.0   58.0   61.0  \n9  119.0  117.0  153.0  \n\n[10 rows x 23 columns]",
      "text/html": "<div>\n<style scoped>\n    .dataframe tbody tr th:only-of-type {\n        vertical-align: middle;\n    }\n\n    .dataframe tbody tr th {\n        vertical-align: top;\n    }\n\n    .dataframe thead th {\n        text-align: right;\n    }\n</style>\n<table border=\"1\" class=\"dataframe\">\n  <thead>\n    <tr style=\"text-align: right;\">\n      <th></th>\n      <th>titel</th>\n      <th>artiest</th>\n      <th>jaar</th>\n      <th>1999</th>\n      <th>2000</th>\n      <th>2001</th>\n      <th>2002</th>\n      <th>2003</th>\n      <th>2004</th>\n      <th>2005</th>\n      <th>...</th>\n      <th>2009</th>\n      <th>2010</th>\n      <th>2011</th>\n      <th>2012</th>\n      <th>2013</th>\n      <th>2014</th>\n      <th>2015</th>\n      <th>2016</th>\n      <th>2017</th>\n      <th>2018</th>\n    </tr>\n  </thead>\n  <tbody>\n    <tr>\n      <th>0</th>\n      <td>Bohemian Rhapsody</td>\n      <td>Queen</td>\n      <td>1975</td>\n      <td>1.0</td>\n      <td>1.0</td>\n      <td>1.0</td>\n      <td>1.0</td>\n      <td>1.0</td>\n      <td>1.0</td>\n      <td>2.0</td>\n      <td>...</td>\n      <td>1.0</td>\n      <td>2.0</td>\n      <td>1.0</td>\n      <td>1.0</td>\n      <td>1.0</td>\n      <td>2.0</td>\n      <td>2.0</td>\n      <td>1.0</td>\n      <td>1.0</td>\n      <td>1.0</td>\n    </tr>\n    <tr>\n      <th>1</th>\n      <td>Hotel California</td>\n      <td>Eagles</td>\n      <td>1977</td>\n      <td>2.0</td>\n      <td>4.0</td>\n      <td>3.0</td>\n      <td>3.0</td>\n      <td>2.0</td>\n      <td>2.0</td>\n      <td>3.0</td>\n      <td>...</td>\n      <td>2.0</td>\n      <td>1.0</td>\n      <td>2.0</td>\n      <td>2.0</td>\n      <td>2.0</td>\n      <td>1.0</td>\n      <td>3.0</td>\n      <td>2.0</td>\n      <td>2.0</td>\n      <td>2.0</td>\n    </tr>\n    <tr>\n      <th>2</th>\n      <td>Child In Time</td>\n      <td>Deep Purple</td>\n      <td>1972</td>\n      <td>3.0</td>\n      <td>2.0</td>\n      <td>2.0</td>\n      <td>2.0</td>\n      <td>3.0</td>\n      <td>3.0</td>\n      <td>4.0</td>\n      <td>...</td>\n      <td>5.0</td>\n      <td>4.0</td>\n      <td>3.0</td>\n      <td>4.0</td>\n      <td>4.0</td>\n      <td>4.0</td>\n      <td>8.0</td>\n      <td>5.0</td>\n      <td>5.0</td>\n      <td>6.0</td>\n    </tr>\n    <tr>\n      <th>3</th>\n      <td>Stairway To Heaven</td>\n      <td>Led Zeppelin</td>\n      <td>1971</td>\n      <td>4.0</td>\n      <td>3.0</td>\n      <td>4.0</td>\n      <td>4.0</td>\n      <td>4.0</td>\n      <td>4.0</td>\n      <td>5.0</td>\n      <td>...</td>\n      <td>4.0</td>\n      <td>5.0</td>\n      <td>5.0</td>\n      <td>3.0</td>\n      <td>3.0</td>\n      <td>3.0</td>\n      <td>5.0</td>\n      <td>3.0</td>\n      <td>3.0</td>\n      <td>4.0</td>\n    </tr>\n    <tr>\n      <th>4</th>\n      <td>Paradise By The Dashboard Light</td>\n      <td>Meat Loaf</td>\n      <td>1978</td>\n      <td>5.0</td>\n      <td>5.0</td>\n      <td>5.0</td>\n      <td>5.0</td>\n      <td>5.0</td>\n      <td>6.0</td>\n      <td>6.0</td>\n      <td>...</td>\n      <td>12.0</td>\n      <td>9.0</td>\n      <td>11.0</td>\n      <td>19.0</td>\n      <td>22.0</td>\n      <td>17.0</td>\n      <td>30.0</td>\n      <td>27.0</td>\n      <td>27.0</td>\n      <td>29.0</td>\n    </tr>\n    <tr>\n      <th>5</th>\n      <td>Yesterday</td>\n      <td>Beatles</td>\n      <td>1965</td>\n      <td>6.0</td>\n      <td>8.0</td>\n      <td>24.0</td>\n      <td>30.0</td>\n      <td>34.0</td>\n      <td>37.0</td>\n      <td>46.0</td>\n      <td>...</td>\n      <td>44.0</td>\n      <td>33.0</td>\n      <td>50.0</td>\n      <td>85.0</td>\n      <td>76.0</td>\n      <td>89.0</td>\n      <td>96.0</td>\n      <td>97.0</td>\n      <td>87.0</td>\n      <td>122.0</td>\n    </tr>\n    <tr>\n      <th>6</th>\n      <td>Imagine</td>\n      <td>John Lennon</td>\n      <td>1971</td>\n      <td>7.0</td>\n      <td>7.0</td>\n      <td>11.0</td>\n      <td>11.0</td>\n      <td>13.0</td>\n      <td>9.0</td>\n      <td>15.0</td>\n      <td>...</td>\n      <td>41.0</td>\n      <td>26.0</td>\n      <td>28.0</td>\n      <td>22.0</td>\n      <td>23.0</td>\n      <td>38.0</td>\n      <td>1.0</td>\n      <td>12.0</td>\n      <td>16.0</td>\n      <td>16.0</td>\n    </tr>\n    <tr>\n      <th>7</th>\n      <td>Angie</td>\n      <td>Rolling Stones</td>\n      <td>1973</td>\n      <td>8.0</td>\n      <td>9.0</td>\n      <td>22.0</td>\n      <td>12.0</td>\n      <td>10.0</td>\n      <td>13.0</td>\n      <td>18.0</td>\n      <td>...</td>\n      <td>36.0</td>\n      <td>35.0</td>\n      <td>41.0</td>\n      <td>26.0</td>\n      <td>46.0</td>\n      <td>54.0</td>\n      <td>77.0</td>\n      <td>78.0</td>\n      <td>70.0</td>\n      <td>79.0</td>\n    </tr>\n    <tr>\n      <th>8</th>\n      <td>Bridge Over Troubled Water</td>\n      <td>Simon &amp; Garfunkel</td>\n      <td>1970</td>\n      <td>9.0</td>\n      <td>27.0</td>\n      <td>17.0</td>\n      <td>32.0</td>\n      <td>32.0</td>\n      <td>45.0</td>\n      <td>42.0</td>\n      <td>...</td>\n      <td>39.0</td>\n      <td>32.0</td>\n      <td>33.0</td>\n      <td>38.0</td>\n      <td>38.0</td>\n      <td>48.0</td>\n      <td>59.0</td>\n      <td>52.0</td>\n      <td>58.0</td>\n      <td>61.0</td>\n    </tr>\n    <tr>\n      <th>9</th>\n      <td>A Whiter Shade Of Pale</td>\n      <td>Procol Harum</td>\n      <td>1967</td>\n      <td>10.0</td>\n      <td>18.0</td>\n      <td>23.0</td>\n      <td>20.0</td>\n      <td>22.0</td>\n      <td>28.0</td>\n      <td>22.0</td>\n      <td>...</td>\n      <td>50.0</td>\n      <td>42.0</td>\n      <td>65.0</td>\n      <td>61.0</td>\n      <td>83.0</td>\n      <td>98.0</td>\n      <td>105.0</td>\n      <td>119.0</td>\n      <td>117.0</td>\n      <td>153.0</td>\n    </tr>\n  </tbody>\n</table>\n<p>10 rows × 23 columns</p>\n</div>"
     },
     "metadata": {}
    }
   ],
   "source": [
    "## Save and view data until 2019\n",
    "display(top_2000.head(10))\n",
    "# Save files\n",
    "top_2000.to_json('top_2000_1999-2018.json', orient='records')\n",
    "top_2000.to_csv('top_2000_1999-2018.csv', index = False)\n",
    "top_2000.to_pickle('top_2000_1999-2018.pickle')"
   ]
  },
  {
   "cell_type": "code",
   "execution_count": null,
   "metadata": {},
   "outputs": [],
   "source": [
    "# Create merge column for artist\n",
    "top_2000['artiest_merge'] = top_2000['artiest'].str.replace(pat='The ', repl = '')\n",
    "\n",
    "\n",
    "# Iterate over artists to see if they are in the dict and if not add them\n",
    "for artist in top_2000[top_2000['artiest'].str.match(r'^(The .*)$')\n",
    "                      ][[\"artiest_merge\",\"artiest\"]].itertuples(index=False):\n",
    "    if artist[0] not in replace_artist_names.keys():\n",
    "        replace_artist_names[artist[0]] = artist[1]\n",
    "        \n",
    "        \n",
    "# Set all strings to lower for merge\n",
    "top_2000['titel_merge'] = top_2000['titel'].str.lower()\n",
    "\n",
    "# Titles to lower\n",
    "# Iterate over artists to see if they are in the dict and if not add them\n",
    "for title in top_2000[[\"titel_merge\",\"titel\"]].itertuples(index=False):\n",
    "    if title[0] not in replace_title_names.keys():\n",
    "        replace_title_names[title[0]] = title[1]\n",
    "\n",
    "# Move ranking to last column\n",
    "top_2000 = top_2000[['titel_merge','artiest_merge','jaar',1999]]\n",
    "\n",
    "\n",
    "# print(replace_artist_names)\n",
    "# print(replace_title_names)\n",
    "# top_2000.head()\n",
    "\n",
    "\n",
    "#     2019 has different column names\n",
    "    if file == 'TOP-2000-2019.xlsx':\n",
    "        year.columns = [2019,'titel','artiest','jaar']\n",
    "    \n",
    "    # Create merge column for artist\n",
    "    year['artiest_merge'] = year['artiest'].str.replace(pat='The ', repl = '')\n",
    "    \n",
    "    # For all artist with \"The\" as acticle, create dict with match name and orginal name\n",
    "    # Create boolean to select artists\n",
    "    artist_name_the = year['artiest'].str.match(r'^(The .*)$')\n",
    "    \n",
    "    # Iterate over artists to see if they are in the dict and if not add them\n",
    "    for artist in year[artist_name_the][[\"artiest_merge\",\"artiest\"]].itertuples(index=False):\n",
    "        if artist[0] not in replace_artist_names.keys():\n",
    "            replace_artist_names[artist[0]] = artist[1]\n",
    "            \n",
    "    # Drop artist name before merging\n",
    "    year.drop(columns=['artiest'], inplace = True)\n",
    "    \n",
    "    \n",
    "    \n",
    "    #Set all strings to lower for merge\n",
    "    year['titel_merge'] = year['titel'].str.lower()\n",
    "    \n",
    "    # Titles to lower\n",
    "    # Iterate over artists to see if they are in the dict and if not add them\n",
    "    for title in year[[\"titel_merge\",\"titel\"]].itertuples(index=False):\n",
    "        if title[0] not in replace_title_names.keys():\n",
    "            replace_title_names[title[0]] = title[1]\n",
    "            \n",
    "    # Drop artist name before merging\n",
    "    year.drop(columns=['titel'], inplace = True)\n",
    "        \n",
    "    \n",
    "    top_2000 = pd.merge(top_2000,year, on=['titel_merge','artiest_merge','jaar'], how='outer')\n",
    "\n",
    "top_2000['titel_merge'] = top_2000['titel_merge'].replace(to_replace=replace_title_names)\n",
    "top_2000['artiest_merge'] = top_2000['artiest_merge'].replace(to_replace=replace_artist_names)\n",
    "top_2000 = top_2000.rename(columns={# 'artiest_merge': 'artiest',\"titel_merge\":\"titel\" })"
   ]
  },
  {
   "cell_type": "code",
   "execution_count": 71,
   "metadata": {},
   "outputs": [
    {
     "output_type": "execute_result",
     "data": {
      "text/plain": "   2019               titel       artiest  jaar\n0     1   Bohemian Rhapsody         Queen  1975\n1     2    Hotel California        Eagles  1977\n2     3           Piano Man    Billy Joel  1974\n3     4      Roller Coaster    Danny Vera  2019\n4     5  Stairway To Heaven  Led Zeppelin  1971",
      "text/html": "<div>\n<style scoped>\n    .dataframe tbody tr th:only-of-type {\n        vertical-align: middle;\n    }\n\n    .dataframe tbody tr th {\n        vertical-align: top;\n    }\n\n    .dataframe thead th {\n        text-align: right;\n    }\n</style>\n<table border=\"1\" class=\"dataframe\">\n  <thead>\n    <tr style=\"text-align: right;\">\n      <th></th>\n      <th>2019</th>\n      <th>titel</th>\n      <th>artiest</th>\n      <th>jaar</th>\n    </tr>\n  </thead>\n  <tbody>\n    <tr>\n      <th>0</th>\n      <td>1</td>\n      <td>Bohemian Rhapsody</td>\n      <td>Queen</td>\n      <td>1975</td>\n    </tr>\n    <tr>\n      <th>1</th>\n      <td>2</td>\n      <td>Hotel California</td>\n      <td>Eagles</td>\n      <td>1977</td>\n    </tr>\n    <tr>\n      <th>2</th>\n      <td>3</td>\n      <td>Piano Man</td>\n      <td>Billy Joel</td>\n      <td>1974</td>\n    </tr>\n    <tr>\n      <th>3</th>\n      <td>4</td>\n      <td>Roller Coaster</td>\n      <td>Danny Vera</td>\n      <td>2019</td>\n    </tr>\n    <tr>\n      <th>4</th>\n      <td>5</td>\n      <td>Stairway To Heaven</td>\n      <td>Led Zeppelin</td>\n      <td>1971</td>\n    </tr>\n  </tbody>\n</table>\n</div>"
     },
     "metadata": {},
     "execution_count": 71
    }
   ],
   "source": [
    "year = pd.read_excel(os.path.join(path,\"Excel\",files[-1]))\n",
    "year.columns = [2019,'titel','artiest','jaar']\n",
    "year.head()"
   ]
  },
  {
   "cell_type": "code",
   "execution_count": 10,
   "metadata": {},
   "outputs": [
    {
     "output_type": "stream",
     "name": "stdout",
     "text": "Filename: TOP-2000-2000.xlsx\nFilename: TOP-2000-2001.xlsx\nFilename: TOP-2000-2002.xlsx\nFilename: TOP-2000-2003.xlsx\nFilename: TOP-2000-2004.xlsx\nFilename: TOP-2000-2005.xlsx\nFilename: TOP-2000-2006.xlsx\nFilename: TOP-2000-2007.xlsx\nFilename: TOP-2000-2008.xlsx\nFilename: TOP-2000-2009.xlsx\nFilename: TOP-2000-2010.xlsx\nFilename: TOP-2000-2011.xlsx\nFilename: TOP-2000-2012.xlsx\nFilename: TOP-2000-2013.xlsx\nFilename: TOP-2000-2014.xlsx\nFilename: TOP-2000-2015.xlsx\nFilename: TOP-2000-2016.xlsx\nFilename: TOP-2000-2017.xlsx\nFilename: TOP-2000-2018.xlsx\n"
    }
   ],
   "source": [
    "for file in files[1:-1]:\n",
    "    print(f\"Filename: {file}\")\n",
    "    year = pd.read_excel(os.path.join(path,\"Excel\",file))\n",
    "\n",
    "    top_2000 = pd.merge(top_2000,year, on=['titel','artiest','jaar'], how='outer')\n",
    "    \n",
    ""
   ]
  },
  {
   "cell_type": "code",
   "execution_count": 90,
   "metadata": {},
   "outputs": [
    {
     "output_type": "display_data",
     "data": {
      "text/plain": "                                 titel       artiest  jaar  \\\n0                    Bohemian Rhapsody         Queen  1975   \n1                     Hotel California        Eagles  1977   \n2                        Child In Time   Deep Purple  1972   \n3                   Stairway To Heaven  Led Zeppelin  1971   \n4      Paradise By The Dashboard Light     Meat Loaf  1978   \n..                                 ...           ...   ...   \n95  With A Little Help From My Friends    Joe Cocker  1968   \n96                I Want To Break Free         Queen  1984   \n97          Total Eclipse Of The Heart  Bonnie Tyler  1983   \n98                              Nikita    Elton John  1985   \n99                             Roxanne        Police  1979   \n\n                        id  1999  2000  2001  2002  2003  2004  ...  2010  \\\n0   7tFiyTwD0nx5a1eklYtX2J     1     1     1     1     1     1  ...     2   \n1   40riOy7x9W7GXjyGp4pjAv     2     4     3     3     2     2  ...     1   \n2   5TrfusgKC1BYic5LaWCoKm     3     2     2     2     3     3  ...     4   \n3   5CQ30WqJwcep0pYcV4AMNc     4     3     4     4     4     4  ...     5   \n4   2g7gviEeJr6pyxO7G35EWQ     5     5     5     5     5     6  ...     9   \n..                     ...   ...   ...   ...   ...   ...   ...  ...   ...   \n95  0YZ3J8xzGwLOg4yEgST1YK    84   287   148   169   238   159  ...   225   \n96  7h2yhVxcZOGyQdOwD4Hu8J    85   123   177   108   121   108  ...   195   \n97  5prTs2HAw2G4idHZyeFp8o    86   133   142   124   215   208  ...   478   \n98  3G0ENKW9vzV0SuYKaWFflI    87   143   181   368   396   289  ...   506   \n99  3EYOJ48Et32uATr9ZmLnAo    88   186   217   221   309   232  ...   207   \n\n    2011  2012  2013  2014  2015  2016  2017  2018  2019  \n0      1     1     1     2     2     1     1     1     1  \n1      2     2     2     1     3     2     2     2     2  \n2      3     4     4     4     8     5     5     6    12  \n3      5     3     3     3     5     3     3     4     5  \n4     11    19    22    17    30    27    27    29    35  \n..   ...   ...   ...   ...   ...   ...   ...   ...   ...  \n95   201   338   311   364   220   299   286   348   297  \n96   126   231   235   219   219   224   265   118   145  \n97   503   629   579   645   664   647   619   480   481  \n98   737  1046   917   837   973   996   786   860   776  \n99   210   219   201   287   299   233   228   187   239  \n\n[100 rows x 25 columns]",
      "text/html": "<div>\n<style scoped>\n    .dataframe tbody tr th:only-of-type {\n        vertical-align: middle;\n    }\n\n    .dataframe tbody tr th {\n        vertical-align: top;\n    }\n\n    .dataframe thead th {\n        text-align: right;\n    }\n</style>\n<table border=\"1\" class=\"dataframe\">\n  <thead>\n    <tr style=\"text-align: right;\">\n      <th></th>\n      <th>titel</th>\n      <th>artiest</th>\n      <th>jaar</th>\n      <th>id</th>\n      <th>1999</th>\n      <th>2000</th>\n      <th>2001</th>\n      <th>2002</th>\n      <th>2003</th>\n      <th>2004</th>\n      <th>...</th>\n      <th>2010</th>\n      <th>2011</th>\n      <th>2012</th>\n      <th>2013</th>\n      <th>2014</th>\n      <th>2015</th>\n      <th>2016</th>\n      <th>2017</th>\n      <th>2018</th>\n      <th>2019</th>\n    </tr>\n  </thead>\n  <tbody>\n    <tr>\n      <th>0</th>\n      <td>Bohemian Rhapsody</td>\n      <td>Queen</td>\n      <td>1975</td>\n      <td>7tFiyTwD0nx5a1eklYtX2J</td>\n      <td>1</td>\n      <td>1</td>\n      <td>1</td>\n      <td>1</td>\n      <td>1</td>\n      <td>1</td>\n      <td>...</td>\n      <td>2</td>\n      <td>1</td>\n      <td>1</td>\n      <td>1</td>\n      <td>2</td>\n      <td>2</td>\n      <td>1</td>\n      <td>1</td>\n      <td>1</td>\n      <td>1</td>\n    </tr>\n    <tr>\n      <th>1</th>\n      <td>Hotel California</td>\n      <td>Eagles</td>\n      <td>1977</td>\n      <td>40riOy7x9W7GXjyGp4pjAv</td>\n      <td>2</td>\n      <td>4</td>\n      <td>3</td>\n      <td>3</td>\n      <td>2</td>\n      <td>2</td>\n      <td>...</td>\n      <td>1</td>\n      <td>2</td>\n      <td>2</td>\n      <td>2</td>\n      <td>1</td>\n      <td>3</td>\n      <td>2</td>\n      <td>2</td>\n      <td>2</td>\n      <td>2</td>\n    </tr>\n    <tr>\n      <th>2</th>\n      <td>Child In Time</td>\n      <td>Deep Purple</td>\n      <td>1972</td>\n      <td>5TrfusgKC1BYic5LaWCoKm</td>\n      <td>3</td>\n      <td>2</td>\n      <td>2</td>\n      <td>2</td>\n      <td>3</td>\n      <td>3</td>\n      <td>...</td>\n      <td>4</td>\n      <td>3</td>\n      <td>4</td>\n      <td>4</td>\n      <td>4</td>\n      <td>8</td>\n      <td>5</td>\n      <td>5</td>\n      <td>6</td>\n      <td>12</td>\n    </tr>\n    <tr>\n      <th>3</th>\n      <td>Stairway To Heaven</td>\n      <td>Led Zeppelin</td>\n      <td>1971</td>\n      <td>5CQ30WqJwcep0pYcV4AMNc</td>\n      <td>4</td>\n      <td>3</td>\n      <td>4</td>\n      <td>4</td>\n      <td>4</td>\n      <td>4</td>\n      <td>...</td>\n      <td>5</td>\n      <td>5</td>\n      <td>3</td>\n      <td>3</td>\n      <td>3</td>\n      <td>5</td>\n      <td>3</td>\n      <td>3</td>\n      <td>4</td>\n      <td>5</td>\n    </tr>\n    <tr>\n      <th>4</th>\n      <td>Paradise By The Dashboard Light</td>\n      <td>Meat Loaf</td>\n      <td>1978</td>\n      <td>2g7gviEeJr6pyxO7G35EWQ</td>\n      <td>5</td>\n      <td>5</td>\n      <td>5</td>\n      <td>5</td>\n      <td>5</td>\n      <td>6</td>\n      <td>...</td>\n      <td>9</td>\n      <td>11</td>\n      <td>19</td>\n      <td>22</td>\n      <td>17</td>\n      <td>30</td>\n      <td>27</td>\n      <td>27</td>\n      <td>29</td>\n      <td>35</td>\n    </tr>\n    <tr>\n      <th>...</th>\n      <td>...</td>\n      <td>...</td>\n      <td>...</td>\n      <td>...</td>\n      <td>...</td>\n      <td>...</td>\n      <td>...</td>\n      <td>...</td>\n      <td>...</td>\n      <td>...</td>\n      <td>...</td>\n      <td>...</td>\n      <td>...</td>\n      <td>...</td>\n      <td>...</td>\n      <td>...</td>\n      <td>...</td>\n      <td>...</td>\n      <td>...</td>\n      <td>...</td>\n      <td>...</td>\n    </tr>\n    <tr>\n      <th>95</th>\n      <td>With A Little Help From My Friends</td>\n      <td>Joe Cocker</td>\n      <td>1968</td>\n      <td>0YZ3J8xzGwLOg4yEgST1YK</td>\n      <td>84</td>\n      <td>287</td>\n      <td>148</td>\n      <td>169</td>\n      <td>238</td>\n      <td>159</td>\n      <td>...</td>\n      <td>225</td>\n      <td>201</td>\n      <td>338</td>\n      <td>311</td>\n      <td>364</td>\n      <td>220</td>\n      <td>299</td>\n      <td>286</td>\n      <td>348</td>\n      <td>297</td>\n    </tr>\n    <tr>\n      <th>96</th>\n      <td>I Want To Break Free</td>\n      <td>Queen</td>\n      <td>1984</td>\n      <td>7h2yhVxcZOGyQdOwD4Hu8J</td>\n      <td>85</td>\n      <td>123</td>\n      <td>177</td>\n      <td>108</td>\n      <td>121</td>\n      <td>108</td>\n      <td>...</td>\n      <td>195</td>\n      <td>126</td>\n      <td>231</td>\n      <td>235</td>\n      <td>219</td>\n      <td>219</td>\n      <td>224</td>\n      <td>265</td>\n      <td>118</td>\n      <td>145</td>\n    </tr>\n    <tr>\n      <th>97</th>\n      <td>Total Eclipse Of The Heart</td>\n      <td>Bonnie Tyler</td>\n      <td>1983</td>\n      <td>5prTs2HAw2G4idHZyeFp8o</td>\n      <td>86</td>\n      <td>133</td>\n      <td>142</td>\n      <td>124</td>\n      <td>215</td>\n      <td>208</td>\n      <td>...</td>\n      <td>478</td>\n      <td>503</td>\n      <td>629</td>\n      <td>579</td>\n      <td>645</td>\n      <td>664</td>\n      <td>647</td>\n      <td>619</td>\n      <td>480</td>\n      <td>481</td>\n    </tr>\n    <tr>\n      <th>98</th>\n      <td>Nikita</td>\n      <td>Elton John</td>\n      <td>1985</td>\n      <td>3G0ENKW9vzV0SuYKaWFflI</td>\n      <td>87</td>\n      <td>143</td>\n      <td>181</td>\n      <td>368</td>\n      <td>396</td>\n      <td>289</td>\n      <td>...</td>\n      <td>506</td>\n      <td>737</td>\n      <td>1046</td>\n      <td>917</td>\n      <td>837</td>\n      <td>973</td>\n      <td>996</td>\n      <td>786</td>\n      <td>860</td>\n      <td>776</td>\n    </tr>\n    <tr>\n      <th>99</th>\n      <td>Roxanne</td>\n      <td>Police</td>\n      <td>1979</td>\n      <td>3EYOJ48Et32uATr9ZmLnAo</td>\n      <td>88</td>\n      <td>186</td>\n      <td>217</td>\n      <td>221</td>\n      <td>309</td>\n      <td>232</td>\n      <td>...</td>\n      <td>207</td>\n      <td>210</td>\n      <td>219</td>\n      <td>201</td>\n      <td>287</td>\n      <td>299</td>\n      <td>233</td>\n      <td>228</td>\n      <td>187</td>\n      <td>239</td>\n    </tr>\n  </tbody>\n</table>\n<p>100 rows × 25 columns</p>\n</div>"
     },
     "metadata": {}
    },
    {
     "output_type": "stream",
     "name": "stdout",
     "text": "titel      object\nartiest    object\njaar        Int64\nid         object\n1999        Int64\n2000        Int64\n2001        Int64\n2002        Int64\n2003        Int64\n2004        Int64\n2005        Int64\n2006        Int64\n2007        Int64\n2008        Int64\n2009        Int64\n2010        Int64\n2011        Int64\n2012        Int64\n2013        Int64\n2014        Int64\n2015        Int64\n2016        Int64\n2017        Int64\n2018        Int64\n2019        Int64\ndtype: object\n"
    }
   ],
   "source": [
    "# NaNs are floats in pandas, therefore all years are of type float\n",
    "# This can be handled by an experimental functionality in pandas 1.0.1\n",
    "top_2000.iloc[:,4:] = top_2000.iloc[:,4:].astype(\"Int64\", copy=False)\n",
    "top_2000['jaar'] = top_2000['jaar'].astype(\"Int64\", copy=False)\n",
    "# Check if list is now int\n",
    "display(top_2000.head(100))\n",
    "print(top_2000.dtypes)"
   ]
  },
  {
   "cell_type": "code",
   "execution_count": 16,
   "metadata": {},
   "outputs": [],
   "source": [
    "import spotipy\n",
    "from spotipy.oauth2 import SpotifyClientCredentials #To access authorised Spotify data"
   ]
  },
  {
   "cell_type": "code",
   "execution_count": 17,
   "metadata": {},
   "outputs": [],
   "source": [
    "# Load credentials\n",
    "with open(\"login_token.json\") as id_file:\n",
    "    ids = json.load(id_file)\n",
    "\n",
    "# create client id yourself -> https://developer.spotify.com/dashboard/applications\n",
    "\n",
    "client_credentials_manager = SpotifyClientCredentials(client_id=ids[\"client_id\"], client_secret=ids[\"client_secret\"])\n",
    "\n",
    "sp = spotipy.Spotify(client_credentials_manager=client_credentials_manager) #spotify object to access API"
   ]
  },
  {
   "cell_type": "code",
   "execution_count": 41,
   "metadata": {},
   "outputs": [
    {
     "output_type": "stream",
     "name": "stdout",
     "text": "Result Found, ID: 3MDWmhr20E7k9O3mAmwhrW\n"
    }
   ],
   "source": [
    "#test\n",
    "#search query\n",
    "title = \"Bohemian Rhapsody\"\n",
    "artist = \"Queen\"\n",
    "year = 1975\n",
    "query = r'{} {} {}'.format(title, artist, year)\n",
    "# query = r'track:{} artist:{} year:{}'.format(title, artist, year)\n",
    "result = sp.search(query, limit = 1)\n",
    "if len(result['tracks']['items'])>0:\n",
    "    print(f\"Result Found, ID: {result['tracks']['items'][0]['id']}\")\n",
    "else:\n",
    "    print(f\"No result found, output: \\n {result}\")"
   ]
  },
  {
   "cell_type": "code",
   "execution_count": 68,
   "metadata": {},
   "outputs": [],
   "source": [
    "def searchid(df_row, verbose = False):\n",
    "    # time for rate limiting\n",
    "    start = time.time()\n",
    "    print(df_row.name)\n",
    "    # Create search query\n",
    "    query = r'{} {}'.format(df_row.titel, df_row.artiest)\n",
    "    # Search spotify\n",
    "    result = sp.search(query, limit = 1)\n",
    "    # Sleep for rate limiting\n",
    "    time.sleep(max(1./15 - (time.time() - start), 0))\n",
    "\n",
    "    # Return id\n",
    "    if len(result['tracks']['items'])>0:\n",
    "        id = result['tracks']['items'][0]['id']\n",
    "        if verbose:\n",
    "            print(f\"{df_row.name}: Result Found, ID: {id}\")\n",
    "        return id\n",
    "    # Return None if no id found\n",
    "    else:\n",
    "        if verbose:\n",
    "            print(f\"{df_row.name}:No result found, output: \\n {result}\")\n",
    "        return None"
   ]
  },
  {
   "cell_type": "code",
   "execution_count": 69,
   "metadata": {},
   "outputs": [
    {
     "output_type": "stream",
     "name": "stdout",
     "text": "ggity+Blackstreet+ft.+Dr+Dre&type=track&offset=0&limit=1', 'items': [], 'limit': 1, 'next': None, 'offset': 0, 'previous': None, 'total': 0}}\n4083\n4083: Result Found, ID: 2l8w0zZVn4AZNuzrht7MRT\n4084\n4084: Result Found, ID: 31yS5nIntRpiW8xo5rTZxX\n4085\n4085: Result Found, ID: 6vECYJHxYmm3Ydt3fF01pE\n4086\n4086: Result Found, ID: 1uXbwHHfgsXcUKfSZw5ZJ0\n4087\n4087: Result Found, ID: 70YvYr2hGlS01bKRIho1HM\n4088\n4088: Result Found, ID: 7GRSx3vR6ByI7Dthvx5FTE\n4089\n4089: Result Found, ID: 733ncRLzZQT5UtSPg1QmPc\n4090\n4090: Result Found, ID: 29EkMZmUNz1WsuzaMtVo1i\n4091\n4091: Result Found, ID: 2TVxnKdb3tqe1nhQWwwZCO\n4092\n4092: Result Found, ID: 0yEhNqCwEfy8LHUmnZoHpP\n4093\n4093: Result Found, ID: 0pQskrTITgmCMyr85tb9qq\n4094\n4094: Result Found, ID: 2lF8jQFhIjpmQa501sYXxR\n4095\n4095: Result Found, ID: 1WkMMavIMc4JZ8cfMmxHkI\n4096\n4096: Result Found, ID: 07uuo1yEND3oinbFZnYOvx\n4097\n4097: Result Found, ID: 7hxZF4jETnE5Q75rKQnMjE\n4098\n4098:No result found, output: \n {'tracks': {'href': 'https://api.spotify.com/v1/search?query=Treur+Niet+Diggy+Dex+ft.+JW+Roy&type=track&offset=0&limit=1', 'items': [], 'limit': 1, 'next': None, 'offset': 0, 'previous': None, 'total': 0}}\n4099\n4099: Result Found, ID: 0G21yYKMZoHa30cYVi1iA8\n4100\n4100:No result found, output: \n {'tracks': {'href': 'https://api.spotify.com/v1/search?query=Heading+Up+High+Armin+van+Buuren+ft.+Kensington&type=track&offset=0&limit=1', 'items': [], 'limit': 1, 'next': None, 'offset': 0, 'previous': None, 'total': 0}}\n4101\n4101: Result Found, ID: 2SiXAy7TuUkycRVbbWDEpo\n4102\n4102: Result Found, ID: 7CzhIfOec1ehR2XQdYkg1l\n4103\n4103: Result Found, ID: 1Cj2vqUwlJVG27gJrun92y\n4104\n4104: Result Found, ID: 3RiPr603aXAoi4GHyXx0uy\n4105\n4105: Result Found, ID: 0Puj4YlTm6xNzDDADXHMI9\n4106\n4106: Result Found, ID: 2fDHuS1PTkHBbCWWZF1ph9\n4107\n4107: Result Found, ID: 269x1zpPRCH8jdEwxHwhgs\n4108\n4108: Result Found, ID: 4mWahKerLaVddUjb8d1Q4Q\n4109\n4109: Result Found, ID: 6nTiIhLmQ3FWhvrGafw2zj\n4110\n4110: Result Found, ID: 1qV6e4ITnfGmA6m6Vklvbi\n4111\n4111: Result Found, ID: 1TKTiKp3zbNgrBH2IwSwIx\n4112\n4112: Result Found, ID: 0W7AbEauB7cP4pidLclApe\n4113\n4113: Result Found, ID: 0d28khcov6AiegSCpG5TuT\n4114\n4114: Result Found, ID: 3Vn9oCZbdI1EMO7jxdz2Rc\n4115\n4115: Result Found, ID: 407ltk0BtcZI8kgu0HH4Yj\n4116\n4116: Result Found, ID: 0c4IEciLCDdXEhhKxj4ThA\n4117\n4117: Result Found, ID: 77K5TB5KZmDZCoJCdd1NvE\n4118\n4118: Result Found, ID: 5qfZRNjt2TkHEL12r3sDEU\n4119\n4119: Result Found, ID: 0It6VJoMAare1zdV2wxqZq\n4120\n4120: Result Found, ID: 5kqIPrATaCc2LqxVWzQGbk\n4121\n4121: Result Found, ID: 64yrDBpcdwEdNY9loyEGbX\n4122\n4122: Result Found, ID: 4ReyTz0y3TGkX48wO3Llot\n4123\n4123: Result Found, ID: 2takcwOaAZWiXQijPHIx7B\n4124\n4124: Result Found, ID: 5FZxsHWIvUsmSK1IAvm2pp\n4125\n4125: Result Found, ID: 1SDiiE3v2z89VxC3aVRKHQ\n4126\n4126: Result Found, ID: 7IoLw1bECmOSWcm2u9SmRH\n4127\n4127: Result Found, ID: 5xYCSEP2FWHMkVun6GIyDk\n4128\n4128: Result Found, ID: 1TWfkGrhF7ob0nwB2M6knb\n4129\n4129: Result Found, ID: 7Gpr3kKk4BMgItz6UbI73q\n4130\n4130: Result Found, ID: 4r6bMqodL3zsAMQ44ojyjB\n4131\n4131: Result Found, ID: 3ZOEytgrvLwQaqXreDs2Jx\n4132\n4132: Result Found, ID: 5W3cjX2J3tjhG8zb6u0qHn\n4133\n4133: Result Found, ID: 2OErSh4oVVAUll0vHxdr6p\n4134\n4134: Result Found, ID: 1xShPgQbOUa98avWJQFDBY\n4135\n4135: Result Found, ID: 4KcH1ZRV2W1q7Flq0QqC76\n4136\n4136: Result Found, ID: 6hu1f1cXSw7OAqhpSQ2zDy\n4137\n4137: Result Found, ID: 2oaK4JLVnmRGIO9ytBE1bt\n4138\n4138: Result Found, ID: 5AQpbyFoQmkOVwmlhKN4ii\n4139\n4139: Result Found, ID: 6HfFLqjxyFJYx1V0olSKof\n4140\n4140: Result Found, ID: 7w6PJe5KBPyvuRYxFkPssC\n4141\n4141: Result Found, ID: 1TqmZVIyeD4aN4Wa0wbnfy\n4142\n4142: Result Found, ID: 4wJq75UFYtFYbMO2KBBnlw\n4143\n4143: Result Found, ID: 0rAolAjKH2Yxgsg2WE8VwW\n4144\n4144: Result Found, ID: 42sfAALSZix5b2y5trScFl\n4145\n4145: Result Found, ID: 6wp5tGVNQYpKJPo1s3WUEY\n4146\n4146: Result Found, ID: 0WzfPV1hQIM8KsxGN4yttJ\n4147\n4147: Result Found, ID: 6aqpe7OnVWwRY67ZxIWJDf\n4148\n4148: Result Found, ID: 0ZRrJTPXDToRJ2iLo9oLrW\n4149\n4149: Result Found, ID: 45DElIx0dXqUH4A88yQFdE\n4150\n4150: Result Found, ID: 4ulCDgCtsV9gLw031TiiXf\n4151\n4151: Result Found, ID: 4KfSdst7rW39C0sfhArdrz\n4152\n4152: Result Found, ID: 7e8utCy2JlSB8dRHKi49xM\n4153\n4153: Result Found, ID: 4e9hUiLsN4mx61ARosFi7p\n4154\n4154: Result Found, ID: 4hf0hL4kWyjWztZzVsM39V\n4155\n4155: Result Found, ID: 17YNjZoMHOoS8BM1fcgiBk\n4156\n4156: Result Found, ID: 4QTjgrK1WooiANwT0Vp4fS\n4157\n4157: Result Found, ID: 3L60Vu9qmY6fg2QroRIxgi\n4158\n4158: Result Found, ID: 7wpYSigAhQeZp3cdsMQ3Af\n4159\n4159: Result Found, ID: 0MsrWnxQZxPAcov7c74sSo\n4160\n4160: Result Found, ID: 6yK7QgE4H7dIzHa9EV4FKL\n4161\n4161: Result Found, ID: 7bhI6rnvaVw8qgZPn32qE0\n4162\n4162: Result Found, ID: 5shPZ6RnC6sCm0iSZiv7wU\n4163\n4163: Result Found, ID: 2R3wzFFjNYc1z3PSoO8FNV\n4164\n4164: Result Found, ID: 35qwJUKVy1OIt0wQ3xEXi0\n4165\n4165: Result Found, ID: 6MNktmrlECWNXz3C3Gpk9s\n4166\n4166: Result Found, ID: 0Jv0PJz6LZdCygPsFnML3a\n4167\n4167: Result Found, ID: 3CRDbSIZ4r5MsZ0YwxuEkn\n4168\n4168: Result Found, ID: 5zb7npjQqoJ7Kcpq4yD9qn\n4169\n4169: Result Found, ID: 6X4JeTWCuKEzKOEHXDtyBo\n4170\n4170: Result Found, ID: 3Y7fpFZbHLpAvWJJYGehz0\n4171\n4171: Result Found, ID: 1pjATX7sbd6Y4jMVqIvzHk\n4172\n4172: Result Found, ID: 5xMNjx7uqCzMpJZSo4Wq55\n4173\n4173: Result Found, ID: 1hHuyqVCZCbhYQixEkdQCo\n4174\n4174: Result Found, ID: 5EcfCs4t0DsxQTXtcYasCq\n4175\n4175:No result found, output: \n {'tracks': {'href': 'https://api.spotify.com/v1/search?query=Lean+On+Major+Lazor+%26+DJ+Snake+Feat+Mo&type=track&offset=0&limit=1', 'items': [], 'limit': 1, 'next': None, 'offset': 0, 'previous': None, 'total': 0}}\n4176\n4176: Result Found, ID: 67vYdAAM3oGsEImCRfbtsF\n4177\n4177: Result Found, ID: 6i0V12jOa3mr6uu4WYhUBr\n4178\n4178: Result Found, ID: 1jJci4qxiYcOHhQR247rEU\n4179\n4179: Result Found, ID: 2oSpQ7QtIKTNFfA08Cy0ku\n4180\n4180: Result Found, ID: 0wvIGFIgbyz4JNwQhZgTv2\n4181\n4181: Result Found, ID: 1lFC3sMgOcDrVzNh8zXRnl\n4182\n4182: Result Found, ID: 0cKk8BKEi7zXbdrYdyqBP5\n4183\n4183: Result Found, ID: 5JCKZcLwTEHKSFiDSojxw7\n4184\n4184: Result Found, ID: 6ui6l3ZNvlrGQZArwo8195\n4185\n4185: Result Found, ID: 6tsojOQ5wHaIjKqIryLZK6\n4186\n4186: Result Found, ID: 2LWMF10STZqYY9a3YqBiOG\n4187\n4187: Result Found, ID: 0BA1jMbponPMbankjJ1hrH\n4188\n4188: Result Found, ID: 4PRGxHpCpF2yoOHYKQIEwD\n4189\n4189: Result Found, ID: 1YLJVmuzeM2YSUkCCaTNUB\n4190\n4190:No result found, output: \n {'tracks': {'href': 'https://api.spotify.com/v1/search?query=We+Don%27t+Make+The+Wind+Blow+Common+Linnets&type=track&offset=0&limit=1', 'items': [], 'limit': 1, 'next': None, 'offset': 0, 'previous': None, 'total': 0}}\n4191\n4191: Result Found, ID: 3utq2FgD1pkmIoaWfjXWAU\n4192\n4192: Result Found, ID: 5qxChyzKLEyoPJ5qGrdurN\n4193\n4193: Result Found, ID: 0KKkJNfGyhkQ5aFogxQAPU\n4194\n4194: Result Found, ID: 6GN5ffm4kmDsHLefCLUDIZ\n4195\n4195: Result Found, ID: 2BOqDYLOJBiMOXShCV1neZ\n4196\n4196: Result Found, ID: 3pRaLNL3b8x5uBOcsgvdqM\n4197\n4197: Result Found, ID: 7ynwkFhXbrQqnMIWqFfRUS\n4198\n4198: Result Found, ID: 5cYOMozm1dLnfov8DaLsWF\n4199\n4199: Result Found, ID: 5lN1EH25gdiqT1SFALMAq1\n4200\n4200: Result Found, ID: 60vEugO8qAECUVj1KpiQaP\n4201\n4201: Result Found, ID: 4QbvmYYVLl8LNUsOXstLft\n4202\n4202: Result Found, ID: 1kfGkqNAGpiPGfst4Ln7m6\n4203\n4203: Result Found, ID: 55XOFkEEYgeqxZkQfEt97X\n4204\n4204: Result Found, ID: 37EmPMVwdBaKs7UhJOkHUU\n4205\n4205: Result Found, ID: 3qT4bUD1MaWpGrTwcvguhb\n4206\nretrying ...3secs\n4206: Result Found, ID: 7jT4VWw39yoEMDnL9Dc31n\n4207\n4207: Result Found, ID: 1ysVQ9torsd9eXfV97LPN1\n4208\n4208: Result Found, ID: 7lQ8MOhq6IN2w8EYcFNSUk\n4209\n4209: Result Found, ID: 0AS63m1wHv9n4VVRizK6Hc\n4210\n4210: Result Found, ID: 3lh3iiiJeiBXHSZw6u0kh6\n4211\n4211: Result Found, ID: 2iuZJX9X9P0GKaE93xcPjk\n4212\n4212: Result Found, ID: 0vhOJ8a3M2LWnBNrDXJKDl\n4213\n4213: Result Found, ID: 3Vn9oCZbdI1EMO7jxdz2Rc\n4214\n4214: Result Found, ID: 1oxOiOjsi7plNOZEhoPLPj\n4215\n4215: Result Found, ID: 2SwLswBtbxloI4uMcfkfLf\n4216\n4216: Result Found, ID: 3yfqSUWxFvZELEM4PmlwIR\n4217\n4217: Result Found, ID: 1gzIbdFnGJ226LTl0Cn2SX\n4218\n4218: Result Found, ID: 69ODZ5WxYT8JLSddKBUjKE\n4219\n4219: Result Found, ID: 4tVCq6a7xxewC5icyFduXI\n4220\n4220: Result Found, ID: 1VPUpUwtbpoRVXt0txVU0w\n4221\n4221: Result Found, ID: 5INCM5mKhPHFyGSxc37out\n4222\n4222: Result Found, ID: 5Rizj5FLb2AyNKu9esjYY6\n4223\n4223: Result Found, ID: 09v3dFgd3YwrD0U5gkNaTg\n4224\n4224: Result Found, ID: 5blcqgpsuKhm0WQwMsmywj\n4225\n4225: Result Found, ID: 6eRFoNc1KDjl7kltu5vSEl\n4226\n4226: Result Found, ID: 7BMO7O7ImjV8HNTH74Tshv\n4227\n4227: Result Found, ID: 7oXRMDUzBPekkLRTJhSGvC\n4228\n4228: Result Found, ID: 7kXmJwrZGIhDaLT9sNo3ut\n4229\n4229: Result Found, ID: 3qaSqrrevBrb84xl5JlptU\n4230\n4230: Result Found, ID: 6GtX0jaNL8IjVQfrDBx81z\n4231\n4231: Result Found, ID: 6Hr4vhhv2yYqvK96xKY9eI\n4232\n4232: Result Found, ID: 20NEld0MhrR4Zpgrf9brq8\n4233\n4233: Result Found, ID: 6gCeQ6xJs2tYdLRzCPxeTZ\n4234\n4234: Result Found, ID: 3Ro71R8Vpy166E2PuQDSc8\n4235\n4235: Result Found, ID: 3YHPxuqHwfYUhoTWoNDwZt\n4236\n4236: Result Found, ID: 0y5CnV2idm2KkQEudDjfDT\n4237\n4237: Result Found, ID: 5VwSwu1zeiMGAjwe9nUmzZ\n4238\n4238: Result Found, ID: 3EkJ5b2JvpGb4khbSbEp0L\n4239\n4239: Result Found, ID: 5vrMM7hAZPQx9955euW6Jb\n4240\n4240: Result Found, ID: 22wGmrE8HQZHvHC44n7Htm\n4241\n4241: Result Found, ID: 3cfOd4CMv2snFaKAnMdnvK\n4242\n4242: Result Found, ID: 5EclH1u6hKzOV3m1I3LAc3\n4243\n4243: Result Found, ID: 1Ic9pKxGSJGM0LKeqf6lGe\n4244\n4244: Result Found, ID: 2aIB1CdRRG7YLBu9hNw9nR\n4245\n4245: Result Found, ID: 4Lz33Oi0UQ6SECXsT80Tx2\n4246\n4246: Result Found, ID: 1y6KBuPwQFqPuXj4iin6kv\n4247\n4247: Result Found, ID: 7gHs73wELdeycvS48JfIos\n4248\n4248: Result Found, ID: 73Au0ax7IN1mCYf5JizEc9\n4249\n4249: Result Found, ID: 0X5C4WjQNubRysTkHOubz3\n4250\n4250: Result Found, ID: 0gWvVB4bGvADocoPMEDy3K\n4251\n4251: Result Found, ID: 5UPnBgnylUCjtAPtAH4tJY\n4252\n4252: Result Found, ID: 4cqiLvFRDuV8ClE61eMmZx\n4253\n4253: Result Found, ID: 0nPiPDJapiB1lPyzc8oNML\n4254\n4254: Result Found, ID: 3fMoeGj4mDusrmYOOF60aC\n4255\n4255: Result Found, ID: 22VdIZQfgXJea34mQxlt81\n4256\n4256:No result found, output: \n {'tracks': {'href': 'https://api.spotify.com/v1/search?query=I+Love+You+Like+I+Love+Myself+Herman+Brood+%26+His+Wild+Romance&type=track&offset=0&limit=1', 'items': [], 'limit': 1, 'next': None, 'offset': 0, 'previous': None, 'total': 0}}\n4257\n4257: Result Found, ID: 02BsTeJE4q5gWOTt58ur5U\n4258\n4258: Result Found, ID: 0u35Dpz37TY2M2j20RUdMf\n4259\n4259: Result Found, ID: 7qiZfU4dY1lWllzX7mPBI3\n4260\n4260: Result Found, ID: 0tgVpDi06FyKpA1z0VMD4v\n4261\n4261: Result Found, ID: 6PCUP3dWmTjcTtXY02oFdT\n4262\n4262: Result Found, ID: 0dDebMd3esKmWpH8FYENbM\n4263\n4263: Result Found, ID: 3EgzTIZI6UlLMGrmRGiJ2C\n4264\n4264: Result Found, ID: 7KsZHCfOitA5V9oQYVdltG\n4265\n4265: Result Found, ID: 3ZpWy5rBZv2aLQAldnmTsP\n4266\n4266: Result Found, ID: 3Yj9lNYD0su1mbTtA1ktat\n4267\n4267: Result Found, ID: 1dNIEtp7AY3oDAKCGg2XkH\n4268\n4268: Result Found, ID: 7KX65PC1UZuImsUInThbav\n4269\n4269: Result Found, ID: 77Y57qRJBvkGCUw9qs0qMg\n4270\n4270:No result found, output: \n {'tracks': {'href': 'https://api.spotify.com/v1/search?query=Zoutelande+Bl%C3%B8f+ft.+Geike&type=track&offset=0&limit=1', 'items': [], 'limit': 1, 'next': None, 'offset': 0, 'previous': None, 'total': 0}}\n4271\n4271: Result Found, ID: 5Ohxk2dO5COHF1krpoPigN\n4272\n4272: Result Found, ID: 1zB4vmk8tFRmM9UULNzbLB\n4273\n4273: Result Found, ID: 0IGXkVRn0uCsgn4FvIfpgB\n4274\n4274: Result Found, ID: 6rAXHPd18PZ6W8m9EectzH\n4275\n4275: Result Found, ID: 7CgRXXie9XIxVSkpKi40ID\n4276\n4276: Result Found, ID: 4vb4mFvYsr2h6enhjJsq9Y\n4277\n4277: Result Found, ID: 27yPEFHnxg0jpWVn5vVkCm\n4278\n4278: Result Found, ID: 3dmqIB2Qxe2XZobw9gXxJ6\n4279\n4279: Result Found, ID: 0pqnGHJpmpxLKifKRmU6WP\n4280\n4280: Result Found, ID: 3xXBsjrbG1xQIm1xv1cKOt\n4281\n4281: Result Found, ID: 0qvzXomUDJVaUboy2wMfiS\n4282\n4282: Result Found, ID: 6K4t31amVTZDgR3sKmwUJJ\n4283\n4283: Result Found, ID: 17S4XrLvF5jlGvGCJHgF51\n4284\n4284: Result Found, ID: 7nZOHks3CYi2hAfRoVrolM\n4285\n4285: Result Found, ID: 7xHWNBFm6ObGEQPaUxHuKO\n4286\n4286: Result Found, ID: 31L9yLXSj6LpCFupyMV6CR\n4287\n4287: Result Found, ID: 5MT5WpotzuXRKULJmHMWUH\n4288\n4288: Result Found, ID: 62wia1vn7E7YGewyOhHCVS\n4289\n4289: Result Found, ID: 5Yj4AP0JGQWierBFKdKVyS\n4290\n4290: Result Found, ID: 7wrDrz4jvQIX8LYpIt7nVS\n4291\n4291: Result Found, ID: 1ixphys4A3NEXp6MDScfih\n4292\n4292: Result Found, ID: 6OXGegosr17HpTc80ViLJr\n4293\n4293: Result Found, ID: 2ubBr4quWIhxwxgiLuXcAV\n4294\n4294: Result Found, ID: 4lBkLeU6LNgWzfbWPGm1c9\n4295\n4295: Result Found, ID: 0afhq8XCExXpqazXczTSve\n4296\n4296: Result Found, ID: 3fHTBJVhM5zdrjq10c7Ym4\n4297\n4297: Result Found, ID: 5a1QlYZreXUH1xK94K3NrR\n4298\n4298: Result Found, ID: 7oOEFDLSQscl0uGulnIEmG\n4299\n4299: Result Found, ID: 454I78HEySdcHE8fcVabTb\n4300\n4300: Result Found, ID: 27DEhFC0G2olRFgCTksnfw\n4301\n4301: Result Found, ID: 23L5CiUhw2jV1OIMwthR3S\n4302\n4302: Result Found, ID: 7gSQv1OHpkIoAdUiRLdmI6\n4303\n4303: Result Found, ID: 0Qv7xi6uPSqH2k82tOkGSt\n4304\n4304: Result Found, ID: 5uCax9HTNlzGybIStD3vDh\n4305\n4305: Result Found, ID: 0Cgd3CK6D2hhbwmLRvtscH\n4306\nretrying ...1secs\n4306:No result found, output: \n {'tracks': {'href': 'https://api.spotify.com/v1/search?query=Sunny+Days+Armin+van+Buuren+ft.+Josh+Cumbee&type=track&offset=0&limit=1', 'items': [], 'limit': 1, 'next': None, 'offset': 0, 'previous': None, 'total': 0}}\n4307\n4307: Result Found, ID: 0y1QJc3SJVPKJ1OvFmFqe6\n4308\n4308: Result Found, ID: 6tASfEUyB7lE2r6DLzURji\n4309\n4309: Result Found, ID: 2LIh4uzqq9cXMPzzmcToHl\n4310\n4310: Result Found, ID: 2xL0FZszylpKmf00lb6W13\n4311\n4311: Result Found, ID: 7rea8oiI7zkZI5dbigK06f\n4312\n4312: Result Found, ID: 6QgjcU0zLnzq5OrUoSZ3OK\n4313\n4313: Result Found, ID: 5Cq34CgPs3EhJbYS1YulTH\n4314\n4314: Result Found, ID: 5OnyZ56HLhrWOXdzeETqLk\n4315\n4315: Result Found, ID: 2DjWsDGgL1xNbhnr7f6t5F\n4316\n4316: Result Found, ID: 6Qn5zhYkTa37e91HC1D7lb\n4317\n4317: Result Found, ID: 3evG0BIqEFMMP7lVJh1cSf\n4318\n4318: Result Found, ID: 4MVjhujg0nKKoFVf6s0k8L\n4319\n4319: Result Found, ID: 6oZLgfZMI00Lvb0dNUKhFL\n4320\n4320: Result Found, ID: 6QewNVIDKdSl8Y3ycuHIei\n4321\n4321: Result Found, ID: 30U2ANWm8iFBRiYX3USS5H\n4322\n4322: Result Found, ID: 2rzZ0IGxgrGUAPwrWn80z7\n4323\n4323: Result Found, ID: 551qy5vUgrUfEUc4dCNfht\n4324\n4324: Result Found, ID: 4igIYHF3B5VBxEafHauVo3\n4325\n4325: Result Found, ID: 7F02x6EKYIQV3VcTaTm7oN\n4326\n4326: Result Found, ID: 0AZWoNkYdu31rhQZfBQBM1\n4327\n4327: Result Found, ID: 2BOCrtTh9a85TqQBuisgYN\n4328\n4328: Result Found, ID: 0b7kXnAs7SmdMMcCB1mUQS\n4329\n4329: Result Found, ID: 2T5ihhffxmrgqePASag6E2\n4330\n4330: Result Found, ID: 0aIXPVVZArfwTOrPYSOaa5\n4331\n4331: Result Found, ID: 4Hhv2vrOTy89HFRcjU3QOx\n4332\n4332: Result Found, ID: 71GvlH0VdeClloLIkHrAVu\n4333\n4333: Result Found, ID: 3ZOEytgrvLwQaqXreDs2Jx\n4334\n4334: Result Found, ID: 3ykSdTGmYPFl8pDBXer1zG\n4335\n4335: Result Found, ID: 4LloVtxNZpeh7q7xdi1DQc\n4336\n4336: Result Found, ID: 2FY7b99s15jUprqC0M5NCT\n4337\n4337: Result Found, ID: 15z9QEJOBV6hDdWsdZwDKP\n4338\n4338: Result Found, ID: 0SaopEgTo6O5dJoFXBbulL\n4339\n4339: Result Found, ID: 4MLPCRYNhDIKcRjzS54ceu\n4340\n4340: Result Found, ID: 6eRTxfsfpnddrm6wTtbjY8\n4341\n4341: Result Found, ID: 0yOVwe179MrHeIPU7h6Tkq\n4342\n4342: Result Found, ID: 4Sd5tbNP4q8wS64abqwfkN\n4343\n4343: Result Found, ID: 6hvFXQ9Kmsabx520Xlu5rK\n4344\n4344: Result Found, ID: 570ZDO2Lmh6NQChOU5xPUL\n4345\n4345: Result Found, ID: 5YqwpwmzMGwUIU9h1kcOK8\n4346\n4346:No result found, output: \n {'tracks': {'href': 'https://api.spotify.com/v1/search?query=The+Next+Episode+Dr.+Dre+ft.+Snoop+Dogg&type=track&offset=0&limit=1', 'items': [], 'limit': 1, 'next': None, 'offset': 0, 'previous': None, 'total': 0}}\n4347\n4347: Result Found, ID: 3AymrUApW5JKKaNrHQhcBG\n4348\n4348: Result Found, ID: 4O2N861eOnF9q8EtpH8IJu\n4349\n4349: Result Found, ID: 0rFWuqFgHAfuzE8uSB9TWR\n4350\n4350: Result Found, ID: 4ofwffwvvnbSkrMSCKQDaC\n4351\n4351: Result Found, ID: 6U0cuXRwYLlXR10HuqaFMX\n4352\n4352: Result Found, ID: 1a2iF9XymafjRk56q7oCxo\n4353\n4353: Result Found, ID: 4UK1g9Z1lWedkmIQuSyCe5\n4354\n4354: Result Found, ID: 6W21LNLz9Sw7sUSNWMSHRu\n4355\n4355: Result Found, ID: 7MhDU9xSWM1LPQGPFkAEJC\n4356\n4356: Result Found, ID: 41X5bGfb7NIZ67jxYJDbwD\n4357\n4357: Result Found, ID: 0rVwQNLRsunBC66IMn8s8R\n4358\n4358: Result Found, ID: 1TF8mSG5YHyaS4o3NeBSAo\n4359\n4359: Result Found, ID: 75IN3CtuZwTHTnZvYM4qnJ\n4360\n4360: Result Found, ID: 2MMixb1EoY841Aru3mgtta\n4361\n4361: Result Found, ID: 2Z3TnDaPrpUarsY98FFQY0\n4362\n4362: Result Found, ID: 6BtmXhTJMM9sBTHeYYASGz\n4363\n4363: Result Found, ID: 7rME25EmgXGVPQqKtU4CIK\n4364\n4364: Result Found, ID: 753KutoAy00apPsplMRetG\n4365\n4365: Result Found, ID: 2fDHuS1PTkHBbCWWZF1ph9\n4366\n4366: Result Found, ID: 1rfofaqEpACxVEHIZBJe6W\n4367\n4367: Result Found, ID: 6JRLFiX9NJSoRRKxowlBYr\n4368\n4368: Result Found, ID: 1VN2vWSkSmMKOhxr8lHzSx\n4369\n4369: Result Found, ID: 3ebXMykcMXOcLeJ9xZ17XH\n4370\n4370: Result Found, ID: 30HCB1FoE77IfGRyNv4eFq\n4371\n4371: Result Found, ID: 1ZyQGXH9dZ4AecevHhKUxi\n4372\n4372: Result Found, ID: 24CXuh2WNpgeSYUOvz14jk\n4373\n4373: Result Found, ID: 6f49kbOuQSOsStBpyGvQfA\n4374\n4374: Result Found, ID: 7lqDKfbqbWpDvoPPxz6xTN\n4375\n4375: Result Found, ID: 47gmoUrZV3w20JAnQOZMcO\n4376\n4376: Result Found, ID: 3RTUfvRgq3pYTf7XY0FIcS\n4377\n4377: Result Found, ID: 6FLbiM2QNa9wbeybXLXXGN\n4378\n4378: Result Found, ID: 4JVFY7J6eiTQK9JyHn5O7z\n4379\n4379: Result Found, ID: 55ZMyYbRQRYjcNWceCL5oT\n4380\n4380: Result Found, ID: 2kN05N1AQQplsgFweFAqYb\n4381\n4381: Result Found, ID: 7c1iI6dwdCpHGYT8DGEfab\n4382\n4382: Result Found, ID: 1U2xFfjK1QUuicENnW0iwv\n4383\n4383: Result Found, ID: 0Qh38w01QRXK6KHIv0e3hb\n4384\n4384: Result Found, ID: 4FmCUATNIarCQh72JYdvnm\n4385\n4385: Result Found, ID: 7kaub3iYrvVz5gaPVemsWE\n4386\n4386: Result Found, ID: 14AI8Qt9giIa8uzek1I24O\n4387\n4387: Result Found, ID: 52zfZjVEiMM1EK51ERuaEi\n4388\n4388: Result Found, ID: 3CA1AMV92RmWwxz5dI0qQB\n4389\n4389: Result Found, ID: 2uQ4px5SPONsgcUpulywIQ\n4390\n4390: Result Found, ID: 4irihaxOJ7ZP5pw48zwvsd\n4391\n4391: Result Found, ID: 26d8YSPkK1T9GTLE2ogIDq\n4392\n4392: Result Found, ID: 0zNdw7vzK7nVtMlNkjVRfb\n4393\n4393: Result Found, ID: 3ou9rSNUQnE7XYmJkUUIOc\n4394\n4394: Result Found, ID: 6y2Kaz9QI01XBKJ8mTb7Pf\n4395\n4395: Result Found, ID: 64Ny7djQ6rNJspquof2KoX\n4396\n4396: Result Found, ID: 6mZCiuIXcA12syIS23Dyxa\n4397\n4397: Result Found, ID: 3CkjLJYnnyOtGk4Jx4iYS4\n4398\n4398: Result Found, ID: 3SnGymj6ijE2iuUfWxLo1q\n4399\n4399: Result Found, ID: 7BfW1eoDh27W69nxsmRicb\n4400\n4400: Result Found, ID: 2cWHN0WK52RGAWHgaDamUA\n4401\n4401:No result found, output: \n {'tracks': {'href': 'https://api.spotify.com/v1/search?query=Silence+%28Tiesto+Mix%29+Delerium+ft.+Sarah+McLachlan&type=track&offset=0&limit=1', 'items': [], 'limit': 1, 'next': None, 'offset': 0, 'previous': None, 'total': 0}}\n4402\n4402: Result Found, ID: 3tlXDvaNrrOmdvG0XVUOcv\n4403\n4403: Result Found, ID: 79UGNjoS4DQugVDqYg9NEK\n4404\n4404: Result Found, ID: 12w7q5JN7tf22TzQtQiiBN\n4405\n4405: Result Found, ID: 0YMFcrMtBowDdD5bPz0cgy\n4406\n4406: Result Found, ID: 4RADreHMvMkZwsPgPr9z5c\n4407\n4407: Result Found, ID: 2w4a4ur2uRf530cbzyTlWo\n4408\n4408: Result Found, ID: 0umDVf77ygI5RiVp9OvNDj\n4409\n4409: Result Found, ID: 2WOjLF83vqjit2Zh4B69V3\n4410\n4410: Result Found, ID: 0Q5YtY85lz5n7rQkeMNpoe\n4411\n4411: Result Found, ID: 0IhUdJRoolbYeEMPL59XPm\n4412\n4412: Result Found, ID: 086myS9r57YsLbJpU0TgK9\n4413\n4413: Result Found, ID: 4Tx2D2JAY6ZBm8AwZkNLOi\n4414\n4414: Result Found, ID: 0h15VlXIzD1MwKwNi12ois\n4415\n4415: Result Found, ID: 4zn0kScuV9Oj28d4g9CQQs\n4416\n4416: Result Found, ID: 4BHzQ9C00ceJxfG16AlNWb\n4417\n4417: Result Found, ID: 6bwKztAxzgjIqvhcqFRUpB\n4418\n4418: Result Found, ID: 03d3DCqwvt65Orfdomjs6e\n4419\n4419: Result Found, ID: 2auLFz0Q2Q2Qk21iUadNDM\n4420\n4420: Result Found, ID: 5OoRmdDfAiDztSwrhe7wuE\n4421\n4421: Result Found, ID: 0bdcWao2hXJka1aAAx4fBY\n4422\n4422: Result Found, ID: 3QA6BNJ54CH5G2nS5OtpGq\n4423\n4423: Result Found, ID: 6n9yCXvLhnYMgJIiIcMu7D\n4424\n4424: Result Found, ID: 0aImHluhp8crPRsEUt7XHi\n4425\n4425: Result Found, ID: 2p37Mfy2PWajgOS3i2aaep\n4426\n4426: Result Found, ID: 1e3Q7gE5TRUklXOlZFKIrv\n4427\n4427: Result Found, ID: 451GvHwY99NKV4zdKPRWmv\n4428\n4428: Result Found, ID: 3E6iea9uEmB7gRru4lyP6h\n"
    }
   ],
   "source": [
    "top_2000[\"id\"] = top_2000.apply(searchid, axis = 1, verbose = True)"
   ]
  },
  {
   "cell_type": "markdown",
   "metadata": {},
   "source": [
    "# Testing for errors"
   ],
   "execution_count": null,
   "outputs": []
  },
  {
   "cell_type": "code",
   "execution_count": null,
   "metadata": {},
   "outputs": [],
   "source": [
    "top_2000[(top_2000['artiest'].str.match(\"Andr. Hazes\", case = False))&(top_2000[2019].isna())]"
   ]
  },
  {
   "cell_type": "code",
   "execution_count": 73,
   "metadata": {},
   "outputs": [],
   "source": [
    "# Save files\n",
    "top_2000.to_json('top_2000_1999-2018_ids.json', orient='records')\n",
    "top_2000.to_csv('top_2000_1999-2018_ids.csv', index = False)\n",
    "top_2000.to_pickle('top_2000_1999-2018_ids.pickle')"
   ]
  },
  {
   "cell_type": "code",
   "execution_count": 92,
   "metadata": {},
   "outputs": [
    {
     "output_type": "display_data",
     "data": {
      "text/plain": "                           titel              artiest  jaar  \\\n14548          15 Miljoen Mensen  Fluitsma & Van Tijn  1996   \n17581                       1979    Smashing Pumpkins  1996   \n94             A Day In The Life              Beatles  1967   \n15884                   A Forest                 Cure  1980   \n14901        Across The Universe              Beatles  1970   \n...                          ...                  ...   ...   \n14355                       YMCA       Village People  1978   \n14930                 You And Me               Spargo  1980   \n14732     You're The Inspiration              Chicago  1985   \n14200  Zeg Me Dat Het Niet Zo Is        Frank Boeijen  1990   \n14441                  Zwart-Wit        Frank Boeijen  1984   \n\n                           id  1999  2000  2001  2002  2003  2004  ...  2010  \\\n14548  2GBJFvDr62eIX24a3t6pBr   572  <NA>  1316  1117  1051  1419  ...  1965   \n17581  4Dclwpxj1dM3TXyMUfPDkc  <NA>  <NA>  <NA>  <NA>  <NA>  <NA>  ...  <NA>   \n94     0hKRSZhUGEhKU6aNSPBACZ    83    66    87    98   122   127  ...    75   \n15884  3O4TPMOgChXOerSdB5WENH  <NA>    44    82    67    61    62  ...    69   \n14901  4dkoqJrP0L8FXftrMZongF   945  <NA>  1283  <NA>   933  1183  ...  1178   \n...                       ...   ...   ...   ...   ...   ...   ...  ...   ...   \n14355  7Cp69rNBwU0gaFT8zxExlE   377   684   711   887   550   922  ...  1813   \n14930  07UWcIavatbs8VDktDwQ7P   974  1411  1153  1616  1137  1617  ...  <NA>   \n14732  36lkJSDyMEZoWTqtRj8Q8q   771  <NA>  1016   955  1232  1402  ...  1649   \n14200  68avKu8llm4sHD7MtQfpOr   217  <NA>   301   287   192   246  ...   284   \n14441  7tSiviDosOTIi30RhaOvvM   467   602   744   907   848   712  ...  1227   \n\n       2011  2012  2013  2014  2015  2016  2017  2018  2019  \n14548  1848   791  1558  <NA>  <NA>  <NA>  <NA>  1843  <NA>  \n17581  <NA>  <NA>  <NA>  1178  1174  1135  1022   908  <NA>  \n94       78    82   126   148   167   241   165   247  <NA>  \n15884    76    42    50    49    41    40    42    71  <NA>  \n14901  1128   951  1164  1705  1680  <NA>  1756  1832  <NA>  \n...     ...   ...   ...   ...   ...   ...   ...   ...   ...  \n14355  <NA>  <NA>  1772  1772  1827  1838  <NA>  1842  <NA>  \n14930  <NA>  <NA>  <NA>  <NA>  <NA>  <NA>  <NA>  1461  <NA>  \n14732  1653  1918  1841  1740  1960  1962  1849  1976  <NA>  \n14200   344   255   256   134   129   172   220   233  <NA>  \n14441  1150  1191  1025  1000   856   979  1069   881  <NA>  \n\n[128 rows x 25 columns]",
      "text/html": "<div>\n<style scoped>\n    .dataframe tbody tr th:only-of-type {\n        vertical-align: middle;\n    }\n\n    .dataframe tbody tr th {\n        vertical-align: top;\n    }\n\n    .dataframe thead th {\n        text-align: right;\n    }\n</style>\n<table border=\"1\" class=\"dataframe\">\n  <thead>\n    <tr style=\"text-align: right;\">\n      <th></th>\n      <th>titel</th>\n      <th>artiest</th>\n      <th>jaar</th>\n      <th>id</th>\n      <th>1999</th>\n      <th>2000</th>\n      <th>2001</th>\n      <th>2002</th>\n      <th>2003</th>\n      <th>2004</th>\n      <th>...</th>\n      <th>2010</th>\n      <th>2011</th>\n      <th>2012</th>\n      <th>2013</th>\n      <th>2014</th>\n      <th>2015</th>\n      <th>2016</th>\n      <th>2017</th>\n      <th>2018</th>\n      <th>2019</th>\n    </tr>\n  </thead>\n  <tbody>\n    <tr>\n      <th>14548</th>\n      <td>15 Miljoen Mensen</td>\n      <td>Fluitsma &amp; Van Tijn</td>\n      <td>1996</td>\n      <td>2GBJFvDr62eIX24a3t6pBr</td>\n      <td>572</td>\n      <td>&lt;NA&gt;</td>\n      <td>1316</td>\n      <td>1117</td>\n      <td>1051</td>\n      <td>1419</td>\n      <td>...</td>\n      <td>1965</td>\n      <td>1848</td>\n      <td>791</td>\n      <td>1558</td>\n      <td>&lt;NA&gt;</td>\n      <td>&lt;NA&gt;</td>\n      <td>&lt;NA&gt;</td>\n      <td>&lt;NA&gt;</td>\n      <td>1843</td>\n      <td>&lt;NA&gt;</td>\n    </tr>\n    <tr>\n      <th>17581</th>\n      <td>1979</td>\n      <td>Smashing Pumpkins</td>\n      <td>1996</td>\n      <td>4Dclwpxj1dM3TXyMUfPDkc</td>\n      <td>&lt;NA&gt;</td>\n      <td>&lt;NA&gt;</td>\n      <td>&lt;NA&gt;</td>\n      <td>&lt;NA&gt;</td>\n      <td>&lt;NA&gt;</td>\n      <td>&lt;NA&gt;</td>\n      <td>...</td>\n      <td>&lt;NA&gt;</td>\n      <td>&lt;NA&gt;</td>\n      <td>&lt;NA&gt;</td>\n      <td>&lt;NA&gt;</td>\n      <td>1178</td>\n      <td>1174</td>\n      <td>1135</td>\n      <td>1022</td>\n      <td>908</td>\n      <td>&lt;NA&gt;</td>\n    </tr>\n    <tr>\n      <th>94</th>\n      <td>A Day In The Life</td>\n      <td>Beatles</td>\n      <td>1967</td>\n      <td>0hKRSZhUGEhKU6aNSPBACZ</td>\n      <td>83</td>\n      <td>66</td>\n      <td>87</td>\n      <td>98</td>\n      <td>122</td>\n      <td>127</td>\n      <td>...</td>\n      <td>75</td>\n      <td>78</td>\n      <td>82</td>\n      <td>126</td>\n      <td>148</td>\n      <td>167</td>\n      <td>241</td>\n      <td>165</td>\n      <td>247</td>\n      <td>&lt;NA&gt;</td>\n    </tr>\n    <tr>\n      <th>15884</th>\n      <td>A Forest</td>\n      <td>Cure</td>\n      <td>1980</td>\n      <td>3O4TPMOgChXOerSdB5WENH</td>\n      <td>&lt;NA&gt;</td>\n      <td>44</td>\n      <td>82</td>\n      <td>67</td>\n      <td>61</td>\n      <td>62</td>\n      <td>...</td>\n      <td>69</td>\n      <td>76</td>\n      <td>42</td>\n      <td>50</td>\n      <td>49</td>\n      <td>41</td>\n      <td>40</td>\n      <td>42</td>\n      <td>71</td>\n      <td>&lt;NA&gt;</td>\n    </tr>\n    <tr>\n      <th>14901</th>\n      <td>Across The Universe</td>\n      <td>Beatles</td>\n      <td>1970</td>\n      <td>4dkoqJrP0L8FXftrMZongF</td>\n      <td>945</td>\n      <td>&lt;NA&gt;</td>\n      <td>1283</td>\n      <td>&lt;NA&gt;</td>\n      <td>933</td>\n      <td>1183</td>\n      <td>...</td>\n      <td>1178</td>\n      <td>1128</td>\n      <td>951</td>\n      <td>1164</td>\n      <td>1705</td>\n      <td>1680</td>\n      <td>&lt;NA&gt;</td>\n      <td>1756</td>\n      <td>1832</td>\n      <td>&lt;NA&gt;</td>\n    </tr>\n    <tr>\n      <th>...</th>\n      <td>...</td>\n      <td>...</td>\n      <td>...</td>\n      <td>...</td>\n      <td>...</td>\n      <td>...</td>\n      <td>...</td>\n      <td>...</td>\n      <td>...</td>\n      <td>...</td>\n      <td>...</td>\n      <td>...</td>\n      <td>...</td>\n      <td>...</td>\n      <td>...</td>\n      <td>...</td>\n      <td>...</td>\n      <td>...</td>\n      <td>...</td>\n      <td>...</td>\n      <td>...</td>\n    </tr>\n    <tr>\n      <th>14355</th>\n      <td>YMCA</td>\n      <td>Village People</td>\n      <td>1978</td>\n      <td>7Cp69rNBwU0gaFT8zxExlE</td>\n      <td>377</td>\n      <td>684</td>\n      <td>711</td>\n      <td>887</td>\n      <td>550</td>\n      <td>922</td>\n      <td>...</td>\n      <td>1813</td>\n      <td>&lt;NA&gt;</td>\n      <td>&lt;NA&gt;</td>\n      <td>1772</td>\n      <td>1772</td>\n      <td>1827</td>\n      <td>1838</td>\n      <td>&lt;NA&gt;</td>\n      <td>1842</td>\n      <td>&lt;NA&gt;</td>\n    </tr>\n    <tr>\n      <th>14930</th>\n      <td>You And Me</td>\n      <td>Spargo</td>\n      <td>1980</td>\n      <td>07UWcIavatbs8VDktDwQ7P</td>\n      <td>974</td>\n      <td>1411</td>\n      <td>1153</td>\n      <td>1616</td>\n      <td>1137</td>\n      <td>1617</td>\n      <td>...</td>\n      <td>&lt;NA&gt;</td>\n      <td>&lt;NA&gt;</td>\n      <td>&lt;NA&gt;</td>\n      <td>&lt;NA&gt;</td>\n      <td>&lt;NA&gt;</td>\n      <td>&lt;NA&gt;</td>\n      <td>&lt;NA&gt;</td>\n      <td>&lt;NA&gt;</td>\n      <td>1461</td>\n      <td>&lt;NA&gt;</td>\n    </tr>\n    <tr>\n      <th>14732</th>\n      <td>You're The Inspiration</td>\n      <td>Chicago</td>\n      <td>1985</td>\n      <td>36lkJSDyMEZoWTqtRj8Q8q</td>\n      <td>771</td>\n      <td>&lt;NA&gt;</td>\n      <td>1016</td>\n      <td>955</td>\n      <td>1232</td>\n      <td>1402</td>\n      <td>...</td>\n      <td>1649</td>\n      <td>1653</td>\n      <td>1918</td>\n      <td>1841</td>\n      <td>1740</td>\n      <td>1960</td>\n      <td>1962</td>\n      <td>1849</td>\n      <td>1976</td>\n      <td>&lt;NA&gt;</td>\n    </tr>\n    <tr>\n      <th>14200</th>\n      <td>Zeg Me Dat Het Niet Zo Is</td>\n      <td>Frank Boeijen</td>\n      <td>1990</td>\n      <td>68avKu8llm4sHD7MtQfpOr</td>\n      <td>217</td>\n      <td>&lt;NA&gt;</td>\n      <td>301</td>\n      <td>287</td>\n      <td>192</td>\n      <td>246</td>\n      <td>...</td>\n      <td>284</td>\n      <td>344</td>\n      <td>255</td>\n      <td>256</td>\n      <td>134</td>\n      <td>129</td>\n      <td>172</td>\n      <td>220</td>\n      <td>233</td>\n      <td>&lt;NA&gt;</td>\n    </tr>\n    <tr>\n      <th>14441</th>\n      <td>Zwart-Wit</td>\n      <td>Frank Boeijen</td>\n      <td>1984</td>\n      <td>7tSiviDosOTIi30RhaOvvM</td>\n      <td>467</td>\n      <td>602</td>\n      <td>744</td>\n      <td>907</td>\n      <td>848</td>\n      <td>712</td>\n      <td>...</td>\n      <td>1227</td>\n      <td>1150</td>\n      <td>1191</td>\n      <td>1025</td>\n      <td>1000</td>\n      <td>856</td>\n      <td>979</td>\n      <td>1069</td>\n      <td>881</td>\n      <td>&lt;NA&gt;</td>\n    </tr>\n  </tbody>\n</table>\n<p>128 rows × 25 columns</p>\n</div>"
     },
     "metadata": {}
    }
   ],
   "source": [
    "display(top_2000[(top_2000[2018].notna())&(top_2000[2019].isna())].sort_values(by=[\"titel\"]))"
   ]
  },
  {
   "cell_type": "code",
   "execution_count": null,
   "metadata": {},
   "outputs": [],
   "source": []
  },
  {
   "cell_type": "code",
   "execution_count": 72,
   "metadata": {},
   "outputs": [
    {
     "output_type": "stream",
     "name": "stdout",
     "text": "CLUbg\n1668\n1668: Result Found, ID: 4BFMQ15vXr626UOoZL8bUI\n1669\n1669: Result Found, ID: 1ijH8NGWiKytAYKZMyT0Bg\n1670\n1670: Result Found, ID: 0EGVOnw876hry5JOK0ZaeV\n1671\n1671: Result Found, ID: 2cWHN0WK52RGAWHgaDamUA\n1672\n1672: Result Found, ID: 454h9zAIuTe1eJyw9iTnj4\n1673\n1673: Result Found, ID: 2EK0Po5U7k77wdVnoZytfD\n1674\n1674: Result Found, ID: 428Dl0NOBojmUS98R2pDHr\n1675\n1675: Result Found, ID: 4QySZtWymRGNgrwxZOODKF\n1676\n1676: Result Found, ID: 2uyp88cJ5ZXAfnmkJevqS7\n1677\n1677:No result found, output: \n {'tracks': {'href': 'https://api.spotify.com/v1/search?query=I+Love+You+Like+I+Love+Myself+Herman+Brood+%26+His+Wild+Romance&type=track&offset=0&limit=1', 'items': [], 'limit': 1, 'next': None, 'offset': 0, 'previous': None, 'total': 0}}\n1678\n1678:No result found, output: \n {'tracks': {'href': 'https://api.spotify.com/v1/search?query=Silence+%28Tiesto+Mix%29+Delerium+ft.+Sarah+McLachlan&type=track&offset=0&limit=1', 'items': [], 'limit': 1, 'next': None, 'offset': 0, 'previous': None, 'total': 0}}\n1679\n1679: Result Found, ID: 12w7q5JN7tf22TzQtQiiBN\n1680\n1680: Result Found, ID: 42l1eOB0qSkTxHdEZEhqem\n1681\n1681: Result Found, ID: 0a4agFmqHXxcZl1nho1BxM\n1682\n1682: Result Found, ID: 2h23bjG8B3bcD47HBu6bHG\n1683\n1683: Result Found, ID: 0vg4WnUWvze6pBOJDTq99k\n1684\n1684: Result Found, ID: 5xTtaWoae3wi06K5WfVUUH\n1685\n1685: Result Found, ID: 1PehfITh0TTRx3LkDdV4h3\n1686\n1686: Result Found, ID: 7bhI6rnvaVw8qgZPn32qE0\n1687\n1687: Result Found, ID: 6CFH0tF61ax9OPPf9iqAxK\n1688\n1688: Result Found, ID: 0Dv4DdNy1xnhNcCd9YVoiH\n1689\n1689: Result Found, ID: 77oU2rjC5XbjQfNe3bD6so\n1690\n1690: Result Found, ID: 6U0cuXRwYLlXR10HuqaFMX\n1691\n1691: Result Found, ID: 6sy3LkhNFjJWlaeSMNwQ62\n1692\n1692: Result Found, ID: 6rWpyHNaTyYaAGyeQQ9xDv\n1693\n1693: Result Found, ID: 4llK75pXNWZz6KAho2Gp16\n1694\n1694: Result Found, ID: 1N9dwsifVjfe4gJT4f0x4s\n1695\n1695: Result Found, ID: 5DBEFajBEaHgbbwe7oN0KP\n1696\n1696: Result Found, ID: 436yrzQWA32vb1sTZKXg9r\n1697\n1697: Result Found, ID: 5lA3pwMkBdd24StM90QrNR\n1698\n1698: Result Found, ID: 2kulOHR2XY6YDZCWXb38hn\n1699\n1699: Result Found, ID: 49OMJ1prsRA7ZYgrAjz70c\n1700\n1700: Result Found, ID: 2rN2WzftSKZzDLFApWECWz\n1701\n1701: Result Found, ID: 7oXRMDUzBPekkLRTJhSGvC\n1702\n1702: Result Found, ID: 5BFWQXNGPYadZxNKxY1UfU\n1703\n1703: Result Found, ID: 3lh3iiiJeiBXHSZw6u0kh6\n1704\n1704: Result Found, ID: 3NYCaxkggl0Hh8vQptSUvV\n1705\n1705: Result Found, ID: 2TrMNjOkbhIcFrSf7dfC3M\n1706\n1706: Result Found, ID: 1lFC3sMgOcDrVzNh8zXRnl\n1707\n1707: Result Found, ID: 2VwgRgBXWPvYZh0j8PLxNV\n1708\n1708: Result Found, ID: 4VzweaqBuc7LT6yluAt5Ol\n1709\n1709: Result Found, ID: 47z5v7hkOTuvb82F0FWALC\n1710\n1710: Result Found, ID: 1Jj6MF0xDOMA3Ut2Z368Bx\n1711\n1711: Result Found, ID: 3adnLFXKO5rC1lhUNSeg3N\n1712\n1712: Result Found, ID: 7ljOyftEVNLdKmPvR5XaKs\n1713\n1713: Result Found, ID: 1bp2IO61zbQrbWNmKKxg3f\n1714\n1714: Result Found, ID: 126fRzagfqQvb3qrYVUV9T\n1715\n1715: Result Found, ID: 6sRzuQrqNyPrbRPo6qeaNJ\n1716\n1716: Result Found, ID: 1kPBT8S2wJFNAyBMnGVZgL\n1717\n1717: Result Found, ID: 3GgpUEdSy8uO58XG35rRho\n1718\n1718: Result Found, ID: 1bZr5vH0cfmKu5ODpD0DEO\n1719\n1719:No result found, output: \n {'tracks': {'href': 'https://api.spotify.com/v1/search?query=Unbeschreiblich+Weiblich+Nina+Hagen&type=track&offset=0&limit=1', 'items': [], 'limit': 1, 'next': None, 'offset': 0, 'previous': None, 'total': 0}}\n1720\n1720: Result Found, ID: 4FZ8wtTaOAbYvyChBt4GEQ\n1721\n1721: Result Found, ID: 1OJcaSbK9DBaxHExACplwA\n1722\n1722: Result Found, ID: 6SXy02aTZU3ysoGUixYCz0\n1723\n1723: Result Found, ID: 2oSpQ7QtIKTNFfA08Cy0ku\n1724\n1724: Result Found, ID: 7uEcCGtM1FBBGIhPozhJjv\n1725\n1725: Result Found, ID: 2UUPd83rV19BPDbjlp0RU6\n1726\n1726: Result Found, ID: 3rNKThMs8k8UqSNkHrtKbB\n1727\n1727: Result Found, ID: 51FpzuGkRYXFgsE2zXt9av\n1728\n1728: Result Found, ID: 34E0Higz6fFVXlbVsn6TIW\n1729\n1729: Result Found, ID: 4rTeOSYqwXNz5qPR2DUTFZ\n1730\n1730: Result Found, ID: 0j3p1p06deJ7f9xmJ9yG22\n1731\n1731: Result Found, ID: 5EAgXGJ8Kw5QAfhQkZXYqT\n1732\n1732: Result Found, ID: 1h22h211rde6dDCeW2hXpN\n1733\n1733: Result Found, ID: 095MMFhB9qxPx2VsmvjnUs\n1734\n1734: Result Found, ID: 5jofEsxgayvPS30HSudLL5\n1735\n1735: Result Found, ID: 0DQqzCHlPyKQXfF8uL01SI\n1736\n1736: Result Found, ID: 3XIEWK1V9n25PS9Vb6axj5\n1737\n1737: Result Found, ID: 31er9IGsfFbwqy1pH4aiTP\n1738\n1738: Result Found, ID: 0VpFFXnT2kNjqJmTv57aZi\n1739\n1739:No result found, output: \n {'tracks': {'href': 'https://api.spotify.com/v1/search?query=No+Diggity+Blackstreet+ft.+Dr+Dre&type=track&offset=0&limit=1', 'items': [], 'limit': 1, 'next': None, 'offset': 0, 'previous': None, 'total': 0}}\n1740\n1740: Result Found, ID: 5etePxvVxhLnxWgQsIp7hE\n1741\n1741: Result Found, ID: 4TjrIZw2QxJxbVjdc3XKsj\n1742\n1742: Result Found, ID: 7p1G7n72t0XpGeGUfJqn0Z\n1743\n1743: Result Found, ID: 4k0bXm9Q4RaTuYi09i4lKK\n1744\n1744: Result Found, ID: 7tMCIOFe99cWEYr21wfsDp\n1745\n1745: Result Found, ID: 2DlIwu1iDTILEMXA7MUotn\n1746\n1746: Result Found, ID: 4RL77hMWUq35NYnPLXBpih\n1747\n1747: Result Found, ID: 1wed13CuglKBkOnVFFzI1D\n1748\n1748: Result Found, ID: 6uZtMNTfU5u8w6fsnXeOdb\n1749\n1749:No result found, output: \n {'tracks': {'href': 'https://api.spotify.com/v1/search?query=Liquid+Spirit+-+Claptone+Remix+%28StuBru+radio+edit%29+Gregory+Porter&type=track&offset=0&limit=1', 'items': [], 'limit': 1, 'next': None, 'offset': 0, 'previous': None, 'total': 0}}\n1750\n1750: Result Found, ID: 3Pu3IChaAoa5EjgUBv5F6x\n1751\n1751: Result Found, ID: 3QmesrvdbPjwf7i40nht1D\n1752\n1752: Result Found, ID: 0umDVf77ygI5RiVp9OvNDj\n1753\n1753: Result Found, ID: 75IN3CtuZwTHTnZvYM4qnJ\n1754\n1754: Result Found, ID: 3pyoAvbBO4kDKkh999Miyj\n1755\n1755: Result Found, ID: 4bjvLvKovcWqZwDbXT5QQX\n1756\n1756: Result Found, ID: 67vYdAAM3oGsEImCRfbtsF\n1757\n1757: Result Found, ID: 4H4StIAv5eeuZFLt4alrYB\n1758\n1758: Result Found, ID: 55ZMyYbRQRYjcNWceCL5oT\n1759\n1759: Result Found, ID: 4dBQWyoZmmgvFBlALGlqZi\n1760\n1760: Result Found, ID: 7aFAM7XDfFmCJEDuEGhRK3\n1761\n1761: Result Found, ID: 47W6YR93MPCGLEUReLMyDm\n1762\n1762: Result Found, ID: 6uhlalfG4T4MBSoiOdq2eh\n1763\n1763: Result Found, ID: 15kLz0zNFdtsaJdXKSGmTU\n1764\n1764: Result Found, ID: 3EFb1qDgIqf9MegIryKtDj\n1765\n1765: Result Found, ID: 4JVFY7J6eiTQK9JyHn5O7z\n1766\n1766: Result Found, ID: 6b37xrsNCWYIUphFBazqD6\n1767\n1767: Result Found, ID: 0jGVEPscW8KmqktoHqv2Pa\n1768\n1768: Result Found, ID: 0wvIGFIgbyz4JNwQhZgTv2\n1769\n1769: Result Found, ID: 63J2iqaDDp92P1eZgvuELp\n1770\n1770: Result Found, ID: 2bzBI23EJWHjXmGj3xlYaM\n1771\n1771: Result Found, ID: 78RIER8V6EhrqVPOBi2GYa\n1772\n1772: Result Found, ID: 0IhUdJRoolbYeEMPL59XPm\n1773\n1773: Result Found, ID: 1i7QbG73o4liXhmbtaT7Z3\n1774\n1774: Result Found, ID: 4y1LsJpmMti1PfRQV9AWWe\n1775\n1775: Result Found, ID: 7IoLw1bECmOSWcm2u9SmRH\n1776\n1776: Result Found, ID: 1ZyQGXH9dZ4AecevHhKUxi\n1777\n1777: Result Found, ID: 7bu0znpSbTks0O6I98ij0W\n1778\n1778: Result Found, ID: 1ul9ZfkWWeAjA3HiRwK4Op\n1779\n1779: Result Found, ID: 0HOrDVS349XFcpCYsO2hAP\n1780\n1780: Result Found, ID: 3SFXsFpeGmBTtQvKiwYMDA\n1781\n1781: Result Found, ID: 3WSb4FHjeuXN0Sb2UevSSp\n1782\n1782: Result Found, ID: 1rxtY5YguwETxBmFt7EPht\n1783\n1783: Result Found, ID: 5veJDT0MLsLbhYsx42GXUD\n1784\n1784: Result Found, ID: 3ZOEytgrvLwQaqXreDs2Jx\n1785\n1785: Result Found, ID: 29FNeqjOV2kPWGS55qhtGB\n1786\n1786: Result Found, ID: 0h15VlXIzD1MwKwNi12ois\n1787\n1787: Result Found, ID: 6TJa7RJhrlI4PYaBv0Nx8h\n1788\n1788: Result Found, ID: 2PKPMLZJDmw77S8V2kEl6D\n1789\n1789: Result Found, ID: 27zNKTPGfGAuMYmJ0Y6syY\n1790\n1790: Result Found, ID: 33hDAIWk4wuIiI0FcGXN8G\n1791\n1791: Result Found, ID: 1rfofaqEpACxVEHIZBJe6W\n1792\n1792: Result Found, ID: 0ndqs8Eugjiefh2YRJQrMU\n1793\n1793: Result Found, ID: 1kDkaFlmkdEZiVUogaP9OZ\n1794\n1794: Result Found, ID: 6r20M5DWYdIoCDmDViBxuz\n1795\n1795: Result Found, ID: 6tASfEUyB7lE2r6DLzURji\n1796\n1796: Result Found, ID: 6fzcnVO0X2cpYjsHk19GJo\n1797\n1797: Result Found, ID: 5RoIXwyTCdyUjpMMkk4uPd\n1798\n1798: Result Found, ID: 1kqIJgH6aVYwqQFjQPB0hn\n1799\n1799: Result Found, ID: 4hf0hL4kWyjWztZzVsM39V\n1800\n1800: Result Found, ID: 7FlwylpJSe3ea6m1IrkizS\n1801\n1801: Result Found, ID: 1cYgSBlOeCD5bCYnzyQQ6v\n1802\n1802: Result Found, ID: 0TahceYtLvSzldUqy6X8rh\n1803\n1803: Result Found, ID: 1z9kQ14XBSN0r2v6fx4IdG\n1804\n1804: Result Found, ID: 5W3cjX2J3tjhG8zb6u0qHn\n1805\n1805: Result Found, ID: 3pPyv196sOJrbZdNiVNYCA\n1806\n1806: Result Found, ID: 6GtX0jaNL8IjVQfrDBx81z\n1807\n1807: Result Found, ID: 0W63SxNBdySHPHJU3QnsBZ\n1808\n1808:No result found, output: \n {'tracks': {'href': 'https://api.spotify.com/v1/search?query=Sound+Of+The+Screaming+Day+Golden+Earrings&type=track&offset=0&limit=1', 'items': [], 'limit': 1, 'next': None, 'offset': 0, 'previous': None, 'total': 0}}\n1809\n1809: Result Found, ID: 5huSgTVqBdIJTFhpShJfcg\n1810\n1810: Result Found, ID: 0y1QJc3SJVPKJ1OvFmFqe6\n1811\n1811: Result Found, ID: 1f94GhohgeVq9SNwyFI691\n1812\n1812: Result Found, ID: 5MT5WpotzuXRKULJmHMWUH\n1813\n1813: Result Found, ID: 6AIB4vBOGWM4FJ65yNWaXu\n1814\n1814: Result Found, ID: 2KY0QUeRY3IPuJI1gyU9BJ\n1815\n1815: Result Found, ID: 6rhVKeUhQTGLIRmQOfc9Wo\n1816\n1816: Result Found, ID: 6xqOFLDbyiXJ8FJA3mBDC8\n1817\n1817: Result Found, ID: 5mwzpzRue1SBWwrbbhXfbf\n1818\n1818: Result Found, ID: 0Q5YtY85lz5n7rQkeMNpoe\n1819\n1819: Result Found, ID: 5kqIPrATaCc2LqxVWzQGbk\n1820\n1820: Result Found, ID: 5ReusEyUcwP0DAxBK0maZr\n1821\n1821: Result Found, ID: 1wKNzUL2WiBd7Qob7mKIgP\n1822\n1822: Result Found, ID: 651In9fY9BregQWY0cF7l2\n1823\n1823: Result Found, ID: 1tjKIXd7DYNklhVSgBxREi\n1824\n1824: Result Found, ID: 0No5Hr1LxZjJHGsQSTy2bm\n1825\n1825: Result Found, ID: 4rr0gWiMrF4sOIefs3IEvZ\n1826\n1826: Result Found, ID: 6YsCavQbx3YITYsnIKvF3j\n1827\n1827: Result Found, ID: 7a8O6K16f0DUP0BmLu9Bo0\n1828\n1828: Result Found, ID: 2fYYmPNwDaNpw1KRSxpQ5H\n1829\n1829: Result Found, ID: 4nwUQZbmWMkYzKrXgWRIEw\n1830\n1830: Result Found, ID: 73Au0ax7IN1mCYf5JizEc9\n1831\n1831: Result Found, ID: 1RHZ8N3GgdHve35MjjaKiB\n1832\n1832: Result Found, ID: 0kzw2tRyuL9rzipi5ntlIy\n1833\n1833: Result Found, ID: 36AlMHDBFwSsD3FQOy1R81\n1834\n1834: Result Found, ID: 6FoayFn7vcZvScTZ67HuZK\n1835\n1835: Result Found, ID: 7HPkvsnyQqQ6PmpLk7D7IR\n1836\n1836: Result Found, ID: 6aqWPEhtxJaPbSabre2fdx\n1837\n1837: Result Found, ID: 0Jv0PJz6LZdCygPsFnML3a\n1838\n1838: Result Found, ID: 3ou9rSNUQnE7XYmJkUUIOc\n1839\n1839: Result Found, ID: 2HCaIYjkvWSZzaSKUoOh3d\n1840\n1840: Result Found, ID: 2uQ4px5SPONsgcUpulywIQ\n1841\n1841: Result Found, ID: 36XSfd5hlzRYNtUo9xMXHT\n1842\n1842: Result Found, ID: 1ixphys4A3NEXp6MDScfih\n1843\n1843: Result Found, ID: 2auLFz0Q2Q2Qk21iUadNDM\n1844\n1844: Result Found, ID: 31L9yLXSj6LpCFupyMV6CR\n1845\n1845: Result Found, ID: 2Iib2MV3ECFJAourgP9dlY\n1846\n1846: Result Found, ID: 49MHCPzvMLXhRjDantBMVH\n1847\n1847: Result Found, ID: 6BtmXhTJMM9sBTHeYYASGz\n1848\n1848: Result Found, ID: 2w4a4ur2uRf530cbzyTlWo\n1849\n1849: Result Found, ID: 1YrnDTqvcnUKxAIeXyaEmU\n1850\n1850: Result Found, ID: 0cKk8BKEi7zXbdrYdyqBP5\n1851\n1851:No result found, output: \n {'tracks': {'href': 'https://api.spotify.com/v1/search?query=Forbidden+Colours+Ryuichi+Sakamoto+%26+David+Sylvian&type=track&offset=0&limit=1', 'items': [], 'limit': 1, 'next': None, 'offset': 0, 'previous': None, 'total': 0}}\n1852\n1852: Result Found, ID: 7fWSIddv6LJG8ZXJFNVQyi\n1853\n1853: Result Found, ID: 5rX6C5QVvvZB7XckETNych\n1854\n1854: Result Found, ID: 20NEld0MhrR4Zpgrf9brq8\n1855\n1855: Result Found, ID: 4Tx2D2JAY6ZBm8AwZkNLOi\n1856\n1856: Result Found, ID: 4RADreHMvMkZwsPgPr9z5c\n1857\n1857: Result Found, ID: 5tewIdMVsaJWN19ZnmnPNN\n1858\n1858: Result Found, ID: 1gmECUFPAyNEfcNwAxWvV9\n1859\n1859: Result Found, ID: 3HyZGwZAq9oQJQBzSyjs7Q\n1860\n1860: Result Found, ID: 7ef4DlsgrMEH11cDZd32M6\n1861\n1861: Result Found, ID: 2Gy7qnDwt8Z3MNxqat4CsK\n1862\n1862: Result Found, ID: 2g2GkH3vZHk4lWzBjgQ6nY\n1863\n1863:No result found, output: \n {'tracks': {'href': 'https://api.spotify.com/v1/search?query=The+Wild+Places+Duncan+Browne&type=track&offset=0&limit=1', 'items': [], 'limit': 1, 'next': None, 'offset': 0, 'previous': None, 'total': 0}}\n1864\n1864: Result Found, ID: 5IaceLtbCqn58g5Vhuh3Hr\n1865\n1865: Result Found, ID: 3KiexfmhxHvG5IgAElmTkd\n1866\n1866: Result Found, ID: 6mZCiuIXcA12syIS23Dyxa\n1867\n1867: Result Found, ID: 1hTUFqJuQAMjXVGwUPWDqi\n1868\n1868: Result Found, ID: 6mYrhCAGWzTdF8QnKuchXM\n1869\n1869: Result Found, ID: 53348QPO1Bhkd8oFABaGYK\n1870\n1870: Result Found, ID: 6lOWoTqVnAWXchddtTH31W\n1871\n1871: Result Found, ID: 5UPnBgnylUCjtAPtAH4tJY\n1872\n1872: Result Found, ID: 3B61es35RhmjeZgFuG6VV2\n1873\n1873: Result Found, ID: 21RDsw7wzUJNl2FbWTgEfJ\n1874\n1874: Result Found, ID: 7GUINjT9Hi5zxqL4MgVtwY\n1875\n1875: Result Found, ID: 34zDwAdksPXYzGINUT0oW7\n1876\n1876: Result Found, ID: 0CsM8VGDi38kusMv3pxyj1\n1877\n1877: Result Found, ID: 2zMlWt4aYreVczVERFK94w\n1878\n1878: Result Found, ID: 6M665tf7ZKQzUFA5yOrUE4\n1879\n1879: Result Found, ID: 0nPiPDJapiB1lPyzc8oNML\n1880\n1880: Result Found, ID: 2oTdiDj4AawNeeYFz8bipG\n1881\n1881: Result Found, ID: 6tCk1N85t6h4v1xXI6o0Ad\n1882\n1882: Result Found, ID: 7JXX9EFH9djuaDkE2tkBxY\n1883\n1883: Result Found, ID: 43BjqjFMxwd6AnjKBukp03\n1884\n1884: Result Found, ID: 6cARFkZxx2JR3JlvDzeLZc\n1885\n1885: Result Found, ID: 40h65HAR8COEoqkMwUUQHu\n1886\n1886: Result Found, ID: 17YNjZoMHOoS8BM1fcgiBk\n1887\n1887: Result Found, ID: 6BD1X1PeV5UzYUdiVaD2yL\n1888\n1888: Result Found, ID: 55mQhobuwtY7lfLAXylg1k\n1889\n1889: Result Found, ID: 2kN05N1AQQplsgFweFAqYb\n1890\n1890: Result Found, ID: 4FkBydqPtECsV1O5z2VIpZ\n1891\n1891: Result Found, ID: 1BmVQ5RGqqtF5cnsv6cQYu\n1892\n1892: Result Found, ID: 50JK22El2PTIzZBU2liLDI\n1893\n1893:No result found, output: \n {'tracks': {'href': 'https://api.spotify.com/v1/search?query=Blurred+Lines+Robin+Thicke+ft.+T.I.+%26+Pharrell+Williams&type=track&offset=0&limit=1', 'items': [], 'limit': 1, 'next': None, 'offset': 0, 'previous': None, 'total': 0}}\n1894\n1894: Result Found, ID: 1Dg4dFJr3HW7sbA7vPejre\n1895\n1895: Result Found, ID: 4W4wYHtsrgDiivRASVOINL\n1896\n1896: Result Found, ID: 50q2aUjWoTn6CJIfSPRJQA\n1897\n1897: Result Found, ID: 5Rizj5FLb2AyNKu9esjYY6\n1898\n1898: Result Found, ID: 5vtXtPjH9NBC79ZOuTHYrF\n1899\n1899: Result Found, ID: 1vZTgn4JXWMahR8r99ug5H\n1900\n1900: Result Found, ID: 2BOqDYLOJBiMOXShCV1neZ\n1901\n1901: Result Found, ID: 0MHXrqn909p0LRTPsNsGEi\n1902\n1902: Result Found, ID: 2ihCaVdNZmnHZWt0fvAM7B\n1903\n1903: Result Found, ID: 3STinUpwNebQI95obNB738\n1904\n1904: Result Found, ID: 7ohTiUYgmAfuEcSosdhhMF\n1905\n1905: Result Found, ID: 0iz2Pm0bYYrHcuFletpNPT\n1906\n1906: Result Found, ID: 4DoSialsr7LJzGyrwsigjz\n1907\n1907: Result Found, ID: 0mbS3VwRbO6HVBMPXnzOGA\n1908\n1908: Result Found, ID: 3NPZTMlVKAExq8GW1cXMyS\n1909\n1909: Result Found, ID: 2ab1xYXLiGMWKBKlMgoB62\n1910\n1910: Result Found, ID: 1pKYYY0dkg23sQQXi0Q5zN\n1911\n1911: Result Found, ID: 0u35Dpz37TY2M2j20RUdMf\n1912\n1912: Result Found, ID: 2wSAWEYUHkt92X4SBAPqZE\n1913\n1913: Result Found, ID: 7BfW1eoDh27W69nxsmRicb\n1914\n1914: Result Found, ID: 05NYcsjJwOYq4jIiKPVj9p\n1915\n1915: Result Found, ID: 6fLTxkL2wgC40fBM6IIe7r\n1916\n1916: Result Found, ID: 6y2Kaz9QI01XBKJ8mTb7Pf\n1917\n1917: Result Found, ID: 3pRaLNL3b8x5uBOcsgvdqM\n1918\n1918: Result Found, ID: 3gbRZ09Vyxll3qYSgCc5QC\n1919\n1919: Result Found, ID: 1STAWoWHYJh2UVUx41pYMD\n1920\n1920: Result Found, ID: 22wGmrE8HQZHvHC44n7Htm\n1921\n1921: Result Found, ID: 2s6wCS3vDZFPY9NOTlPXJZ\n1922\n1922: Result Found, ID: 3vpAdhI7UFs4eyYuf7vXId\n1923\n1923: Result Found, ID: 0VhhaYztcRWc7PEjJCjr1g\n1924\n1924: Result Found, ID: 4RCWB3V8V0dignt99LZ8vH\n1925\n1925: Result Found, ID: 6ibUMABVFes5UDfhdtB5s9\n1926\n1926: Result Found, ID: 2p37Mfy2PWajgOS3i2aaep\n1927\n1927: Result Found, ID: 0aImHluhp8crPRsEUt7XHi\n1928\n1928: Result Found, ID: 6COtET46lPGVXefrfHUkHI\n1929\n1929: Result Found, ID: 35qwJUKVy1OIt0wQ3xEXi0\n1930\n1930: Result Found, ID: 3evG0BIqEFMMP7lVJh1cSf\n1931\n1931: Result Found, ID: 3wtMkvedoWMQ3XTKv7tqcZ\n1932\n1932: Result Found, ID: 1jJci4qxiYcOHhQR247rEU\n1933\n1933: Result Found, ID: 6xNwKNYZcvgV3XTIwsgNio\n1934\n1934: Result Found, ID: 7lACWUlnXYggOwUu99FCJe\n1935\n1935: Result Found, ID: 36gPq8WG7tDxrblyGVUCiT\n1936\nretrying ...2secs\n1936: Result Found, ID: 0Z5XdXJas7AYwn4S99MDDY\n1937\n1937: Result Found, ID: 5AmPClBlU5sK45i6kMSngt\n1938\n1938: Result Found, ID: 6HfFLqjxyFJYx1V0olSKof\n1939\n1939: Result Found, ID: 6TMLUWtrSoTNFo7viirKh3\n1940\n1940: Result Found, ID: 7kaub3iYrvVz5gaPVemsWE\n1941\n1941: Result Found, ID: 7CzhIfOec1ehR2XQdYkg1l\n1942\n1942: Result Found, ID: 36ejrqK1GfGLQIxFXtivjo\n1943\n1943: Result Found, ID: 1YZuigG1YcdgbfD7XJoCU5\n1944\n1944: Result Found, ID: 6FPOFblnPfyaav5LOx81xd\n1945\n1945: Result Found, ID: 3qaSqrrevBrb84xl5JlptU\n1946\n1946: Result Found, ID: 2WOjLF83vqjit2Zh4B69V3\n1947\n1947: Result Found, ID: 4Lz33Oi0UQ6SECXsT80Tx2\n1948\n1948: Result Found, ID: 4CbUtLtAcgLJ7mAIeooJS8\n1949\n1949: Result Found, ID: 6TgqY8Vfm4StBe8hsxi3Ti\n1950\n1950: Result Found, ID: 4Mckv604NWFSw11g4iCgG0\n1951\n1951: Result Found, ID: 3ov8FoIbE81BRFOt2TWsNx\n1952\n1952: Result Found, ID: 64Ny7djQ6rNJspquof2KoX\n1953\n1953: Result Found, ID: 4B2lJinAkeNLSJjcq3dg8Q\n1954\n1954: Result Found, ID: 2ZiRiPXE929bStanWOgVES\n1955\n1955: Result Found, ID: 2Wb9ejnmy27DUTUe9YF5Ew\n1956\n1956: Result Found, ID: 4pphWcKoogsXuhX0ESNvNA\n1957\n1957: Result Found, ID: 4ccM2xBxicGigjLqt6A0YY\n1958\n1958: Result Found, ID: 5jafMI8FLibnjkYTZ33m0c\n1959\n1959: Result Found, ID: 1zng9uqqXoPkmU05nsAlsw\n1960\n1960: Result Found, ID: 5iWa27IZ9UyXm0TJTod0y5\n1961\n1961: Result Found, ID: 1yqMgZNrevsWMLWfO2PRp5\n1962\n1962: Result Found, ID: 1RZ3I8OVsBu9lEIxgrQ74L\n1963\n1963:No result found, output: \n {'tracks': {'href': 'https://api.spotify.com/v1/search?query=Set+The+Fire+To+The+Third+Bar+Snow+Patrol+ft.+Martha+Wainwright&type=track&offset=0&limit=1', 'items': [], 'limit': 1, 'next': None, 'offset': 0, 'previous': None, 'total': 0}}\n1964\n1964:No result found, output: \n {'tracks': {'href': 'https://api.spotify.com/v1/search?query=Happy+X-Mas+%28War+Is+Over%29+John+Lennon+%26+Yoko+Ono+%26+Plastic+Ono+Band&type=track&offset=0&limit=1', 'items': [], 'limit': 1, 'next': None, 'offset': 0, 'previous': None, 'total': 0}}\n1965\n1965:No result found, output: \n {'tracks': {'href': 'https://api.spotify.com/v1/search?query=Mister+Blue+Rene+Klijn&type=track&offset=0&limit=1', 'items': [], 'limit': 1, 'next': None, 'offset': 0, 'previous': None, 'total': 0}}\n1966\n1966: Result Found, ID: 0RHPoliIwT6ddbPugZNitX\n1967\n1967: Result Found, ID: 57h06SZNL6LJ3YKZ1UGCeu\n1968\n1968: Result Found, ID: 1Ic9pKxGSJGM0LKeqf6lGe\n1969\n1969: Result Found, ID: 2BstRQGodshjGpeDGQiNgo\n1970\n1970: Result Found, ID: 4ZCaO5I6XdIHb0X2UwNDtZ\n1971\n1971: Result Found, ID: 0KW9pI53r5lIZTI2p3psZd\n1972\n1972: Result Found, ID: 2LIh4uzqq9cXMPzzmcToHl\n1973\n1973: Result Found, ID: 4Qh4H4KxrlvTjPA6sAJC07\n1974\n1974: Result Found, ID: 5OoRmdDfAiDztSwrhe7wuE\n1975\n1975: Result Found, ID: 1qyJ6XpMHdsJD8pkiA7Qww\n1976\n1976: Result Found, ID: 1HnAG3hNXZzxvzVyw1U8Yy\n1977\n1977: Result Found, ID: 3dH6lT5EAlUdF0QLm6uCNh\n1978\n1978: Result Found, ID: 5PDENbNPVHoMeNhSI7ykS3\n1979\n1979: Result Found, ID: 2QZ7WLBE8h2y1Y5Fb8RYbH\n1980\n1980: Result Found, ID: 6Qb7gtV6Q4MnUjSbkFcopl\n1981\n1981: Result Found, ID: 0xpBr84T3FTm9j4D1MdPtk\n1982\n1982: Result Found, ID: 7kXmJwrZGIhDaLT9sNo3ut\n1983\n1983: Result Found, ID: 3lghqWELEWj9yEPvme7c4W\n1984\n1984: Result Found, ID: 5g6o2ZEegnAI3MczbwZaTZ\n1985\n1985: Result Found, ID: 3fRog4nATgsT8i1ewjneSj\n1986\n1986: Result Found, ID: 1raiIrqaqRAqZmQWZlLuBd\n1987\n1987:No result found, output: \n {'tracks': {'href': 'https://api.spotify.com/v1/search?query=Hold+On+Tight+Solomon+Burke+%26+De+Dijk&type=track&offset=0&limit=1', 'items': [], 'limit': 1, 'next': None, 'offset': 0, 'previous': None, 'total': 0}}\n1988\n1988: Result Found, ID: 7rea8oiI7zkZI5dbigK06f\n1989\n1989: Result Found, ID: 4e3RZ3pN0hG0g5CRymHuwO\n1990\n1990: Result Found, ID: 4ZoS06ucDjyREwUO6MCEzW\n1991\n1991: Result Found, ID: 3TCauNPqFiniaYHBvEVoHG\n1992\n1992: Result Found, ID: 4tYokojnBEp5pBWO7wTRPA\n1993\n1993: Result Found, ID: 6txWz9UapYHVxEd7dDIHXT\n1994\n1994: Result Found, ID: 10VbGCpgC4FtmYSwBLvIDX\n1995\n1995: Result Found, ID: 0jHkgTtTaqg5LNCiYDQPUB\n1996\n1996: Result Found, ID: 6gCeQ6xJs2tYdLRzCPxeTZ\n1997\n1997: Result Found, ID: 2whYf5duw5d3N48wEseuXJ\n1998\n1998: Result Found, ID: 1ZqHjApl3pfzwjweTfMi0g\n1999\n1999: Result Found, ID: 2PuUFT13yCzUOZun94WOXv\n"
    }
   ],
   "source": [
    "# Find ids for 2019\n",
    "year[\"id\"] = year.apply(searchid, axis = 1, verbose = True)"
   ]
  },
  {
   "cell_type": "code",
   "execution_count": 74,
   "metadata": {},
   "outputs": [],
   "source": [
    "top_2000 = pd.merge(top_2000,year, on=['id'], how='outer')"
   ]
  },
  {
   "cell_type": "code",
   "execution_count": 85,
   "metadata": {},
   "outputs": [
    {
     "output_type": "stream",
     "name": "stdout",
     "text": "Index([  'titel', 'artiest',    'jaar',      1999,      2000,      2001,\n            2002,      2003,      2004,      2005,      2006,      2007,\n            2008,      2009,      2010,      2011,      2012,      2013,\n            2014,      2015,      2016,      2017,      2018,      'id',\n            2019],\n      dtype='object')\n"
    },
    {
     "output_type": "execute_result",
     "data": {
      "text/plain": "                             titel       artiest    jaar  \\\n0                Bohemian Rhapsody         Queen  1975.0   \n1                 Hotel California        Eagles  1977.0   \n2                    Child In Time   Deep Purple  1972.0   \n3               Stairway To Heaven  Led Zeppelin  1971.0   \n4  Paradise By The Dashboard Light     Meat Loaf  1978.0   \n\n                       id  1999  2000  2001  2002  2003  2004  ...  2010  \\\n0  7tFiyTwD0nx5a1eklYtX2J   1.0   1.0   1.0   1.0   1.0   1.0  ...   2.0   \n1  40riOy7x9W7GXjyGp4pjAv   2.0   4.0   3.0   3.0   2.0   2.0  ...   1.0   \n2  5TrfusgKC1BYic5LaWCoKm   3.0   2.0   2.0   2.0   3.0   3.0  ...   4.0   \n3  5CQ30WqJwcep0pYcV4AMNc   4.0   3.0   4.0   4.0   4.0   4.0  ...   5.0   \n4  2g7gviEeJr6pyxO7G35EWQ   5.0   5.0   5.0   5.0   5.0   6.0  ...   9.0   \n\n   2011  2012  2013  2014  2015  2016  2017  2018  2019  \n0   1.0   1.0   1.0   2.0   2.0   1.0   1.0   1.0   1.0  \n1   2.0   2.0   2.0   1.0   3.0   2.0   2.0   2.0   2.0  \n2   3.0   4.0   4.0   4.0   8.0   5.0   5.0   6.0  12.0  \n3   5.0   3.0   3.0   3.0   5.0   3.0   3.0   4.0   5.0  \n4  11.0  19.0  22.0  17.0  30.0  27.0  27.0  29.0  35.0  \n\n[5 rows x 25 columns]",
      "text/html": "<div>\n<style scoped>\n    .dataframe tbody tr th:only-of-type {\n        vertical-align: middle;\n    }\n\n    .dataframe tbody tr th {\n        vertical-align: top;\n    }\n\n    .dataframe thead th {\n        text-align: right;\n    }\n</style>\n<table border=\"1\" class=\"dataframe\">\n  <thead>\n    <tr style=\"text-align: right;\">\n      <th></th>\n      <th>titel</th>\n      <th>artiest</th>\n      <th>jaar</th>\n      <th>id</th>\n      <th>1999</th>\n      <th>2000</th>\n      <th>2001</th>\n      <th>2002</th>\n      <th>2003</th>\n      <th>2004</th>\n      <th>...</th>\n      <th>2010</th>\n      <th>2011</th>\n      <th>2012</th>\n      <th>2013</th>\n      <th>2014</th>\n      <th>2015</th>\n      <th>2016</th>\n      <th>2017</th>\n      <th>2018</th>\n      <th>2019</th>\n    </tr>\n  </thead>\n  <tbody>\n    <tr>\n      <th>0</th>\n      <td>Bohemian Rhapsody</td>\n      <td>Queen</td>\n      <td>1975.0</td>\n      <td>7tFiyTwD0nx5a1eklYtX2J</td>\n      <td>1.0</td>\n      <td>1.0</td>\n      <td>1.0</td>\n      <td>1.0</td>\n      <td>1.0</td>\n      <td>1.0</td>\n      <td>...</td>\n      <td>2.0</td>\n      <td>1.0</td>\n      <td>1.0</td>\n      <td>1.0</td>\n      <td>2.0</td>\n      <td>2.0</td>\n      <td>1.0</td>\n      <td>1.0</td>\n      <td>1.0</td>\n      <td>1.0</td>\n    </tr>\n    <tr>\n      <th>1</th>\n      <td>Hotel California</td>\n      <td>Eagles</td>\n      <td>1977.0</td>\n      <td>40riOy7x9W7GXjyGp4pjAv</td>\n      <td>2.0</td>\n      <td>4.0</td>\n      <td>3.0</td>\n      <td>3.0</td>\n      <td>2.0</td>\n      <td>2.0</td>\n      <td>...</td>\n      <td>1.0</td>\n      <td>2.0</td>\n      <td>2.0</td>\n      <td>2.0</td>\n      <td>1.0</td>\n      <td>3.0</td>\n      <td>2.0</td>\n      <td>2.0</td>\n      <td>2.0</td>\n      <td>2.0</td>\n    </tr>\n    <tr>\n      <th>2</th>\n      <td>Child In Time</td>\n      <td>Deep Purple</td>\n      <td>1972.0</td>\n      <td>5TrfusgKC1BYic5LaWCoKm</td>\n      <td>3.0</td>\n      <td>2.0</td>\n      <td>2.0</td>\n      <td>2.0</td>\n      <td>3.0</td>\n      <td>3.0</td>\n      <td>...</td>\n      <td>4.0</td>\n      <td>3.0</td>\n      <td>4.0</td>\n      <td>4.0</td>\n      <td>4.0</td>\n      <td>8.0</td>\n      <td>5.0</td>\n      <td>5.0</td>\n      <td>6.0</td>\n      <td>12.0</td>\n    </tr>\n    <tr>\n      <th>3</th>\n      <td>Stairway To Heaven</td>\n      <td>Led Zeppelin</td>\n      <td>1971.0</td>\n      <td>5CQ30WqJwcep0pYcV4AMNc</td>\n      <td>4.0</td>\n      <td>3.0</td>\n      <td>4.0</td>\n      <td>4.0</td>\n      <td>4.0</td>\n      <td>4.0</td>\n      <td>...</td>\n      <td>5.0</td>\n      <td>5.0</td>\n      <td>3.0</td>\n      <td>3.0</td>\n      <td>3.0</td>\n      <td>5.0</td>\n      <td>3.0</td>\n      <td>3.0</td>\n      <td>4.0</td>\n      <td>5.0</td>\n    </tr>\n    <tr>\n      <th>4</th>\n      <td>Paradise By The Dashboard Light</td>\n      <td>Meat Loaf</td>\n      <td>1978.0</td>\n      <td>2g7gviEeJr6pyxO7G35EWQ</td>\n      <td>5.0</td>\n      <td>5.0</td>\n      <td>5.0</td>\n      <td>5.0</td>\n      <td>5.0</td>\n      <td>6.0</td>\n      <td>...</td>\n      <td>9.0</td>\n      <td>11.0</td>\n      <td>19.0</td>\n      <td>22.0</td>\n      <td>17.0</td>\n      <td>30.0</td>\n      <td>27.0</td>\n      <td>27.0</td>\n      <td>29.0</td>\n      <td>35.0</td>\n    </tr>\n  </tbody>\n</table>\n<p>5 rows × 25 columns</p>\n</div>"
     },
     "metadata": {},
     "execution_count": 85
    }
   ],
   "source": [
    "# top_2000.drop(columns=['titel_y','artiest_y','jaar_y'], inplace = True)\n",
    "top_2000 = top_2000.rename(columns={'artiest_x': 'artiest',\"titel_x\":\"titel\",\"jaar_x\":\"jaar\" })\n",
    "top_2000 = top_2000[['titel', 'artiest', 'jaar', 'id', 1999, 2000, 2001, 2002, 2003, 2004, 2005, 2006, 2007, 2008, 2009, 2010, 2011, 2012, 2013, 2014, 2015, 2016, 2017, 2018, 2019]]\n",
    "top_2000.head()"
   ]
  },
  {
   "cell_type": "code",
   "execution_count": 91,
   "metadata": {},
   "outputs": [],
   "source": [
    "# Save files\n",
    "top_2000.to_json('top_2000_ids.json', orient='records')\n",
    "top_2000.to_csv('top_2000_ids.csv', index = False)\n",
    "top_2000.to_pickle('top_2000_ids.pickle')"
   ]
  }
 ],
 "metadata": {
  "kernelspec": {
   "display_name": "Python 3",
   "language": "python",
   "name": "python3"
  },
  "language_info": {
   "codemirror_mode": {
    "name": "ipython",
    "version": 3
   },
   "file_extension": ".py",
   "mimetype": "text/x-python",
   "name": "python",
   "nbconvert_exporter": "python",
   "pygments_lexer": "ipython3",
   "version": "3.7.6-final"
  }
 },
 "nbformat": 4,
 "nbformat_minor": 4
}